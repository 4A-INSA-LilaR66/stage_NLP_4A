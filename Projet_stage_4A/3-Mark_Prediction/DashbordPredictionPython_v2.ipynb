{
 "cells": [
  {
   "cell_type": "markdown",
   "id": "e87c6f70",
   "metadata": {},
   "source": [
    "# Dashbord Project Part 3: Prediction"
   ]
  },
  {
   "cell_type": "code",
   "execution_count": 22,
   "id": "4a754da4",
   "metadata": {},
   "outputs": [],
   "source": [
    "#libraries\n",
    "#----------------------------------------------\n",
    "import pandas as pd\n",
    "from pylab import * \n",
    "import numpy as np\n",
    "import numpy.linalg as npl\n",
    "import matplotlib.pyplot as plt #to plot graphs\n",
    "import matplotlib.patches as mpatches #to customize legend\n",
    "import seaborn as sns #to plot graphs\n",
    "import math \n",
    "import re #to find integers & floats in a string \n",
    "from statsmodels.graphics.mosaicplot import mosaic #for mosaic plot\n",
    "from collections import Counter #to count values in a dataframe or array\n",
    "from datetime import date, timedelta, datetime #for the date\n",
    "import datetime as dt\n",
    "import pylab \n",
    "import scipy.stats as stats\n",
    "import statsmodels\n",
    "import os\n",
    "\n",
    "# To import missingpy: \n",
    "# When importing missingpy it tries to import automatically 'sklearn.neighbors.base' however in the new versions \n",
    "# of sklearn it has been renamed to 'sklearn.neighbors._base' so we have to manually import it to work. \n",
    "import sklearn.neighbors._base\n",
    "sys.modules['sklearn.neighbors.base'] = sklearn.neighbors._base\n",
    "from missingpy import MissForest\n",
    "\n",
    "from sklearn.model_selection import train_test_split \n",
    "from sklearn.model_selection import cross_val_score\n",
    "from sklearn.model_selection import RepeatedStratifiedKFold\n",
    "from sklearn.linear_model import LogisticRegression\n",
    "from sklearn.model_selection import GridSearchCV\n",
    "\n",
    "from sklearn.preprocessing import StandardScaler\n",
    "from sklearn.feature_selection import RFE\n",
    "from sklearn.pipeline import Pipeline\n",
    "from sklearn.feature_selection import RFECV\n",
    "from sklearn.feature_selection import SequentialFeatureSelector\n",
    "\n",
    "from sklearn.neural_network import MLPClassifier\n",
    "\n",
    "from sklearn.metrics import accuracy_score, f1_score"
   ]
  },
  {
   "cell_type": "markdown",
   "id": "f0288703",
   "metadata": {},
   "source": [
    "Run: \n",
    "\n",
    "1) everythig without satisfactoriness & sentiment analysis (OK 3 labels)\\\n",
    "2) everything without sentiment analysis features (OK 3 labels) \\\n",
    "3) everything without satisfactoriness features (OK 3 labels)\\\n",
    "4) everything (added by me) (OK 3 labels, 2 labels)\n",
    "\n",
    "Try NN: 4-5 layers "
   ]
  },
  {
   "cell_type": "markdown",
   "id": "73d878f8",
   "metadata": {},
   "source": [
    "## File Loading"
   ]
  },
  {
   "cell_type": "code",
   "execution_count": 23,
   "id": "33f95060",
   "metadata": {},
   "outputs": [],
   "source": [
    "# File loading. The file must be in the current directory\n",
    "#---------------------------------------\n",
    "dfPredC_3 = pd.read_pickle(\"data/dfPredC_3.pkl\") #3 labels\n",
    "dfPredC_2 = pd.read_pickle(\"data/dfPredC_2.pkl\") #2 labels\n",
    "\n",
    "#dfPredC_3 = pd.read_excel(os.getcwd() + \"\\\\dfPredC_3.xslx\") #3 labels\n",
    "#dfPredC_2 = pd.read_excel(\"dfPredC_2.xslx\") #2 labels"
   ]
  },
  {
   "cell_type": "code",
   "execution_count": 24,
   "id": "054eb6ab",
   "metadata": {},
   "outputs": [
    {
     "data": {
      "text/html": [
       "<div>\n",
       "<style scoped>\n",
       "    .dataframe tbody tr th:only-of-type {\n",
       "        vertical-align: middle;\n",
       "    }\n",
       "\n",
       "    .dataframe tbody tr th {\n",
       "        vertical-align: top;\n",
       "    }\n",
       "\n",
       "    .dataframe thead th {\n",
       "        text-align: right;\n",
       "    }\n",
       "</style>\n",
       "<table border=\"1\" class=\"dataframe\">\n",
       "  <thead>\n",
       "    <tr style=\"text-align: right;\">\n",
       "      <th></th>\n",
       "      <th>Student</th>\n",
       "      <th>Marks</th>\n",
       "      <th>module</th>\n",
       "      <th>Year</th>\n",
       "      <th>Supervisor</th>\n",
       "      <th>nbMeetings</th>\n",
       "      <th>worstProgress</th>\n",
       "      <th>meanTimeBetweenMeet</th>\n",
       "      <th>meanTimeMeet</th>\n",
       "      <th>timeFirstDecay</th>\n",
       "      <th>mainSentiment</th>\n",
       "      <th>is0Sentiment</th>\n",
       "    </tr>\n",
       "  </thead>\n",
       "  <tbody>\n",
       "    <tr>\n",
       "      <th>0</th>\n",
       "      <td>4</td>\n",
       "      <td>H4</td>\n",
       "      <td>mcm</td>\n",
       "      <td>2018</td>\n",
       "      <td>17</td>\n",
       "      <td>2</td>\n",
       "      <td>satisfactory</td>\n",
       "      <td>72</td>\n",
       "      <td>NaN</td>\n",
       "      <td>0.0</td>\n",
       "      <td>1.0</td>\n",
       "      <td>False</td>\n",
       "    </tr>\n",
       "    <tr>\n",
       "      <th>4</th>\n",
       "      <td>14</td>\n",
       "      <td>H5</td>\n",
       "      <td>mcm</td>\n",
       "      <td>2018</td>\n",
       "      <td>41</td>\n",
       "      <td>1</td>\n",
       "      <td>satisfactory</td>\n",
       "      <td>0</td>\n",
       "      <td>10.000000</td>\n",
       "      <td>0.0</td>\n",
       "      <td>2.0</td>\n",
       "      <td>False</td>\n",
       "    </tr>\n",
       "    <tr>\n",
       "      <th>7</th>\n",
       "      <td>66</td>\n",
       "      <td>H5</td>\n",
       "      <td>mcm</td>\n",
       "      <td>2018</td>\n",
       "      <td>27</td>\n",
       "      <td>5</td>\n",
       "      <td>unsatisfactory</td>\n",
       "      <td>29</td>\n",
       "      <td>NaN</td>\n",
       "      <td>176.0</td>\n",
       "      <td>0.0</td>\n",
       "      <td>True</td>\n",
       "    </tr>\n",
       "    <tr>\n",
       "      <th>15</th>\n",
       "      <td>79</td>\n",
       "      <td>H5</td>\n",
       "      <td>mcm</td>\n",
       "      <td>2018</td>\n",
       "      <td>5</td>\n",
       "      <td>8</td>\n",
       "      <td>unsatisfactory</td>\n",
       "      <td>21</td>\n",
       "      <td>31.428571</td>\n",
       "      <td>143.0</td>\n",
       "      <td>1.0</td>\n",
       "      <td>True</td>\n",
       "    </tr>\n",
       "    <tr>\n",
       "      <th>22</th>\n",
       "      <td>109</td>\n",
       "      <td>N</td>\n",
       "      <td>mcm</td>\n",
       "      <td>2018</td>\n",
       "      <td>45</td>\n",
       "      <td>5</td>\n",
       "      <td>satisfactory</td>\n",
       "      <td>34</td>\n",
       "      <td>NaN</td>\n",
       "      <td>0.0</td>\n",
       "      <td>1.0</td>\n",
       "      <td>False</td>\n",
       "    </tr>\n",
       "  </tbody>\n",
       "</table>\n",
       "</div>"
      ],
      "text/plain": [
       "    Student Marks module  Year  Supervisor  nbMeetings   worstProgress  \\\n",
       "0         4    H4    mcm  2018          17           2    satisfactory   \n",
       "4        14    H5    mcm  2018          41           1    satisfactory   \n",
       "7        66    H5    mcm  2018          27           5  unsatisfactory   \n",
       "15       79    H5    mcm  2018           5           8  unsatisfactory   \n",
       "22      109     N    mcm  2018          45           5    satisfactory   \n",
       "\n",
       "    meanTimeBetweenMeet  meanTimeMeet  timeFirstDecay mainSentiment  \\\n",
       "0                    72           NaN             0.0           1.0   \n",
       "4                     0     10.000000             0.0           2.0   \n",
       "7                    29           NaN           176.0           0.0   \n",
       "15                   21     31.428571           143.0           1.0   \n",
       "22                   34           NaN             0.0           1.0   \n",
       "\n",
       "   is0Sentiment  \n",
       "0         False  \n",
       "4         False  \n",
       "7          True  \n",
       "15         True  \n",
       "22        False  "
      ]
     },
     "execution_count": 24,
     "metadata": {},
     "output_type": "execute_result"
    }
   ],
   "source": [
    "dfPredC_3.head()"
   ]
  },
  {
   "cell_type": "code",
   "execution_count": 25,
   "id": "8265e5f6",
   "metadata": {},
   "outputs": [
    {
     "data": {
      "text/html": [
       "<div>\n",
       "<style scoped>\n",
       "    .dataframe tbody tr th:only-of-type {\n",
       "        vertical-align: middle;\n",
       "    }\n",
       "\n",
       "    .dataframe tbody tr th {\n",
       "        vertical-align: top;\n",
       "    }\n",
       "\n",
       "    .dataframe thead th {\n",
       "        text-align: right;\n",
       "    }\n",
       "</style>\n",
       "<table border=\"1\" class=\"dataframe\">\n",
       "  <thead>\n",
       "    <tr style=\"text-align: right;\">\n",
       "      <th></th>\n",
       "      <th>Student</th>\n",
       "      <th>Marks</th>\n",
       "      <th>module</th>\n",
       "      <th>Year</th>\n",
       "      <th>Supervisor</th>\n",
       "      <th>nbMeetings</th>\n",
       "      <th>worstProgress</th>\n",
       "      <th>meanTimeBetweenMeet</th>\n",
       "      <th>meanTimeMeet</th>\n",
       "      <th>timeFirstDecay</th>\n",
       "      <th>mainSentiment</th>\n",
       "      <th>is0Sentiment</th>\n",
       "    </tr>\n",
       "  </thead>\n",
       "  <tbody>\n",
       "    <tr>\n",
       "      <th>0</th>\n",
       "      <td>4</td>\n",
       "      <td>H4</td>\n",
       "      <td>mcm</td>\n",
       "      <td>2018</td>\n",
       "      <td>17</td>\n",
       "      <td>2</td>\n",
       "      <td>satisfactory</td>\n",
       "      <td>72</td>\n",
       "      <td>NaN</td>\n",
       "      <td>0.0</td>\n",
       "      <td>1.0</td>\n",
       "      <td>False</td>\n",
       "    </tr>\n",
       "    <tr>\n",
       "      <th>4</th>\n",
       "      <td>14</td>\n",
       "      <td>H5</td>\n",
       "      <td>mcm</td>\n",
       "      <td>2018</td>\n",
       "      <td>41</td>\n",
       "      <td>1</td>\n",
       "      <td>satisfactory</td>\n",
       "      <td>0</td>\n",
       "      <td>10.000000</td>\n",
       "      <td>0.0</td>\n",
       "      <td>1.0</td>\n",
       "      <td>False</td>\n",
       "    </tr>\n",
       "    <tr>\n",
       "      <th>7</th>\n",
       "      <td>66</td>\n",
       "      <td>H5</td>\n",
       "      <td>mcm</td>\n",
       "      <td>2018</td>\n",
       "      <td>27</td>\n",
       "      <td>5</td>\n",
       "      <td>unsatisfactory</td>\n",
       "      <td>29</td>\n",
       "      <td>NaN</td>\n",
       "      <td>176.0</td>\n",
       "      <td>0.0</td>\n",
       "      <td>True</td>\n",
       "    </tr>\n",
       "    <tr>\n",
       "      <th>15</th>\n",
       "      <td>79</td>\n",
       "      <td>H5</td>\n",
       "      <td>mcm</td>\n",
       "      <td>2018</td>\n",
       "      <td>5</td>\n",
       "      <td>8</td>\n",
       "      <td>unsatisfactory</td>\n",
       "      <td>21</td>\n",
       "      <td>31.428571</td>\n",
       "      <td>143.0</td>\n",
       "      <td>1.0</td>\n",
       "      <td>True</td>\n",
       "    </tr>\n",
       "    <tr>\n",
       "      <th>22</th>\n",
       "      <td>109</td>\n",
       "      <td>N</td>\n",
       "      <td>mcm</td>\n",
       "      <td>2018</td>\n",
       "      <td>45</td>\n",
       "      <td>5</td>\n",
       "      <td>satisfactory</td>\n",
       "      <td>34</td>\n",
       "      <td>NaN</td>\n",
       "      <td>0.0</td>\n",
       "      <td>1.0</td>\n",
       "      <td>False</td>\n",
       "    </tr>\n",
       "  </tbody>\n",
       "</table>\n",
       "</div>"
      ],
      "text/plain": [
       "    Student Marks module  Year  Supervisor  nbMeetings   worstProgress  \\\n",
       "0         4    H4    mcm  2018          17           2    satisfactory   \n",
       "4        14    H5    mcm  2018          41           1    satisfactory   \n",
       "7        66    H5    mcm  2018          27           5  unsatisfactory   \n",
       "15       79    H5    mcm  2018           5           8  unsatisfactory   \n",
       "22      109     N    mcm  2018          45           5    satisfactory   \n",
       "\n",
       "    meanTimeBetweenMeet  meanTimeMeet  timeFirstDecay mainSentiment  \\\n",
       "0                    72           NaN             0.0           1.0   \n",
       "4                     0     10.000000             0.0           1.0   \n",
       "7                    29           NaN           176.0           0.0   \n",
       "15                   21     31.428571           143.0           1.0   \n",
       "22                   34           NaN             0.0           1.0   \n",
       "\n",
       "   is0Sentiment  \n",
       "0         False  \n",
       "4         False  \n",
       "7          True  \n",
       "15         True  \n",
       "22        False  "
      ]
     },
     "execution_count": 25,
     "metadata": {},
     "output_type": "execute_result"
    }
   ],
   "source": [
    "dfPredC_2.head()"
   ]
  },
  {
   "cell_type": "code",
   "execution_count": 26,
   "id": "2377ef6b",
   "metadata": {},
   "outputs": [
    {
     "name": "stdout",
     "output_type": "stream",
     "text": [
      "---------\n",
      "dfPredC_3:\n",
      "---------\n",
      "Student                   int32\n",
      "Marks                  category\n",
      "module                 category\n",
      "Year                      int64\n",
      "Supervisor                int32\n",
      "nbMeetings                int64\n",
      "worstProgress          category\n",
      "meanTimeBetweenMeet       int64\n",
      "meanTimeMeet            float64\n",
      "timeFirstDecay          float64\n",
      "mainSentiment          category\n",
      "is0Sentiment           category\n",
      "dtype: object\n",
      "---------\n",
      "dfPredC_2:\n",
      "---------\n",
      "Student                   int32\n",
      "Marks                  category\n",
      "module                 category\n",
      "Year                      int64\n",
      "Supervisor                int32\n",
      "nbMeetings                int64\n",
      "worstProgress          category\n",
      "meanTimeBetweenMeet       int64\n",
      "meanTimeMeet            float64\n",
      "timeFirstDecay          float64\n",
      "mainSentiment          category\n",
      "is0Sentiment           category\n",
      "dtype: object\n"
     ]
    }
   ],
   "source": [
    "print(\"---------\\ndfPredC_3:\\n---------\")\n",
    "print(dfPredC_3.dtypes)\n",
    "print(\"---------\\ndfPredC_2:\\n---------\")\n",
    "print(dfPredC_2.dtypes)"
   ]
  },
  {
   "cell_type": "markdown",
   "id": "045de143",
   "metadata": {},
   "source": [
    "## Create Dummy variables \n",
    "To transform categorical variables into real numbers"
   ]
  },
  {
   "cell_type": "markdown",
   "id": "f6bf49a2",
   "metadata": {},
   "source": [
    "<font color = 'blue'> **Modify this cell** </font>"
   ]
  },
  {
   "cell_type": "code",
   "execution_count": 27,
   "id": "9720dd1a",
   "metadata": {},
   "outputs": [],
   "source": [
    "#-- 3 labels\n",
    "dfPredC = dfPredC_3\n",
    "#-- 2 labels\n",
    "#dfPredC = dfPredC_2"
   ]
  },
  {
   "cell_type": "markdown",
   "id": "77a76b9f",
   "metadata": {},
   "source": [
    "<font color = 'blue'> **Modify this cell** </font>"
   ]
  },
  {
   "cell_type": "code",
   "execution_count": 28,
   "id": "8b5d4ff4",
   "metadata": {},
   "outputs": [],
   "source": [
    "### Remove some features from dfPredC if necessary\n",
    "#------------------------------------------------\n",
    "# Remove features related to sentiment analysis \n",
    "#dfPredC.drop([\"mainSentiment\",\"is0Sentiment\"],axis=1,inplace = True)\n",
    "             \n",
    "# Remove features related to satisfactoriness\n",
    "#dfPredC.drop([\"worstProgress\",\"timeFirstDecay\"],axis=1,inplace = True)\n",
    "\n",
    "# Remove features related to satisfactoriness and sentiment analysis\n",
    "#dfPredC.drop([\"mainSentiment\",\"is0Sentiment\",\"worstProgress\",\"timeFirstDecay\"],axis=1,inplace = True)"
   ]
  },
  {
   "cell_type": "code",
   "execution_count": 29,
   "id": "490f531e",
   "metadata": {
    "scrolled": true
   },
   "outputs": [
    {
     "data": {
      "text/html": [
       "<div>\n",
       "<style scoped>\n",
       "    .dataframe tbody tr th:only-of-type {\n",
       "        vertical-align: middle;\n",
       "    }\n",
       "\n",
       "    .dataframe tbody tr th {\n",
       "        vertical-align: top;\n",
       "    }\n",
       "\n",
       "    .dataframe thead th {\n",
       "        text-align: right;\n",
       "    }\n",
       "</style>\n",
       "<table border=\"1\" class=\"dataframe\">\n",
       "  <thead>\n",
       "    <tr style=\"text-align: right;\">\n",
       "      <th></th>\n",
       "      <th>Student</th>\n",
       "      <th>Marks</th>\n",
       "      <th>module</th>\n",
       "      <th>Year</th>\n",
       "      <th>Supervisor</th>\n",
       "      <th>nbMeetings</th>\n",
       "      <th>worstProgress</th>\n",
       "      <th>meanTimeBetweenMeet</th>\n",
       "      <th>meanTimeMeet</th>\n",
       "      <th>timeFirstDecay</th>\n",
       "      <th>mainSentiment</th>\n",
       "      <th>is0Sentiment</th>\n",
       "    </tr>\n",
       "  </thead>\n",
       "  <tbody>\n",
       "    <tr>\n",
       "      <th>0</th>\n",
       "      <td>4</td>\n",
       "      <td>H4</td>\n",
       "      <td>mcm</td>\n",
       "      <td>2018</td>\n",
       "      <td>17</td>\n",
       "      <td>2</td>\n",
       "      <td>satisfactory</td>\n",
       "      <td>72</td>\n",
       "      <td>NaN</td>\n",
       "      <td>0.0</td>\n",
       "      <td>1.0</td>\n",
       "      <td>False</td>\n",
       "    </tr>\n",
       "    <tr>\n",
       "      <th>4</th>\n",
       "      <td>14</td>\n",
       "      <td>H5</td>\n",
       "      <td>mcm</td>\n",
       "      <td>2018</td>\n",
       "      <td>41</td>\n",
       "      <td>1</td>\n",
       "      <td>satisfactory</td>\n",
       "      <td>0</td>\n",
       "      <td>10.000000</td>\n",
       "      <td>0.0</td>\n",
       "      <td>2.0</td>\n",
       "      <td>False</td>\n",
       "    </tr>\n",
       "    <tr>\n",
       "      <th>7</th>\n",
       "      <td>66</td>\n",
       "      <td>H5</td>\n",
       "      <td>mcm</td>\n",
       "      <td>2018</td>\n",
       "      <td>27</td>\n",
       "      <td>5</td>\n",
       "      <td>unsatisfactory</td>\n",
       "      <td>29</td>\n",
       "      <td>NaN</td>\n",
       "      <td>176.0</td>\n",
       "      <td>0.0</td>\n",
       "      <td>True</td>\n",
       "    </tr>\n",
       "    <tr>\n",
       "      <th>15</th>\n",
       "      <td>79</td>\n",
       "      <td>H5</td>\n",
       "      <td>mcm</td>\n",
       "      <td>2018</td>\n",
       "      <td>5</td>\n",
       "      <td>8</td>\n",
       "      <td>unsatisfactory</td>\n",
       "      <td>21</td>\n",
       "      <td>31.428571</td>\n",
       "      <td>143.0</td>\n",
       "      <td>1.0</td>\n",
       "      <td>True</td>\n",
       "    </tr>\n",
       "    <tr>\n",
       "      <th>22</th>\n",
       "      <td>109</td>\n",
       "      <td>N</td>\n",
       "      <td>mcm</td>\n",
       "      <td>2018</td>\n",
       "      <td>45</td>\n",
       "      <td>5</td>\n",
       "      <td>satisfactory</td>\n",
       "      <td>34</td>\n",
       "      <td>NaN</td>\n",
       "      <td>0.0</td>\n",
       "      <td>1.0</td>\n",
       "      <td>False</td>\n",
       "    </tr>\n",
       "  </tbody>\n",
       "</table>\n",
       "</div>"
      ],
      "text/plain": [
       "    Student Marks module  Year  Supervisor  nbMeetings   worstProgress  \\\n",
       "0         4    H4    mcm  2018          17           2    satisfactory   \n",
       "4        14    H5    mcm  2018          41           1    satisfactory   \n",
       "7        66    H5    mcm  2018          27           5  unsatisfactory   \n",
       "15       79    H5    mcm  2018           5           8  unsatisfactory   \n",
       "22      109     N    mcm  2018          45           5    satisfactory   \n",
       "\n",
       "    meanTimeBetweenMeet  meanTimeMeet  timeFirstDecay mainSentiment  \\\n",
       "0                    72           NaN             0.0           1.0   \n",
       "4                     0     10.000000             0.0           2.0   \n",
       "7                    29           NaN           176.0           0.0   \n",
       "15                   21     31.428571           143.0           1.0   \n",
       "22                   34           NaN             0.0           1.0   \n",
       "\n",
       "   is0Sentiment  \n",
       "0         False  \n",
       "4         False  \n",
       "7          True  \n",
       "15         True  \n",
       "22        False  "
      ]
     },
     "execution_count": 29,
     "metadata": {},
     "output_type": "execute_result"
    }
   ],
   "source": [
    "dfPredC.head()"
   ]
  },
  {
   "cell_type": "code",
   "execution_count": 30,
   "id": "43b40cbf",
   "metadata": {},
   "outputs": [],
   "source": [
    "y = dfPredC[\"Marks\"] #variable response\n",
    "X = dfPredC.drop(\"Marks\",axis=1) #explanatory variables"
   ]
  },
  {
   "cell_type": "code",
   "execution_count": 31,
   "id": "42030f37",
   "metadata": {},
   "outputs": [
    {
     "name": "stdout",
     "output_type": "stream",
     "text": [
      "number of variables: 20\n"
     ]
    }
   ],
   "source": [
    "X = pd.get_dummies(X) #create dummy variables\n",
    "print(\"number of variables:\",np.shape(X)[1])"
   ]
  },
  {
   "cell_type": "code",
   "execution_count": 32,
   "id": "1a71c3f0",
   "metadata": {
    "scrolled": true
   },
   "outputs": [
    {
     "data": {
      "text/html": [
       "<div>\n",
       "<style scoped>\n",
       "    .dataframe tbody tr th:only-of-type {\n",
       "        vertical-align: middle;\n",
       "    }\n",
       "\n",
       "    .dataframe tbody tr th {\n",
       "        vertical-align: top;\n",
       "    }\n",
       "\n",
       "    .dataframe thead th {\n",
       "        text-align: right;\n",
       "    }\n",
       "</style>\n",
       "<table border=\"1\" class=\"dataframe\">\n",
       "  <thead>\n",
       "    <tr style=\"text-align: right;\">\n",
       "      <th></th>\n",
       "      <th>Student</th>\n",
       "      <th>Year</th>\n",
       "      <th>Supervisor</th>\n",
       "      <th>nbMeetings</th>\n",
       "      <th>meanTimeBetweenMeet</th>\n",
       "      <th>meanTimeMeet</th>\n",
       "      <th>timeFirstDecay</th>\n",
       "      <th>module_ca326</th>\n",
       "      <th>module_ca400</th>\n",
       "      <th>module_ca472</th>\n",
       "      <th>module_mcm</th>\n",
       "      <th>module_pnu</th>\n",
       "      <th>worstProgress_moderate</th>\n",
       "      <th>worstProgress_satisfactory</th>\n",
       "      <th>worstProgress_unsatisfactory</th>\n",
       "      <th>mainSentiment_0.0</th>\n",
       "      <th>mainSentiment_1.0</th>\n",
       "      <th>mainSentiment_2.0</th>\n",
       "      <th>is0Sentiment_False</th>\n",
       "      <th>is0Sentiment_True</th>\n",
       "    </tr>\n",
       "  </thead>\n",
       "  <tbody>\n",
       "    <tr>\n",
       "      <th>0</th>\n",
       "      <td>4</td>\n",
       "      <td>2018</td>\n",
       "      <td>17</td>\n",
       "      <td>2</td>\n",
       "      <td>72</td>\n",
       "      <td>NaN</td>\n",
       "      <td>0.0</td>\n",
       "      <td>0</td>\n",
       "      <td>0</td>\n",
       "      <td>0</td>\n",
       "      <td>1</td>\n",
       "      <td>0</td>\n",
       "      <td>0</td>\n",
       "      <td>1</td>\n",
       "      <td>0</td>\n",
       "      <td>0</td>\n",
       "      <td>1</td>\n",
       "      <td>0</td>\n",
       "      <td>1</td>\n",
       "      <td>0</td>\n",
       "    </tr>\n",
       "    <tr>\n",
       "      <th>4</th>\n",
       "      <td>14</td>\n",
       "      <td>2018</td>\n",
       "      <td>41</td>\n",
       "      <td>1</td>\n",
       "      <td>0</td>\n",
       "      <td>10.000000</td>\n",
       "      <td>0.0</td>\n",
       "      <td>0</td>\n",
       "      <td>0</td>\n",
       "      <td>0</td>\n",
       "      <td>1</td>\n",
       "      <td>0</td>\n",
       "      <td>0</td>\n",
       "      <td>1</td>\n",
       "      <td>0</td>\n",
       "      <td>0</td>\n",
       "      <td>0</td>\n",
       "      <td>1</td>\n",
       "      <td>1</td>\n",
       "      <td>0</td>\n",
       "    </tr>\n",
       "    <tr>\n",
       "      <th>7</th>\n",
       "      <td>66</td>\n",
       "      <td>2018</td>\n",
       "      <td>27</td>\n",
       "      <td>5</td>\n",
       "      <td>29</td>\n",
       "      <td>NaN</td>\n",
       "      <td>176.0</td>\n",
       "      <td>0</td>\n",
       "      <td>0</td>\n",
       "      <td>0</td>\n",
       "      <td>1</td>\n",
       "      <td>0</td>\n",
       "      <td>0</td>\n",
       "      <td>0</td>\n",
       "      <td>1</td>\n",
       "      <td>1</td>\n",
       "      <td>0</td>\n",
       "      <td>0</td>\n",
       "      <td>0</td>\n",
       "      <td>1</td>\n",
       "    </tr>\n",
       "    <tr>\n",
       "      <th>15</th>\n",
       "      <td>79</td>\n",
       "      <td>2018</td>\n",
       "      <td>5</td>\n",
       "      <td>8</td>\n",
       "      <td>21</td>\n",
       "      <td>31.428571</td>\n",
       "      <td>143.0</td>\n",
       "      <td>0</td>\n",
       "      <td>0</td>\n",
       "      <td>0</td>\n",
       "      <td>1</td>\n",
       "      <td>0</td>\n",
       "      <td>0</td>\n",
       "      <td>0</td>\n",
       "      <td>1</td>\n",
       "      <td>0</td>\n",
       "      <td>1</td>\n",
       "      <td>0</td>\n",
       "      <td>0</td>\n",
       "      <td>1</td>\n",
       "    </tr>\n",
       "    <tr>\n",
       "      <th>22</th>\n",
       "      <td>109</td>\n",
       "      <td>2018</td>\n",
       "      <td>45</td>\n",
       "      <td>5</td>\n",
       "      <td>34</td>\n",
       "      <td>NaN</td>\n",
       "      <td>0.0</td>\n",
       "      <td>0</td>\n",
       "      <td>0</td>\n",
       "      <td>0</td>\n",
       "      <td>1</td>\n",
       "      <td>0</td>\n",
       "      <td>0</td>\n",
       "      <td>1</td>\n",
       "      <td>0</td>\n",
       "      <td>0</td>\n",
       "      <td>1</td>\n",
       "      <td>0</td>\n",
       "      <td>1</td>\n",
       "      <td>0</td>\n",
       "    </tr>\n",
       "  </tbody>\n",
       "</table>\n",
       "</div>"
      ],
      "text/plain": [
       "    Student  Year  Supervisor  nbMeetings  meanTimeBetweenMeet  meanTimeMeet  \\\n",
       "0         4  2018          17           2                   72           NaN   \n",
       "4        14  2018          41           1                    0     10.000000   \n",
       "7        66  2018          27           5                   29           NaN   \n",
       "15       79  2018           5           8                   21     31.428571   \n",
       "22      109  2018          45           5                   34           NaN   \n",
       "\n",
       "    timeFirstDecay  module_ca326  module_ca400  module_ca472  module_mcm  \\\n",
       "0              0.0             0             0             0           1   \n",
       "4              0.0             0             0             0           1   \n",
       "7            176.0             0             0             0           1   \n",
       "15           143.0             0             0             0           1   \n",
       "22             0.0             0             0             0           1   \n",
       "\n",
       "    module_pnu  worstProgress_moderate  worstProgress_satisfactory  \\\n",
       "0            0                       0                           1   \n",
       "4            0                       0                           1   \n",
       "7            0                       0                           0   \n",
       "15           0                       0                           0   \n",
       "22           0                       0                           1   \n",
       "\n",
       "    worstProgress_unsatisfactory  mainSentiment_0.0  mainSentiment_1.0  \\\n",
       "0                              0                  0                  1   \n",
       "4                              0                  0                  0   \n",
       "7                              1                  1                  0   \n",
       "15                             1                  0                  1   \n",
       "22                             0                  0                  1   \n",
       "\n",
       "    mainSentiment_2.0  is0Sentiment_False  is0Sentiment_True  \n",
       "0                   0                   1                  0  \n",
       "4                   1                   1                  0  \n",
       "7                   0                   0                  1  \n",
       "15                  0                   0                  1  \n",
       "22                  0                   1                  0  "
      ]
     },
     "execution_count": 32,
     "metadata": {},
     "output_type": "execute_result"
    }
   ],
   "source": [
    "X.head()"
   ]
  },
  {
   "cell_type": "markdown",
   "id": "fac962dd",
   "metadata": {},
   "source": [
    "## Data imputation\n",
    "\n",
    "- Apparently, the Random Forest algorithm (RF) cannot handle missing (NaN) values. The reason is beacause this RF algorithm is not build on CART trees (which we know can handle missing values) but on other decision trees for computation reasons: https://stats.stackexchange.com/questions/98953/why-doesnt-random-forest-handle-missing-values-in-predictors\n",
    "\n",
    "- Multinomial logistic regression cannot handle missing values too. \n",
    "\n",
    "We need to imput data.\\\n",
    "Tutorial used: https://towardsdatascience.com/how-to-use-python-and-missforest-algorithm-to-impute-missing-data-ed45eb47cb9a"
   ]
  },
  {
   "cell_type": "markdown",
   "id": "1ad2dc62",
   "metadata": {},
   "source": [
    "<font color = 'blue'> **Modify this cell** </font>"
   ]
  },
  {
   "cell_type": "code",
   "execution_count": 33,
   "id": "a6523869",
   "metadata": {},
   "outputs": [
    {
     "name": "stdout",
     "output_type": "stream",
     "text": [
      "Iteration: 0\n",
      "Iteration: 1\n",
      "Iteration: 2\n",
      "Iteration: 3\n"
     ]
    }
   ],
   "source": [
    "# Ignore all warnings produced by \"MissForest\". Those are \"future warnings\"\n",
    "#---------------------------------------\n",
    "import warnings\n",
    "warnings.filterwarnings(\"ignore\")\n",
    "\n",
    "# Make an instance and perform the imputation\n",
    "# For imputation, we can use all explanaroty variables (even columns without mising values)\n",
    "#---------------------------------------\n",
    "imputer = MissForest()#data imputation with missForest\n",
    "#================================\n",
    "imputer.fit(X,cat_vars = np.arange(6,len(X.columns))) #specify categorical variables \n",
    "#================================\n",
    "\n",
    "X_imp = pd.DataFrame(imputer.transform(X)) \n",
    "\n",
    "# Note: the categorical variables need to be one-hot-encoded (also known as dummy encoded)\n",
    "# and they need to be explicitly identified during the imputer's fit() method call\n",
    "# documentation: \n",
    "# https://github.com/epsilon-machine/missingpy\n",
    "# https://towardsdatascience.com/how-to-use-python-and-missforest-algorithm-to-impute-missing-data-ed45eb47cb9a"
   ]
  },
  {
   "cell_type": "code",
   "execution_count": 34,
   "id": "a79efdcf",
   "metadata": {},
   "outputs": [],
   "source": [
    "# rename all columns with the correct name:\n",
    "#---------------------------------------\n",
    "for i in range(X_imp.shape[1]):\n",
    "    X_imp.rename(columns = {i:X.columns[i]},inplace=True)\n",
    "    \n",
    "# Assign Student IDs to index:\n",
    "#---------------------------------------\n",
    "X_imp.index = X_imp.Student #indices are now Student IDs\n",
    "X_imp.drop(\"Student\",axis=1,inplace=True) #drop Student IDs column\n",
    "\n",
    "# Assign correct type to data:\n",
    "#---------------------------------------\n",
    "X_imp.index= X_imp.index.astype(int)"
   ]
  },
  {
   "cell_type": "code",
   "execution_count": 35,
   "id": "cd0c7d6a",
   "metadata": {},
   "outputs": [
    {
     "data": {
      "text/plain": [
       "Year                            float64\n",
       "Supervisor                      float64\n",
       "nbMeetings                      float64\n",
       "meanTimeBetweenMeet             float64\n",
       "meanTimeMeet                    float64\n",
       "timeFirstDecay                  float64\n",
       "module_ca326                    float64\n",
       "module_ca400                    float64\n",
       "module_ca472                    float64\n",
       "module_mcm                      float64\n",
       "module_pnu                      float64\n",
       "worstProgress_moderate          float64\n",
       "worstProgress_satisfactory      float64\n",
       "worstProgress_unsatisfactory    float64\n",
       "mainSentiment_0.0               float64\n",
       "mainSentiment_1.0               float64\n",
       "mainSentiment_2.0               float64\n",
       "is0Sentiment_False              float64\n",
       "is0Sentiment_True               float64\n",
       "dtype: object"
      ]
     },
     "execution_count": 35,
     "metadata": {},
     "output_type": "execute_result"
    }
   ],
   "source": [
    "X_imp.dtypes"
   ]
  },
  {
   "cell_type": "code",
   "execution_count": 36,
   "id": "53982466",
   "metadata": {},
   "outputs": [
    {
     "data": {
      "text/html": [
       "<div>\n",
       "<style scoped>\n",
       "    .dataframe tbody tr th:only-of-type {\n",
       "        vertical-align: middle;\n",
       "    }\n",
       "\n",
       "    .dataframe tbody tr th {\n",
       "        vertical-align: top;\n",
       "    }\n",
       "\n",
       "    .dataframe thead th {\n",
       "        text-align: right;\n",
       "    }\n",
       "</style>\n",
       "<table border=\"1\" class=\"dataframe\">\n",
       "  <thead>\n",
       "    <tr style=\"text-align: right;\">\n",
       "      <th></th>\n",
       "      <th>Year</th>\n",
       "      <th>Supervisor</th>\n",
       "      <th>nbMeetings</th>\n",
       "      <th>meanTimeBetweenMeet</th>\n",
       "      <th>meanTimeMeet</th>\n",
       "      <th>timeFirstDecay</th>\n",
       "      <th>module_ca326</th>\n",
       "      <th>module_ca400</th>\n",
       "      <th>module_ca472</th>\n",
       "      <th>module_mcm</th>\n",
       "      <th>module_pnu</th>\n",
       "      <th>worstProgress_moderate</th>\n",
       "      <th>worstProgress_satisfactory</th>\n",
       "      <th>worstProgress_unsatisfactory</th>\n",
       "      <th>mainSentiment_0.0</th>\n",
       "      <th>mainSentiment_1.0</th>\n",
       "      <th>mainSentiment_2.0</th>\n",
       "      <th>is0Sentiment_False</th>\n",
       "      <th>is0Sentiment_True</th>\n",
       "    </tr>\n",
       "    <tr>\n",
       "      <th>Student</th>\n",
       "      <th></th>\n",
       "      <th></th>\n",
       "      <th></th>\n",
       "      <th></th>\n",
       "      <th></th>\n",
       "      <th></th>\n",
       "      <th></th>\n",
       "      <th></th>\n",
       "      <th></th>\n",
       "      <th></th>\n",
       "      <th></th>\n",
       "      <th></th>\n",
       "      <th></th>\n",
       "      <th></th>\n",
       "      <th></th>\n",
       "      <th></th>\n",
       "      <th></th>\n",
       "      <th></th>\n",
       "      <th></th>\n",
       "    </tr>\n",
       "  </thead>\n",
       "  <tbody>\n",
       "    <tr>\n",
       "      <th>4</th>\n",
       "      <td>2018.0</td>\n",
       "      <td>17.0</td>\n",
       "      <td>2.0</td>\n",
       "      <td>72.0</td>\n",
       "      <td>135.535429</td>\n",
       "      <td>0.0</td>\n",
       "      <td>0.0</td>\n",
       "      <td>0.0</td>\n",
       "      <td>0.0</td>\n",
       "      <td>1.0</td>\n",
       "      <td>0.0</td>\n",
       "      <td>0.0</td>\n",
       "      <td>1.0</td>\n",
       "      <td>0.0</td>\n",
       "      <td>0.0</td>\n",
       "      <td>1.0</td>\n",
       "      <td>0.0</td>\n",
       "      <td>1.0</td>\n",
       "      <td>0.0</td>\n",
       "    </tr>\n",
       "    <tr>\n",
       "      <th>14</th>\n",
       "      <td>2018.0</td>\n",
       "      <td>41.0</td>\n",
       "      <td>1.0</td>\n",
       "      <td>0.0</td>\n",
       "      <td>10.000000</td>\n",
       "      <td>0.0</td>\n",
       "      <td>0.0</td>\n",
       "      <td>0.0</td>\n",
       "      <td>0.0</td>\n",
       "      <td>1.0</td>\n",
       "      <td>0.0</td>\n",
       "      <td>0.0</td>\n",
       "      <td>1.0</td>\n",
       "      <td>0.0</td>\n",
       "      <td>0.0</td>\n",
       "      <td>0.0</td>\n",
       "      <td>1.0</td>\n",
       "      <td>1.0</td>\n",
       "      <td>0.0</td>\n",
       "    </tr>\n",
       "    <tr>\n",
       "      <th>66</th>\n",
       "      <td>2018.0</td>\n",
       "      <td>27.0</td>\n",
       "      <td>5.0</td>\n",
       "      <td>29.0</td>\n",
       "      <td>53.163905</td>\n",
       "      <td>176.0</td>\n",
       "      <td>0.0</td>\n",
       "      <td>0.0</td>\n",
       "      <td>0.0</td>\n",
       "      <td>1.0</td>\n",
       "      <td>0.0</td>\n",
       "      <td>0.0</td>\n",
       "      <td>0.0</td>\n",
       "      <td>1.0</td>\n",
       "      <td>1.0</td>\n",
       "      <td>0.0</td>\n",
       "      <td>0.0</td>\n",
       "      <td>0.0</td>\n",
       "      <td>1.0</td>\n",
       "    </tr>\n",
       "    <tr>\n",
       "      <th>79</th>\n",
       "      <td>2018.0</td>\n",
       "      <td>5.0</td>\n",
       "      <td>8.0</td>\n",
       "      <td>21.0</td>\n",
       "      <td>31.428571</td>\n",
       "      <td>143.0</td>\n",
       "      <td>0.0</td>\n",
       "      <td>0.0</td>\n",
       "      <td>0.0</td>\n",
       "      <td>1.0</td>\n",
       "      <td>0.0</td>\n",
       "      <td>0.0</td>\n",
       "      <td>0.0</td>\n",
       "      <td>1.0</td>\n",
       "      <td>0.0</td>\n",
       "      <td>1.0</td>\n",
       "      <td>0.0</td>\n",
       "      <td>0.0</td>\n",
       "      <td>1.0</td>\n",
       "    </tr>\n",
       "    <tr>\n",
       "      <th>109</th>\n",
       "      <td>2018.0</td>\n",
       "      <td>45.0</td>\n",
       "      <td>5.0</td>\n",
       "      <td>34.0</td>\n",
       "      <td>30.316699</td>\n",
       "      <td>0.0</td>\n",
       "      <td>0.0</td>\n",
       "      <td>0.0</td>\n",
       "      <td>0.0</td>\n",
       "      <td>1.0</td>\n",
       "      <td>0.0</td>\n",
       "      <td>0.0</td>\n",
       "      <td>1.0</td>\n",
       "      <td>0.0</td>\n",
       "      <td>0.0</td>\n",
       "      <td>1.0</td>\n",
       "      <td>0.0</td>\n",
       "      <td>1.0</td>\n",
       "      <td>0.0</td>\n",
       "    </tr>\n",
       "  </tbody>\n",
       "</table>\n",
       "</div>"
      ],
      "text/plain": [
       "           Year  Supervisor  nbMeetings  meanTimeBetweenMeet  meanTimeMeet  \\\n",
       "Student                                                                      \n",
       "4        2018.0        17.0         2.0                 72.0    135.535429   \n",
       "14       2018.0        41.0         1.0                  0.0     10.000000   \n",
       "66       2018.0        27.0         5.0                 29.0     53.163905   \n",
       "79       2018.0         5.0         8.0                 21.0     31.428571   \n",
       "109      2018.0        45.0         5.0                 34.0     30.316699   \n",
       "\n",
       "         timeFirstDecay  module_ca326  module_ca400  module_ca472  module_mcm  \\\n",
       "Student                                                                         \n",
       "4                   0.0           0.0           0.0           0.0         1.0   \n",
       "14                  0.0           0.0           0.0           0.0         1.0   \n",
       "66                176.0           0.0           0.0           0.0         1.0   \n",
       "79                143.0           0.0           0.0           0.0         1.0   \n",
       "109                 0.0           0.0           0.0           0.0         1.0   \n",
       "\n",
       "         module_pnu  worstProgress_moderate  worstProgress_satisfactory  \\\n",
       "Student                                                                   \n",
       "4               0.0                     0.0                         1.0   \n",
       "14              0.0                     0.0                         1.0   \n",
       "66              0.0                     0.0                         0.0   \n",
       "79              0.0                     0.0                         0.0   \n",
       "109             0.0                     0.0                         1.0   \n",
       "\n",
       "         worstProgress_unsatisfactory  mainSentiment_0.0  mainSentiment_1.0  \\\n",
       "Student                                                                       \n",
       "4                                 0.0                0.0                1.0   \n",
       "14                                0.0                0.0                0.0   \n",
       "66                                1.0                1.0                0.0   \n",
       "79                                1.0                0.0                1.0   \n",
       "109                               0.0                0.0                1.0   \n",
       "\n",
       "         mainSentiment_2.0  is0Sentiment_False  is0Sentiment_True  \n",
       "Student                                                            \n",
       "4                      0.0                 1.0                0.0  \n",
       "14                     1.0                 1.0                0.0  \n",
       "66                     0.0                 0.0                1.0  \n",
       "79                     0.0                 0.0                1.0  \n",
       "109                    0.0                 1.0                0.0  "
      ]
     },
     "execution_count": 36,
     "metadata": {},
     "output_type": "execute_result"
    }
   ],
   "source": [
    "X_imp.head()"
   ]
  },
  {
   "cell_type": "markdown",
   "id": "9a5014b7",
   "metadata": {},
   "source": [
    "## Split between train and test set\n",
    "\n",
    "documentation: https://www.malicksarr.com/split-train-test-validation-python/"
   ]
  },
  {
   "cell_type": "code",
   "execution_count": 37,
   "id": "2de279d1",
   "metadata": {},
   "outputs": [],
   "source": [
    "# Split dataset between train set and test set\n",
    "X_train, X_test, y_train, y_test = train_test_split(X_imp, y, test_size=0.2, shuffle = True, random_state = 2022)"
   ]
  },
  {
   "cell_type": "code",
   "execution_count": 38,
   "id": "23e4d620",
   "metadata": {
    "scrolled": false
   },
   "outputs": [],
   "source": [
    "#print(\"shape of X_train: {} | shape of y_train: {}\".format(X_train.shape,y_train.shape))\n",
    "#print(\"shape of X_test:  {} | shape of y_test:  {}\".format(X_test.shape,y_test.shape))"
   ]
  },
  {
   "cell_type": "markdown",
   "id": "1bd45439",
   "metadata": {},
   "source": [
    "## Standardisation\n",
    "\n",
    "The next step is a data standardisation step. The variables are divided by their standard deviation. This is not useful in the case of an elementary linear model because the solution is the same, but it is essential for many other non-linear methods (SVMs, neural networks, models with penalties). **Note:**, the same parameters (means, standard deviations) estimated on the training sample are used to normalise the test sample. \n",
    "\n",
    "\n",
    "*Exemple:* Standardization isn't always required for logistic regression. The main goal of standardizing features is to help convergence of the technique used for optimization. For example, if Newton-Raphson is used to maximize the likelihood, standardizing the features makes the convergence faster. Otherwise, we can run your logistic regression without any standardization treatment on the features. However, if we use Ridge or Lasso regression, we should standardize the data: \"The ridge solutions are not equivariant under scaling of the inputs, and so one normally standardizes the inputs before solving\".\\\n",
    "(source: https://stats.stackexchange.com/questions/48360/is-standardization-needed-before-fitting-logistic-regression)"
   ]
  },
  {
   "cell_type": "markdown",
   "id": "f7942875",
   "metadata": {},
   "source": [
    "<font color = 'blue'> **Modify this cell** </font>"
   ]
  },
  {
   "cell_type": "code",
   "execution_count": 39,
   "id": "7813a58e",
   "metadata": {},
   "outputs": [],
   "source": [
    "# Standardisation of explanatory variables\n",
    "#-----------------------------------------\n",
    "# store the indices which are the students' IDs\n",
    "StudentIDs_train = X_train.index\n",
    "StudentIDs_test = X_test.index\n",
    "# reset indices to make StandardScaler work\n",
    "X_train.reset_index(drop=True,inplace=True)\n",
    "X_test.reset_index(drop=True,inplace=True)\n",
    "# define scaler\n",
    "scaler = StandardScaler()\n",
    "\n",
    "# features to standardise\n",
    "# ====================================\n",
    "#features = [\"nbMeetings\",\"meanTimeBetweenMeet\",\"meanTimeMeet\",\"timeFirstDecay\"] #everything & without sentiment\n",
    "features = [\"nbMeetings\",\"meanTimeBetweenMeet\",\"meanTimeMeet\"] #without satisfactoriness\n",
    "# ====================================\n",
    "\n",
    "# standardise features\n",
    "scaler.fit(X_train[features]) #fit with the train set only\n",
    "X_train[features] = scaler.transform(X_train[features]) #apply the fit on the train set...\n",
    "X_test[features] = scaler.transform(X_test[features])   #...and on the test set"
   ]
  },
  {
   "cell_type": "code",
   "execution_count": 40,
   "id": "5994195b",
   "metadata": {},
   "outputs": [],
   "source": [
    "# Re-assign indices to Students' IDs:\n",
    "#---------------------------------------\n",
    "X_train.index = StudentIDs_train #indices are now Student IDs\n",
    "X_test.index = StudentIDs_test #indices are now Student IDs\n",
    "\n",
    "# Assign correct type to data:\n",
    "#---------------------------------------\n",
    "X_train.index= X_train.index.astype(int)\n",
    "X_test.index= X_test.index.astype(int)\n",
    "\n",
    "l = [\"Year\",\"Supervisor\"]\n",
    "X_train[l]= X_train[l].astype(int)\n",
    "X_test[l]= X_test[l].astype(int)\n",
    "\n",
    "#Beware to keep \"nbMeetings\",\"meanTimeBetweenMeet\",\"meanTimeMeet\",\"timeFirstDecay\" to float \n",
    "#since they have been standardised."
   ]
  },
  {
   "cell_type": "code",
   "execution_count": 41,
   "id": "99a1a85a",
   "metadata": {},
   "outputs": [],
   "source": [
    "# Define multinomial logistic regression model with L2 (Ridge) penalty\n",
    "#----------------------------------------------\n",
    "model_LR = LogisticRegression(multi_class='multinomial', solver='lbfgs', penalty='l2') \n",
    "\n",
    "# Note:\n",
    "# \"solver\": algorithm used in the optimization pb\n",
    "# \"penalty\": by default, python's LogisticRegression function applies a L2 (or Ridge) \n",
    "# regularisation to select the most important features (= explanatory variables)."
   ]
  },
  {
   "cell_type": "code",
   "execution_count": 42,
   "id": "b641e67d",
   "metadata": {},
   "outputs": [],
   "source": [
    "# Define the scoring method that will be used in the regression and CV\n",
    "#----------------------------------------------\n",
    "#Scoring = 'accuracy' #accuracy is the default score \n",
    "Scoring = 'f1_macro' #macroscopic f1-score (better than accuracy)"
   ]
  },
  {
   "cell_type": "markdown",
   "id": "887e0960",
   "metadata": {},
   "source": [
    "Which is better **lasso** or **ridge** regression? \n",
    "\n",
    "Source: https://www.datacamp.com/tutorial/tutorial-ridge-lasso-elastic-net \\\n",
    "Lasso tends to do well if there are a small number of significant parameters and the others are close to zero (ergo: when only a few predictors actually influence the response). Ridge works well if there are many large parameters of about the same value.\n",
    "\n",
    "Source: https://www.geeksforgeeks.org/lasso-vs-ridge-vs-elastic-net-ml/ \n",
    "- Limitation of Ridge Regression: Ridge regression decreases the complexity of a model but does not reduce the number of variables since it never leads to a coefficient been zero rather only minimizes it. Hence, this model is not good for feature reduction.\n",
    "\n",
    "\n",
    "- Limitation of Lasso Regression: Lasso sometimes struggles with some types of data. If the number of predictors (p) is greater than the number of observations (n), Lasso will pick at most n predictors as non-zero, even if all predictors are relevant (or may be used in the test set). If there are two or more highly collinear variables then LASSO regression select one of them randomly which is not good for the interpretation of data\n",
    "    \n",
    "Here, with **multinomial** logistic regression:\n",
    "- if we want **penality = 'l2'** (Ridge penality) one can use the solver is **'lbfgs'.**\n",
    "- if we want **penality = 'l1'** (Lasso penality) the only available solver is **'saga'.**\n",
    "\n",
    "doc: https://github.com/scikit-learn/scikit-learn/issues/8797"
   ]
  },
  {
   "cell_type": "markdown",
   "id": "d916cd50",
   "metadata": {},
   "source": [
    "### Without feature selection"
   ]
  },
  {
   "cell_type": "markdown",
   "id": "d4f35f93",
   "metadata": {},
   "source": [
    "##### Tune Penalty for Multinomial Logistic Regression\n",
    "\n",
    "By default, python's LogisticRegression function applies a L2 (or Ridge) regularisation to emphasize the most important features (= explanatory variables). L2 regularisation does not perform features selection since it does not set the coefficients of least important variables to 0 but to almost 0.\n",
    "\n",
    "We will now optimize the penalty parameter C, which is used in the L2 (Ridge) regression. By defalut, C = 1.0"
   ]
  },
  {
   "cell_type": "code",
   "execution_count": 43,
   "id": "372aae0a",
   "metadata": {},
   "outputs": [
    {
     "name": "stdout",
     "output_type": "stream",
     "text": [
      "Best f1_macro score = 0.139362, Best parameter = {'C': 0.55}\n"
     ]
    }
   ],
   "source": [
    "# Define grid of values for parameter C in L1 (Lasso) regression\n",
    "param=[{\"C\":np.arange(.5,2,.05)}] \n",
    "\n",
    "# Define and fit GridSearch to find best parameter\n",
    "GridSearch_LR = GridSearchCV(estimator=model_LR, param_grid=param ,cv=5,n_jobs=-1,scoring = Scoring)  #by defalut, the score is sklearn.metrics.accuracy_score, here we use the variable Scoring.\n",
    "LR_params = GridSearch_LR.fit(X_train, y_train)\n",
    "\n",
    "# Display optimal parameter\n",
    "print(\"Best \" + Scoring + \" score = %f, Best parameter = %s\" % (LR_params.best_score_,LR_params.best_params_))\n",
    "      #best_params_= parameter setting that gave the best results on the hold out data\n",
    "      #best_score_= mean cross-validated score of the best_estimator"
   ]
  },
  {
   "cell_type": "code",
   "execution_count": 44,
   "id": "749617b1",
   "metadata": {},
   "outputs": [],
   "source": [
    "# Redefine the multinomial logistic regression model with best parameter\n",
    "model_LR = LogisticRegression(multi_class='multinomial', solver='lbfgs', penalty='l2',C = LR_params.best_params_[\"C\"]) "
   ]
  },
  {
   "cell_type": "markdown",
   "id": "8b524ed1",
   "metadata": {},
   "source": [
    "#####  Cross-Validation Error"
   ]
  },
  {
   "cell_type": "code",
   "execution_count": 45,
   "id": "d77c2669",
   "metadata": {},
   "outputs": [
    {
     "name": "stdout",
     "output_type": "stream",
     "text": [
      "============= Model performance =============\n",
      "CV error: mean f1_macro=0.139 (std=0.024)\n",
      "=============================================\n"
     ]
    }
   ],
   "source": [
    "# Define the model evaluation procedure with CV\n",
    "cv = RepeatedStratifiedKFold(n_splits=10, n_repeats=3, random_state=2022) #n_repeats=3 CV repeats with n_splits=10 folds\n",
    "\n",
    "# Evaluate the model and collect the scores\n",
    "n_scores_LR = cross_val_score(model_LR, X_train, y_train, scoring=Scoring, cv=cv, n_jobs=-1,error_score='raise')\n",
    "\n",
    "# Report the model performance\n",
    "print(\"============= Model performance =============\")\n",
    "print('CV error: mean ' + Scoring + '=%.3f (std=%.3f)' % (mean(n_scores_LR), std(n_scores_LR)))\n",
    "print(\"=============================================\")\n",
    "# this is the mean classification accuracy across all folds and repeats of the evaluation procedure."
   ]
  },
  {
   "cell_type": "markdown",
   "id": "e845e07b",
   "metadata": {},
   "source": [
    "### With feature selection"
   ]
  },
  {
   "cell_type": "markdown",
   "id": "a2e7414a",
   "metadata": {},
   "source": [
    "For feature selection, there is no global agreement but it may be better to do in the following order:\n",
    "1) Select features: select the most important explanatory variables to obtain a reduced model\n",
    "\n",
    "2) Optimise hyperparameters on the reduced model\n",
    "\n",
    "documentation: https://stats.stackexchange.com/questions/264533/how-should-feature-selection-and-hyperparameter-optimization-be-ordered-in-the-m"
   ]
  },
  {
   "cell_type": "markdown",
   "id": "92f6403b",
   "metadata": {},
   "source": [
    "#### Select feature with regularisation L1 (LASSO)\n",
    "\n",
    "L1 (or Lasso) regularisation to select the most important features (= explanatory variables) since it sets the coefficients of least important variables to 0. "
   ]
  },
  {
   "cell_type": "code",
   "execution_count": 46,
   "id": "ac18231e",
   "metadata": {},
   "outputs": [],
   "source": [
    "# Define multinomial logistic regression model with L1 (Lasso) penalty \n",
    "# which carries out a feature selection\n",
    "#--------------------------------------------\n",
    "model_LR_lasso = LogisticRegression(multi_class='multinomial', solver='saga', penalty='l1') "
   ]
  },
  {
   "cell_type": "markdown",
   "id": "0b431146",
   "metadata": {},
   "source": [
    "##### Tune Penalty for Multinomial Logistic Regression"
   ]
  },
  {
   "cell_type": "code",
   "execution_count": 47,
   "id": "25c3b5a3",
   "metadata": {},
   "outputs": [
    {
     "name": "stdout",
     "output_type": "stream",
     "text": [
      "Best f1_macro score = 0.135637, Best parameter = {'C': 1.8500000000000008}\n"
     ]
    }
   ],
   "source": [
    "# Define grid of values for parameter C in L1 (Lasso) regression\n",
    "param=[{\"C\":np.arange(0.1,2,.05)}]\n",
    "\n",
    "# Define and fit GridSearch\n",
    "GridSearch_LR_lasso = GridSearchCV(estimator=model_LR_lasso, param_grid=param ,cv=5,n_jobs=-1,scoring = Scoring)  #by defalut, the score is sklearn.metrics.accuracy_score, here we use the variable Scoring.\n",
    "LR_lasso_params = GridSearch_LR_lasso.fit(X_train, y_train)\n",
    "\n",
    "# Display optimal parameter\n",
    "print(\"Best \" + Scoring + \" score = %f, Best parameter = %s\" % (LR_lasso_params.best_score_,LR_lasso_params.best_params_))\n",
    "      #best_params_= parameter setting that gave the best results on the hold out data\n",
    "      #best_score_= mean cross-validated score of the best_estimator"
   ]
  },
  {
   "cell_type": "code",
   "execution_count": 48,
   "id": "af4a78e0",
   "metadata": {},
   "outputs": [],
   "source": [
    "# Redefine the multinomial logistic regression model with best parameters\n",
    "model_LR_lasso = LogisticRegression(multi_class='multinomial', solver='saga', penalty='l1',C = LR_lasso_params.best_params_[\"C\"])"
   ]
  },
  {
   "cell_type": "markdown",
   "id": "60c94407",
   "metadata": {},
   "source": [
    "##### Display selected features"
   ]
  },
  {
   "cell_type": "code",
   "execution_count": 49,
   "id": "b02c7e4d",
   "metadata": {},
   "outputs": [
    {
     "name": "stdout",
     "output_type": "stream",
     "text": [
      "Lasso regression keeps 12 explanatory variables out of 19 and removes 7 variables.\n",
      "\n",
      "Selected variables:\n",
      "Index(['Year', 'Supervisor', 'meanTimeBetweenMeet', 'timeFirstDecay',\n",
      "       'module_ca326', 'module_ca400', 'module_ca472',\n",
      "       'worstProgress_moderate', 'worstProgress_satisfactory',\n",
      "       'mainSentiment_1.0', 'is0Sentiment_False', 'is0Sentiment_True'],\n",
      "      dtype='object')\n"
     ]
    }
   ],
   "source": [
    "# \"GridSearch\" does not store the coefficients, they need to be re-estimated:\n",
    "Coef_lasso = model_LR_lasso.fit(X_train,y_train).coef_  #coef_: array of shape (n_classes, n_features) containing the coefficient of the features in the decision function\n",
    "Coef_lasso = pd.Series(Coef_lasso[0], index = X_train.columns)\n",
    "\n",
    "print(\"Lasso regression keeps {} explanatory variables out of {} and removes {} variables.\"\n",
    "      .format(sum(Coef_lasso != 0) , X_train.shape[1], sum(Coef_lasso == 0)))\n",
    "print()\n",
    "print(\"Selected variables:\")\n",
    "print(Coef_lasso.index[Coef_lasso!= 0])"
   ]
  },
  {
   "cell_type": "code",
   "execution_count": 50,
   "id": "817118f9",
   "metadata": {},
   "outputs": [
    {
     "data": {
      "image/png": "[encoded data removed]",
      "text/plain": [
       "<Figure size 504x504 with 1 Axes>"
      ]
     },
     "metadata": {
      "needs_background": "light"
     },
     "output_type": "display_data"
    }
   ],
   "source": [
    "# plot of the selected features\n",
    "#-----------------------------------------\n",
    "f, ax = plt.subplots(figsize=(7,7))\n",
    "imp_coef = Coef_lasso.sort_values()\n",
    "imp_coef.plot(kind = \"barh\")\n",
    "plt.title(u\"Coefficient of Lasso model\\n\"\n",
    "          +\"The selected features are those for which the coefficients are non-zero\\n\")\n",
    "plt.show()"
   ]
  },
  {
   "cell_type": "markdown",
   "id": "7b4b10e0",
   "metadata": {},
   "source": [
    "The array \"coeff_\" contains the coefficients found for each input variable. These coefficients can provide the basis for a crude feature importance score. This assumes that the input variables have the same scale or have been scaled prior to fitting a model."
   ]
  },
  {
   "cell_type": "markdown",
   "id": "a784195f",
   "metadata": {},
   "source": [
    "#####  Cross-Validation Error"
   ]
  },
  {
   "cell_type": "code",
   "execution_count": 51,
   "id": "6ace8bb6",
   "metadata": {},
   "outputs": [
    {
     "name": "stdout",
     "output_type": "stream",
     "text": [
      "============= Model performance =============\n",
      "CV error: mean f1_macro=0.129 (std=0.024)\n",
      "=============================================\n"
     ]
    }
   ],
   "source": [
    "# Define the model evaluation procedure with CV\n",
    "cv = RepeatedStratifiedKFold(n_splits=10, n_repeats=3, random_state=2022) #n_repeats=3 CV repeats with n_splits=10 folds\n",
    "\n",
    "# Evaluate the model and collect the scores\n",
    "n_scores_lasso = cross_val_score(model_LR_lasso, X_train, y_train, scoring=Scoring, cv=cv, n_jobs=-1,error_score='raise')\n",
    "\n",
    "# Report the model performance\n",
    "print(\"============= Model performance =============\")\n",
    "print('CV error: mean ' + Scoring + '=%.3f (std=%.3f)' % (mean(n_scores_lasso), std(n_scores_lasso)))\n",
    "print(\"=============================================\")\n",
    "# this is the mean classification accuracy across all folds and repeats of the evaluation procedure."
   ]
  },
  {
   "cell_type": "markdown",
   "id": "0bf16687",
   "metadata": {},
   "source": [
    "#### Select feature with RFE\n",
    "\n",
    "documentation:\n",
    "- https://scikit-learn.org/stable/modules/feature_selection.html\n",
    "\n",
    "- https://scikit-learn.org/stable/modules/generated/sklearn.feature_selection.RFE.html#sklearn.feature_selection.RFE\n",
    "\n",
    "- https://scikit-learn.org/stable/modules/generated/sklearn.feature_selection.RFECV.html\n",
    "\n",
    "tutorial: \n",
    "- https://machinelearningmastery.com/rfe-feature-selection-in-python/"
   ]
  },
  {
   "cell_type": "markdown",
   "id": "18e4b24e",
   "metadata": {},
   "source": [
    "RFE (`sklearn.feature_selection.RFE`) select features based on how they affect a particular model’s performance. RFE needs to be given the number of features to select.\n",
    "\n",
    "It is possible to automatically select the number of features chosen by RFE. This can be achieved by performing cross-validation evaluation of different numbers of features and automatically selecting the number of features that resulted in the best mean score. The RFECV class implements this for us.\n"
   ]
  },
  {
   "cell_type": "code",
   "execution_count": 52,
   "id": "443622f0",
   "metadata": {},
   "outputs": [],
   "source": [
    "# Define multinomial logistic regression model with L2 (Ridge) penalty\n",
    "#----------------------------------------------\n",
    "model_LR_rfe = LogisticRegression(multi_class='multinomial', solver='lbfgs', penalty='none') "
   ]
  },
  {
   "cell_type": "markdown",
   "id": "a87a72f4",
   "metadata": {},
   "source": [
    "##### Find and display selected features"
   ]
  },
  {
   "cell_type": "code",
   "execution_count": 53,
   "id": "d5d07ef9",
   "metadata": {},
   "outputs": [
    {
     "name": "stdout",
     "output_type": "stream",
     "text": [
      "f1_macro: 0.163 (0.044)\n"
     ]
    }
   ],
   "source": [
    "# Automatically Select the Number of Features using RFECV \n",
    "#----------------------------------------------\n",
    "# create pipeline\n",
    "rfe = RFECV(estimator=model_LR_rfe)\n",
    "model = model_LR_rfe\n",
    "pipeline = Pipeline(steps=[('s',rfe),('m',model)])\n",
    "# evaluate model\n",
    "cv = RepeatedStratifiedKFold(n_splits=10, n_repeats=3, random_state=1)\n",
    "n_scores = cross_val_score(pipeline, X_train, y_train, scoring=Scoring, cv=cv, n_jobs=-1, error_score='raise')\n",
    "# report performance\n",
    "print(Scoring + ': %.3f (%.3f)' % (mean(n_scores), std(n_scores)))"
   ]
  },
  {
   "cell_type": "code",
   "execution_count": 54,
   "id": "bd4b2999",
   "metadata": {},
   "outputs": [
    {
     "name": "stdout",
     "output_type": "stream",
     "text": [
      "Features in order of ranking:\n",
      "1 Year\n",
      "1 Supervisor\n",
      "1 nbMeetings\n",
      "1 timeFirstDecay\n",
      "2 meanTimeBetweenMeet\n",
      "3 meanTimeMeet\n",
      "4 module_mcm\n",
      "5 worstProgress_satisfactory\n",
      "6 mainSentiment_1.0\n",
      "7 module_ca400\n",
      "8 worstProgress_unsatisfactory\n",
      "9 module_pnu\n",
      "10 is0Sentiment_False\n",
      "11 worstProgress_moderate\n",
      "12 mainSentiment_0.0\n",
      "13 module_ca472\n",
      "14 module_ca326\n",
      "15 mainSentiment_2.0\n",
      "16 is0Sentiment_True\n",
      "-----------------------------------\n",
      "The selected 4 features are:\n",
      "['Year' 'Supervisor' 'nbMeetings' 'timeFirstDecay']\n"
     ]
    }
   ],
   "source": [
    "# Print out the  selected features in order of ranking\n",
    "#------------------------------------------\n",
    "rfe.fit(X_train, y_train)\n",
    "from operator import itemgetter\n",
    "features = np.array(X_train.columns.to_list())\n",
    "print(\"Features in order of ranking:\")\n",
    "for x, y in (sorted(zip(rfe.ranking_ , features), key=itemgetter(0))):\n",
    "    print(x, y)\n",
    "print(\"-----------------------------------\")\n",
    "print(\"The selected {} features are:\\n{}\".format(rfe.n_features_,features[rfe.support_]))"
   ]
  },
  {
   "cell_type": "code",
   "execution_count": null,
   "id": "5535f2c6",
   "metadata": {},
   "outputs": [],
   "source": [
    "# Redefine X_train & X_test with only the selected features\n",
    "#------------------------------------------\n",
    "X_train_rfe = X_train[features[rfe.support_]]\n",
    "X_test_rfe = X_test[features[rfe.support_]]"
   ]
  },
  {
   "cell_type": "code",
   "execution_count": null,
   "id": "9a97121a",
   "metadata": {},
   "outputs": [],
   "source": [
    "X_train_rfe.head()"
   ]
  },
  {
   "cell_type": "markdown",
   "id": "ac1f8580",
   "metadata": {},
   "source": [
    "#####  Cross-Validation Error"
   ]
  },
  {
   "cell_type": "code",
   "execution_count": null,
   "id": "8256ce15",
   "metadata": {},
   "outputs": [],
   "source": [
    "# Define the model evaluation procedure with CV\n",
    "cv = RepeatedStratifiedKFold(n_splits=10, n_repeats=3, random_state=2022) #n_repeats=3 CV repeats with n_splits=10 folds\n",
    "\n",
    "# Evaluate the model and collect the scores\n",
    "n_scores_rfe = cross_val_score(model_LR_rfe, X_train_rfe, y_train, scoring=Scoring, cv=cv, n_jobs=-1,error_score='raise')\n",
    "\n",
    "# Report the model performance\n",
    "print(\"============= Model performance =============\")\n",
    "print('CV error: mean ' + Scoring + '=%.3f (std=%.3f)' % (mean(n_scores_rfe), std(n_scores_rfe)))\n",
    "print(\"=============================================\")\n",
    "# this is the mean classification accuracy across all folds and repeats of the evaluation procedure."
   ]
  },
  {
   "cell_type": "markdown",
   "id": "48341d85",
   "metadata": {},
   "source": [
    "## Neural Network\n",
    "\n",
    "There are several python libraries for neural networks (Scikit-learn,TensorFlow,PyTorch,Keras). We will use Scikit-learn, which is less powerful but simpler to implement.\n",
    "\n",
    "tutorial: https://michael-fuchs-python.netlify.app/2021/02/03/nn-multi-layer-perceptron-classifier-mlpclassifier/\n",
    "\n",
    "**How many hidden layers and neurons in that hidden layer?** \\\n",
    "For most problems, one could probably get decent performance (even without a second optimization step) by setting the hidden layer configuration using just two rules: \n",
    "\n",
    "**Rule 1**: The number of hidden layers = 1 or 2;\n",
    " \n",
    "- 0 - Only capable of representing linear separable functions or decisions.\n",
    "\n",
    "- 1 - Can approximate any function that contains a continuous mapping\n",
    "from one finite space to another.\n",
    "\n",
    "- 2 - Can represent an arbitrary decision boundary to arbitrary accuracy\n",
    "with rational activation functions and can approximate any smooth\n",
    "mapping to any accuracy.\n",
    "\n",
    "**Rule 2**: There are many rule-of-thumb methods for determining the correct number of neurons to use in the hidden layers, such as the following:\n",
    "\n",
    "- a. The number of hidden neurons should be between the size of the input layer and the size of the output layer.\n",
    "- b. The number of hidden neurons should be 2/3 the size of the input layer, plus the size of the output layer.\n",
    "- c. The number of hidden neurons should be less than twice the size of the input layer.\n",
    "- d. The number of hidden neurons should be the mean of the neurons in the input and output layers. \n",
    "\n",
    "And we have: \n",
    "- number of neurons in the input layer = number of features (columns) in our data = 19 \n",
    "- number of neurons in the output layer = 1 single neuron unless softmax is used in which case the output layer has one neuron per class label in our model. Apparently, with MLPClassifier method from Scikit-learn, the softmax function is already used.\n",
    "\n",
    "\n",
    "Therefore, we will use as a first guess **2 hidden layers** with **14 neurons** (rule 2.b) and **10 neurons** (rule 2.d). \n",
    "\n",
    "\n",
    "\n",
    "source: https://stats.stackexchange.com/questions/181/how-to-choose-the-number-of-hidden-layers-and-nodes-in-a-feedforward-neural-netw (very good explanation with references. Read all page)."
   ]
  },
  {
   "cell_type": "code",
   "execution_count": null,
   "id": "8e874804",
   "metadata": {},
   "outputs": [],
   "source": [
    "# Initialisation of a first neural network \n",
    "#------------------------------------------\n",
    "model_nn = MLPClassifier(hidden_layer_sizes=(14,10),\n",
    "                        max_iter = 300,activation = 'relu',\n",
    "                        solver = 'adam')\n",
    "#hidden_layer_sizes: default value is (100,) which means 1 input layer, \n",
    "#1 hidden layer with 100 neurons and 1 output layer."
   ]
  },
  {
   "cell_type": "markdown",
   "id": "6ef32fe4",
   "metadata": {},
   "source": [
    "### Without feature selection"
   ]
  },
  {
   "cell_type": "markdown",
   "id": "2ae75731",
   "metadata": {},
   "source": [
    "##### Tune neural network parameters\n",
    "<font color = \"red\"> **Beware:** the cell below is long to run </font>"
   ]
  },
  {
   "cell_type": "code",
   "execution_count": null,
   "id": "d9f9c363",
   "metadata": {},
   "outputs": [],
   "source": [
    "# Define grid of values for parameters the neural network\n",
    "# After several runs, the grid of values has been adapted to find the best parameters\n",
    "param = {\n",
    "    'hidden_layer_sizes': [(14,4),(14,6),(14,5),(16,5),(16,6)], \n",
    "    'alpha': np.arange(0.001,1,0.05),\n",
    "    'learning_rate': ['constant','adaptive'],\n",
    "}\n",
    "\n",
    "# Define and fit GridSearch\n",
    "GridSearch_nn = GridSearchCV(estimator=model_nn, param_grid=param,cv=5, n_jobs= -1,scoring = Scoring)\n",
    "params_nn = GridSearch_nn.fit(X_train, y_train)"
   ]
  },
  {
   "cell_type": "code",
   "execution_count": null,
   "id": "a158c944",
   "metadata": {},
   "outputs": [],
   "source": [
    "# Display optimal parameter\n",
    "print(\"Best \" + Scoring + \" score = %f, Best parameters = %s\" % (params_nn.best_score_,params_nn.best_params_))\n",
    "    #best_params_= parameter setting that gave the best results on the hold out data\n",
    "    #best_score_= mean cross-validated score of the best_estimator"
   ]
  },
  {
   "cell_type": "code",
   "execution_count": null,
   "id": "e6f9605a",
   "metadata": {},
   "outputs": [],
   "source": [
    "# Redefine the neural network with best parameters\n",
    "model_nn = MLPClassifier(hidden_layer_sizes= params_nn.best_params_[\"hidden_layer_sizes\"],\n",
    "                        alpha = params_nn.best_params_[\"alpha\"],\n",
    "                        learning_rate = params_nn.best_params_[\"learning_rate\"],\n",
    "                        max_iter = 300,activation = 'relu',\n",
    "                        solver = 'adam')"
   ]
  },
  {
   "cell_type": "markdown",
   "id": "e0e0a78d",
   "metadata": {},
   "source": [
    "#####  Cross-Validation Error"
   ]
  },
  {
   "cell_type": "code",
   "execution_count": null,
   "id": "6021d81a",
   "metadata": {},
   "outputs": [],
   "source": [
    "# Define the model evaluation procedure with CV\n",
    "cv = RepeatedStratifiedKFold(n_splits=10, n_repeats=3, random_state=2022) #n_repeats=3 CV repeats with n_splits=10 folds\n",
    "\n",
    "# Evaluate the model and collect the scores\n",
    "n_scores_nn = cross_val_score(model_nn, X_train, y_train, scoring=Scoring, cv=cv, n_jobs=-1,error_score='raise')\n",
    "\n",
    "# Report the model performance\n",
    "print(\"============= Model performance =============\")\n",
    "print('CV error: mean ' + Scoring + '=%.3f (std=%.3f)' % (mean(n_scores_nn), std(n_scores_nn)))\n",
    "print(\"=============================================\")\n",
    "# this is the mean classification accuracy across all folds and repeats of the evaluation procedure."
   ]
  },
  {
   "cell_type": "markdown",
   "id": "fc8082ad",
   "metadata": {},
   "source": [
    "#### Select feature with SFS\n",
    "\n",
    "\n",
    "Since the neural network does not give specific attributes of importance such as `coef_` or `feature_importances_` we cannot use `RFE` (`sklearn.feature_selection.RFE`). Intead, we will use `SFS` (`sklearn.feature_selection.SequentialFeatureSelector`). SFS differs from RFE and SelectFromModel in that it does not require the underlying model to expose a coef_ or feature_importances_ attribute. It may however be slower considering that more models need to be evaluated, compared to the other approaches\n",
    "\n",
    "source:\n",
    "- https://scikit-learn.org/stable/modules/feature_selection.html\n",
    "- https://scikit-learn.org/stable/modules/generated/sklearn.feature_selection.SequentialFeatureSelector.html#sklearn.feature_selection.SequentialFeatureSelector\n",
    "\n",
    "Unlike RFE using RFECV, there is no method to automatically determine the number of features. We will start with **10 features** here since **8 features** where previously selected in the case of logistic multinomial regression. "
   ]
  },
  {
   "cell_type": "code",
   "execution_count": null,
   "id": "668f0e29",
   "metadata": {},
   "outputs": [],
   "source": [
    "# Define a new neural network \n",
    "#----------------------------------------------\n",
    "model_nn_sfs = MLPClassifier(hidden_layer_sizes=(14,10),\n",
    "                        max_iter = 300,activation = 'relu',\n",
    "                        solver = 'adam')"
   ]
  },
  {
   "cell_type": "markdown",
   "id": "4a83d40c",
   "metadata": {},
   "source": [
    "##### Find and display selected features\n",
    "<font color = \"red\"> **Beware:** the cell below is long to run </font>"
   ]
  },
  {
   "cell_type": "markdown",
   "id": "12a04b82",
   "metadata": {},
   "source": [
    "<font color = 'blue'> **Modify this cell** </font>"
   ]
  },
  {
   "cell_type": "code",
   "execution_count": null,
   "id": "d7ab67d6",
   "metadata": {},
   "outputs": [],
   "source": [
    "# Feature selection with SFS\n",
    "#------------------------------------------\n",
    "sfs = SequentialFeatureSelector(estimator = model_nn_sfs, \n",
    "                                n_features_to_select=6,\n",
    "                                direction='backward',\n",
    "                               scoring = Scoring,\n",
    "                               cv=5,\n",
    "                               n_jobs=-1)\n",
    "sfs.fit(X_train, y_train) #Learn the features to select from X_train."
   ]
  },
  {
   "cell_type": "code",
   "execution_count": null,
   "id": "a358b4db",
   "metadata": {},
   "outputs": [],
   "source": [
    "# Print out the  selected features in order of ranking\n",
    "#------------------------------------------\n",
    "print(\"Features selected by the SFS method:\\n\")\n",
    "print(sfs.get_feature_names_out())"
   ]
  },
  {
   "cell_type": "code",
   "execution_count": null,
   "id": "28eb83bd",
   "metadata": {},
   "outputs": [],
   "source": [
    "# Redefine X_train and X_test with only the selected features\n",
    "#------------------------------------------\n",
    "X_train_sfs = X_train[sfs.get_feature_names_out()]\n",
    "X_test_sfs = X_test[sfs.get_feature_names_out()]"
   ]
  },
  {
   "cell_type": "code",
   "execution_count": null,
   "id": "e6033cba",
   "metadata": {},
   "outputs": [],
   "source": [
    "X_train_sfs.head()"
   ]
  },
  {
   "cell_type": "markdown",
   "id": "13be33a0",
   "metadata": {},
   "source": [
    "##### Tune neural network parameters\n",
    "<font color = \"red\"> **Beware:** the cell below is long to run </font>"
   ]
  },
  {
   "cell_type": "code",
   "execution_count": null,
   "id": "0baf13dc",
   "metadata": {},
   "outputs": [],
   "source": [
    "# Define grid of values for parameters the neural network\n",
    "# After several runs, the grid of values has been adapted to find the best parameters\n",
    "param = {\n",
    "    'hidden_layer_sizes': [(14,4),(14,6),(16,6),(16,10),(16,14)], \n",
    "    'alpha': np.arange(0.001,1,0.05),\n",
    "    'learning_rate': ['constant','adaptive'],\n",
    "}\n",
    "\n",
    "# Define and fit GridSearch\n",
    "GridSearch_nn_sfs = GridSearchCV(estimator=model_nn_sfs, param_grid=param,cv=5, n_jobs= -1,scoring = Scoring)\n",
    "params_nn_sfs = GridSearch_nn_sfs.fit(X_train_sfs, y_train) #use only SELECTED FEATURES by sfs in X_train"
   ]
  },
  {
   "cell_type": "code",
   "execution_count": null,
   "id": "b286f50b",
   "metadata": {
    "scrolled": true
   },
   "outputs": [],
   "source": [
    "# Display optimal parameter\n",
    "print(\"Best \" + Scoring + \" score = %f, Best parameter = %s\" % (params_nn_sfs.best_score_,params_nn_sfs.best_params_))\n",
    "    #best_params_= parameter setting that gave the best results on the hold out data\n",
    "    #best_score_= mean cross-validated score of the best_estimator"
   ]
  },
  {
   "cell_type": "code",
   "execution_count": null,
   "id": "38f1185f",
   "metadata": {},
   "outputs": [],
   "source": [
    "# Redefine the neural network with best parameters\n",
    "model_nn_sfs = MLPClassifier(hidden_layer_sizes= params_nn_sfs.best_params_[\"hidden_layer_sizes\"],\n",
    "                        alpha = params_nn_sfs.best_params_[\"alpha\"],\n",
    "                        learning_rate = params_nn_sfs.best_params_[\"learning_rate\"],\n",
    "                        max_iter = 300,activation = 'relu',\n",
    "                        solver = 'adam')"
   ]
  },
  {
   "cell_type": "markdown",
   "id": "c5e6cdc6",
   "metadata": {},
   "source": [
    "#####  Cross-Validation Error"
   ]
  },
  {
   "cell_type": "code",
   "execution_count": null,
   "id": "9e4a5011",
   "metadata": {},
   "outputs": [],
   "source": [
    "# Define the model evaluation procedure with CV\n",
    "cv = RepeatedStratifiedKFold(n_splits=10, n_repeats=3, random_state=2022) #n_repeats=3 CV repeats with n_splits=10 folds\n",
    "\n",
    "# Evaluate the model and collect the scores\n",
    "n_scores_sfs = cross_val_score(model_nn_sfs, X_train_sfs, y_train, scoring=Scoring, cv=cv, n_jobs=-1,error_score='raise')\n",
    "\n",
    "\n",
    "# Report the model performance\n",
    "print(\"============= Model =============\")\n",
    "print('CV error: mean ' + Scoring + '=%.3f (std=%.3f)' % (mean(n_scores_sfs), std(n_scores_sfs)))\n",
    "print(\"=============================================\")\n",
    "# this is the mean classification accuracy across all folds and repeats of the evaluation procedure."
   ]
  },
  {
   "cell_type": "markdown",
   "id": "cea2456b",
   "metadata": {},
   "source": [
    "### Compute predictions on the test set"
   ]
  },
  {
   "cell_type": "code",
   "execution_count": null,
   "id": "4c99bccc",
   "metadata": {},
   "outputs": [],
   "source": [
    "# Create a dataFrame to store the results on the test set\n",
    "#---------------------------------------------------\n",
    "dfResult = pd.DataFrame(y_test)\n",
    "dfResult.rename(columns={\"Marks\": \"trueLabel\"},inplace=True)"
   ]
  },
  {
   "cell_type": "code",
   "execution_count": null,
   "id": "a19c4f72",
   "metadata": {},
   "outputs": [],
   "source": [
    "# Multinomial Logistic Regression \n",
    "#---------------------------------------------------\n",
    "#----- Without feature selection\n",
    "model_LR.fit(X_train, y_train) #fit the model on the whole dataset\n",
    "pred_LR = model_LR.predict(X_test) #compute predictions on the test set\n",
    "dfResult[\"mlr\"] = pred_LR #add prediction to dataFrame\n",
    "\n",
    "#----- With feature selection using Lasso\n",
    "model_LR_lasso.fit(X_train,y_train) #fit the model on the whole dataset\n",
    "pred_LR_lasso= model_LR_lasso.predict(X_test) #compute predictions on the test set\n",
    "dfResult[\"mlr_lasso\"] = pred_LR_lasso #add prediction to dataFrame\n",
    "\n",
    "#----- With feature selection using RFE\n",
    "model_LR_rfe.fit(X_train_rfe,y_train) #fit the model on the selected features \n",
    "pred_LR_rfe= model_LR_rfe.predict(X_test_rfe) #compute predictions on the test set\n",
    "dfResult[\"mlr_rfe\"] = pred_LR_rfe #add prediction to dataFrame"
   ]
  },
  {
   "cell_type": "code",
   "execution_count": null,
   "id": "507255dc",
   "metadata": {},
   "outputs": [],
   "source": [
    "# Neural Network \n",
    "#---------------------------------------------------\n",
    "#----- Without feature selection\n",
    "model_nn.fit(X_train, y_train) #fit the model on the whole dataset\n",
    "pred_nn = model_nn.predict(X_test) #compute predictions on the test set\n",
    "dfResult[\"nn\"] = pred_nn #add prediction to dataFrame\n",
    "\n",
    "#----- With feature selection using SFS\n",
    "model_nn_sfs.fit(X_train_sfs,y_train) #fit the model on the selected features \n",
    "pred_nn_sfs= model_nn_sfs.predict(X_test_sfs) #compute predictions on the test set\n",
    "dfResult[\"nn_sfs\"] = pred_nn_sfs #add prediction to dataFrame"
   ]
  },
  {
   "cell_type": "code",
   "execution_count": null,
   "id": "237b44da",
   "metadata": {},
   "outputs": [],
   "source": [
    "dfResult.head()"
   ]
  },
  {
   "cell_type": "markdown",
   "id": "a593007c",
   "metadata": {},
   "source": [
    "### Contigency Tables"
   ]
  },
  {
   "cell_type": "code",
   "execution_count": null,
   "id": "dabc368b",
   "metadata": {
    "scrolled": true
   },
   "outputs": [],
   "source": [
    "print(\"Contigency Tables\")\n",
    "print()\n",
    "\n",
    "print(\"-------------------------------\")\n",
    "print(\"Multinomial Logistic Regression without feature selection\")\n",
    "print(\"-------------------------------\")\n",
    "print(pd.crosstab(index=dfResult[\"trueLabel\"], columns=dfResult[\"mlr\"]))\n",
    "print()\n",
    "\n",
    "print(\"-------------------------------\")\n",
    "print(\"Multinomial Logistic Regression feature selection with Lasso\")\n",
    "print(\"-------------------------------\")\n",
    "print(pd.crosstab(index=dfResult[\"trueLabel\"], columns=dfResult[\"mlr_lasso\"]))\n",
    "print()\n",
    "\n",
    "print(\"-------------------------------\")\n",
    "print(\"Multinomial Logistic Regression feature selection with RFE\")\n",
    "print(\"-------------------------------\")\n",
    "print(pd.crosstab(index=dfResult[\"trueLabel\"], columns=dfResult[\"mlr_rfe\"]))\n",
    "print()\n",
    "\n",
    "print(\"-------------------------------\")\n",
    "print(\"Neural Network without feature selection\")\n",
    "print(\"-------------------------------\")\n",
    "print(pd.crosstab(index=dfResult[\"trueLabel\"], columns=dfResult[\"nn\"]))\n",
    "print()\n",
    "\n",
    "print(\"-------------------------------\")\n",
    "print(\"Neural Network feature selection with SFS\")\n",
    "print(\"-------------------------------\")\n",
    "print(pd.crosstab(index=dfResult[\"trueLabel\"], columns=dfResult[\"nn_sfs\"]))\n",
    "print()"
   ]
  },
  {
   "cell_type": "markdown",
   "id": "921e536c",
   "metadata": {},
   "source": [
    "### F1-scores"
   ]
  },
  {
   "cell_type": "code",
   "execution_count": null,
   "id": "d36a8c90",
   "metadata": {},
   "outputs": [],
   "source": [
    "print(\"F1-Scores\")\n",
    "print()\n",
    "\n",
    "print(\"-------------------------------\")\n",
    "print(\"Multinomial Logistic Regression without feature selection\")\n",
    "print(\"-------------------------------\")\n",
    "print(f1_score(dfResult[\"trueLabel\"], dfResult[\"mlr\"],average='macro'))\n",
    "print()\n",
    "\n",
    "print(\"-------------------------------\")\n",
    "print(\"Multinomial Logistic Regression feature selection with Lasso\")\n",
    "print(\"-------------------------------\")\n",
    "print(f1_score(dfResult[\"trueLabel\"], dfResult[\"mlr_lasso\"],average='macro'))\n",
    "print()\n",
    "\n",
    "print(\"-------------------------------\")\n",
    "print(\"Multinomial Logistic Regression feature selection with RFE\")\n",
    "print(\"-------------------------------\")\n",
    "print(f1_score(dfResult[\"trueLabel\"], dfResult[\"mlr_rfe\"],average='macro'))\n",
    "print()\n",
    "\n",
    "print(\"-------------------------------\")\n",
    "print(\"Neural Network without feature selection\")\n",
    "print(\"-------------------------------\")\n",
    "print(f1_score(dfResult[\"trueLabel\"], dfResult[\"nn\"],average='macro'))\n",
    "print()\n",
    "\n",
    "print(\"-------------------------------\")\n",
    "print(\"Neural Network feature selection with SFS\")\n",
    "print(\"-------------------------------\")\n",
    "print(f1_score(dfResult[\"trueLabel\"], dfResult[\"nn_sfs\"],average='macro'))\n",
    "print()"
   ]
  },
  {
   "cell_type": "markdown",
   "id": "9207f80a",
   "metadata": {},
   "source": [
    "### Accuracy"
   ]
  },
  {
   "cell_type": "code",
   "execution_count": null,
   "id": "bd9a8e1b",
   "metadata": {},
   "outputs": [],
   "source": [
    "print(\"Accuracy\")\n",
    "print()\n",
    "\n",
    "print(\"-------------------------------\")\n",
    "print(\"Multinomial Logistic Regression without feature selection\")\n",
    "print(\"-------------------------------\")\n",
    "print(accuracy_score(dfResult[\"trueLabel\"], dfResult[\"mlr\"]))\n",
    "print()\n",
    "\n",
    "print(\"-------------------------------\")\n",
    "print(\"Multinomial Logistic Regression feature selection with Lasso\")\n",
    "print(\"-------------------------------\")\n",
    "print(accuracy_score(dfResult[\"trueLabel\"], dfResult[\"mlr_lasso\"]))\n",
    "print()\n",
    "\n",
    "print(\"-------------------------------\")\n",
    "print(\"Multinomial Logistic Regression feature selection with RFE\")\n",
    "print(\"-------------------------------\")\n",
    "print(accuracy_score(dfResult[\"trueLabel\"], dfResult[\"mlr_rfe\"]))\n",
    "print()\n",
    "\n",
    "print(\"-------------------------------\")\n",
    "print(\"Neural Network without feature selection\")\n",
    "print(\"-------------------------------\")\n",
    "print(accuracy_score(dfResult[\"trueLabel\"], dfResult[\"nn\"]))\n",
    "print()\n",
    "\n",
    "print(\"-------------------------------\")\n",
    "print(\"Neural Network feature selection with SFS\")\n",
    "print(\"-------------------------------\")\n",
    "print(accuracy_score(dfResult[\"trueLabel\"], dfResult[\"nn_sfs\"]))\n",
    "print()"
   ]
  },
  {
   "cell_type": "markdown",
   "id": "85ada300",
   "metadata": {},
   "source": [
    "### Drafts and unfinished codes"
   ]
  },
  {
   "cell_type": "code",
   "execution_count": null,
   "id": "b7d2185f",
   "metadata": {},
   "outputs": [],
   "source": [
    "# Explore the number of features du select \n",
    "# Get a list of models to evaluate\n",
    "def get_models(model):\n",
    "    models = dict()\n",
    "    for i in range(2, 19):\n",
    "        rfe = RFE(estimator=model, n_features_to_select=i)\n",
    "        model = model\n",
    "        models[str(i)] = Pipeline(steps=[('s',rfe),('m',model)])\n",
    "    return models\n",
    " \n",
    "# Evaluate a give model using cross-validation\n",
    "def evaluate_model(model, X, y):\n",
    "    cv = RepeatedStratifiedKFold(n_splits=10, n_repeats=3, random_state=1)\n",
    "    scores = cross_val_score(model, X, y, scoring=Scoring, cv=cv, n_jobs=-1, error_score='raise')\n",
    "    return scores\n",
    " \n",
    "# get the models to evaluate\n",
    "models = get_models(model_LR)\n",
    "# evaluate the models and store results\n",
    "results, names = list(), list()\n",
    "for name, model in models.items():\n",
    "    scores = evaluate_model(model, X_train, y_train)\n",
    "    results.append(scores)\n",
    "    names.append(name)\n",
    "    print(name + ' features -> CV error: mean ' + Scoring + '={} (std={})'\n",
    "          .format(round(mean(scores),3), round(std(scores),3)))\n",
    "\n",
    "# plot model performance for comparison\n",
    "#-----------------------------------------------------\n",
    "f, ax = plt.subplots(figsize=(15,7))\n",
    "ax.set_title(\"Bloxplot of the distribution of \" + Scoring +\" scores for each configured number of features\")\n",
    "ax.set_xlabel(\"number of features\")\n",
    "ax.set_ylabel(\"distribution of \" + Scoring +\" scores\")\n",
    "plt.boxplot(results, labels=names, showmeans=True)\n",
    "plt.show()"
   ]
  },
  {
   "cell_type": "code",
   "execution_count": null,
   "id": "53b07b8e",
   "metadata": {},
   "outputs": [],
   "source": [
    "# Perform a scikit-learn Recursive Feature Elimination (RFE)\n",
    "#------------------------------------------\n",
    "RFE_selector = RFE(model_LR, n_features_to_select=6, step=1) #step=1: nb of features to remove at each iteration\n",
    "RFE_selector = RFE_selector.fit(X_train, y_train)\n",
    "#print(RFE_selector.support_)\n",
    "#print(RFE_selector.ranking_)\n",
    "\n",
    "\n",
    "# Now print out the features in order of ranking\n",
    "#------------------------------------------\n",
    "from operator import itemgetter\n",
    "features = np.array(X_train.columns.to_list())\n",
    "print(\"Features in order of ranking:\")\n",
    "for x, y in (sorted(zip(RFE_selector.ranking_ , features), key=itemgetter(0))):\n",
    "    print(x, y)\n",
    "print(\"-----------------------------------\")\n",
    "print(\"The selected {} features are:\\n{}\".format(RFE_selector.n_features_,features[RFE_selector.support_]))"
   ]
  }
 ],
 "metadata": {
  "kernelspec": {
   "display_name": "Python 3 (ipykernel)",
   "language": "python",
   "name": "python3"
  },
  "language_info": {
   "codemirror_mode": {
    "name": "ipython",
    "version": 3
   },
   "file_extension": ".py",
   "mimetype": "text/x-python",
   "name": "python",
   "nbconvert_exporter": "python",
   "pygments_lexer": "ipython3",
   "version": "3.9.7"
  },
  "toc": {
   "base_numbering": 1,
   "nav_menu": {},
   "number_sections": true,
   "sideBar": true,
   "skip_h1_title": false,
   "title_cell": "Table of Contents",
   "title_sidebar": "Contents",
   "toc_cell": false,
   "toc_position": {
    "height": "calc(100% - 180px)",
    "left": "10px",
    "top": "150px",
    "width": "287px"
   },
   "toc_section_display": true,
   "toc_window_display": true
  }
 },
 "nbformat": 4,
 "nbformat_minor": 5
}
