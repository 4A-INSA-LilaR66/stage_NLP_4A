{
 "cells": [
  {
   "cell_type": "markdown",
   "id": "6726fcbf",
   "metadata": {},
   "source": [
    "# Dashbord Project Part 2: Naives Approaches"
   ]
  },
  {
   "cell_type": "markdown",
   "id": "2c723bb1",
   "metadata": {},
   "source": [
    "## Retrieve datasets"
   ]
  },
  {
   "cell_type": "code",
   "execution_count": 1,
   "id": "e7de3f3c",
   "metadata": {},
   "outputs": [
    {
     "name": "stderr",
     "output_type": "stream",
     "text": [
      "[nltk_data] Downloading package stopwords to\n",
      "[nltk_data]     C:\\Users\\coxi\\AppData\\Roaming\\nltk_data...\n",
      "[nltk_data]   Package stopwords is already up-to-date!\n"
     ]
    }
   ],
   "source": [
    "#libraries\n",
    "#----------------------------------------------\n",
    "#----- computation\n",
    "import pandas as pd\n",
    "from pylab import * \n",
    "import numpy as np\n",
    "import numpy.linalg as npl\n",
    "import math \n",
    "from collections import Counter #to count values in a dataframe or array\n",
    "from datetime import date, timedelta, datetime #for the date\n",
    "import datetime as dt\n",
    "from sklearn.metrics import f1_score, accuracy_score\n",
    "#----- plots\n",
    "import matplotlib.pyplot as plt #to plot graphs\n",
    "import matplotlib.patches as mpatches #to customize legend\n",
    "import seaborn as sns #to plot graphs\n",
    "#----- move to directories\n",
    "import os\n",
    "#----- data cleaning\n",
    "import re #to find integers & floats in a string \n",
    "import string #for text cleaning\n",
    "from string import digits\n",
    "import unidecode\n",
    "from spellchecker import SpellChecker #spell checker\n",
    "#----- nlp libraries\n",
    "#--nltk\n",
    "import nltk #for NLP\n",
    "from nltk.corpus import stopwords\n",
    "nltk.download('stopwords') #download stop words\n",
    "from nltk import word_tokenize\n",
    "#--textblob\n",
    "from textblob import TextBlob\n",
    "#--vader\n",
    "from vaderSentiment.vaderSentiment import SentimentIntensityAnalyzer\n",
    "#--librairies for BERT\n",
    "from transformers import AutoTokenizer, AutoModelForSequenceClassification\n",
    "import torch"
   ]
  },
  {
   "cell_type": "code",
   "execution_count": 2,
   "id": "e2234243",
   "metadata": {},
   "outputs": [],
   "source": [
    "#be sure to be in the correct folder\n",
    "#--------------------------------------------------\n",
    "PATH = \"C:\\\\Users\\\\coxi\\\\Desktop\\\\PROJECT_INTERSHIP\\\\projectdashboard\"\n",
    "os.chdir(PATH)"
   ]
  },
  {
   "cell_type": "code",
   "execution_count": 3,
   "id": "fda96be1",
   "metadata": {},
   "outputs": [],
   "source": [
    "#recovery of the dashbords defined in DashbordDataAnalysisPython_v8 notebook\n",
    "#--------------------------------------------------\n",
    "dashbord  = pd.read_pickle('dashbord2.pkl')\n",
    "#just drop first row where \"this is a test\" is written\n",
    "dashbord.drop(labels = 0,axis = 0,inplace = True)\n",
    "dashbord.reset_index(inplace = True,drop = True)\n",
    "\n",
    "dfProgSup = pd.read_pickle('dfProgSup.pkl')\n",
    "dfProgStu = pd.read_pickle('dfProgStu.pkl')\n",
    "dfProgSup_s = pd.read_pickle('dfProgSup_s.pkl')\n",
    "dfProgStu_s = pd.read_pickle('dfProgStu_s.pkl')"
   ]
  },
  {
   "cell_type": "code",
   "execution_count": 4,
   "id": "efcc2621",
   "metadata": {},
   "outputs": [
    {
     "data": {
      "text/plain": [
       "approved              category\n",
       "date            datetime64[ns]\n",
       "duration               float64\n",
       "module                category\n",
       "Year                     int64\n",
       "progress              category\n",
       "type                  category\n",
       "Marks                  float64\n",
       "Student                float64\n",
       "Supervisor             float64\n",
       "comments                object\n",
       "deliverables            object\n",
       "dtype: object"
      ]
     },
     "execution_count": 4,
     "metadata": {},
     "output_type": "execute_result"
    }
   ],
   "source": [
    "dashbord.dtypes"
   ]
  },
  {
   "cell_type": "code",
   "execution_count": 5,
   "id": "be552ae3",
   "metadata": {},
   "outputs": [
    {
     "data": {
      "text/html": [
       "<div>\n",
       "<style scoped>\n",
       "    .dataframe tbody tr th:only-of-type {\n",
       "        vertical-align: middle;\n",
       "    }\n",
       "\n",
       "    .dataframe tbody tr th {\n",
       "        vertical-align: top;\n",
       "    }\n",
       "\n",
       "    .dataframe thead th {\n",
       "        text-align: right;\n",
       "    }\n",
       "</style>\n",
       "<table border=\"1\" class=\"dataframe\">\n",
       "  <thead>\n",
       "    <tr style=\"text-align: right;\">\n",
       "      <th></th>\n",
       "      <th>approved</th>\n",
       "      <th>date</th>\n",
       "      <th>duration</th>\n",
       "      <th>module</th>\n",
       "      <th>Year</th>\n",
       "      <th>progress</th>\n",
       "      <th>type</th>\n",
       "      <th>Marks</th>\n",
       "      <th>Student</th>\n",
       "      <th>Supervisor</th>\n",
       "      <th>comments</th>\n",
       "      <th>deliverables</th>\n",
       "    </tr>\n",
       "  </thead>\n",
       "  <tbody>\n",
       "    <tr>\n",
       "      <th>0</th>\n",
       "      <td>1.0</td>\n",
       "      <td>2017-12-07</td>\n",
       "      <td>NaN</td>\n",
       "      <td>mcm</td>\n",
       "      <td>2018</td>\n",
       "      <td>satisfactory</td>\n",
       "      <td>approval</td>\n",
       "      <td>66.0</td>\n",
       "      <td>4.0</td>\n",
       "      <td>17.0</td>\n",
       "      <td>Watch out for peer reviews journals looking fo...</td>\n",
       "      <td>NaN</td>\n",
       "    </tr>\n",
       "    <tr>\n",
       "      <th>1</th>\n",
       "      <td>NaN</td>\n",
       "      <td>2018-02-20</td>\n",
       "      <td>NaN</td>\n",
       "      <td>mcm</td>\n",
       "      <td>2018</td>\n",
       "      <td>satisfactory</td>\n",
       "      <td>meeting</td>\n",
       "      <td>66.0</td>\n",
       "      <td>4.0</td>\n",
       "      <td>17.0</td>\n",
       "      <td>Discussed general outline of paper i.e. resear...</td>\n",
       "      <td>Identify suitable collection of malicious VB s...</td>\n",
       "    </tr>\n",
       "    <tr>\n",
       "      <th>2</th>\n",
       "      <td>NaN</td>\n",
       "      <td>2018-07-13</td>\n",
       "      <td>NaN</td>\n",
       "      <td>mcm</td>\n",
       "      <td>2018</td>\n",
       "      <td>satisfactory</td>\n",
       "      <td>meeting</td>\n",
       "      <td>66.0</td>\n",
       "      <td>4.0</td>\n",
       "      <td>17.0</td>\n",
       "      <td>Ed emailed the progress report below in advanc...</td>\n",
       "      <td>NaN</td>\n",
       "    </tr>\n",
       "    <tr>\n",
       "      <th>3</th>\n",
       "      <td>1.0</td>\n",
       "      <td>2018-01-23</td>\n",
       "      <td>NaN</td>\n",
       "      <td>mcm</td>\n",
       "      <td>2018</td>\n",
       "      <td>satisfactory</td>\n",
       "      <td>approval</td>\n",
       "      <td>58.0</td>\n",
       "      <td>14.0</td>\n",
       "      <td>41.0</td>\n",
       "      <td>NaN</td>\n",
       "      <td>NaN</td>\n",
       "    </tr>\n",
       "    <tr>\n",
       "      <th>4</th>\n",
       "      <td>NaN</td>\n",
       "      <td>2018-03-21</td>\n",
       "      <td>10.0</td>\n",
       "      <td>mcm</td>\n",
       "      <td>2018</td>\n",
       "      <td>satisfactory</td>\n",
       "      <td>meeting</td>\n",
       "      <td>58.0</td>\n",
       "      <td>14.0</td>\n",
       "      <td>41.0</td>\n",
       "      <td>Data preparation in terms of cleaning has been...</td>\n",
       "      <td>Transformations of the data from string to num...</td>\n",
       "    </tr>\n",
       "  </tbody>\n",
       "</table>\n",
       "</div>"
      ],
      "text/plain": [
       "  approved       date  duration module  Year      progress      type  Marks  \\\n",
       "0      1.0 2017-12-07       NaN    mcm  2018  satisfactory  approval   66.0   \n",
       "1      NaN 2018-02-20       NaN    mcm  2018  satisfactory   meeting   66.0   \n",
       "2      NaN 2018-07-13       NaN    mcm  2018  satisfactory   meeting   66.0   \n",
       "3      1.0 2018-01-23       NaN    mcm  2018  satisfactory  approval   58.0   \n",
       "4      NaN 2018-03-21      10.0    mcm  2018  satisfactory   meeting   58.0   \n",
       "\n",
       "   Student  Supervisor                                           comments  \\\n",
       "0      4.0        17.0  Watch out for peer reviews journals looking fo...   \n",
       "1      4.0        17.0  Discussed general outline of paper i.e. resear...   \n",
       "2      4.0        17.0  Ed emailed the progress report below in advanc...   \n",
       "3     14.0        41.0                                                NaN   \n",
       "4     14.0        41.0  Data preparation in terms of cleaning has been...   \n",
       "\n",
       "                                        deliverables  \n",
       "0                                                NaN  \n",
       "1  Identify suitable collection of malicious VB s...  \n",
       "2                                                NaN  \n",
       "3                                                NaN  \n",
       "4  Transformations of the data from string to num...  "
      ]
     },
     "execution_count": 5,
     "metadata": {},
     "output_type": "execute_result"
    }
   ],
   "source": [
    "dashbord.head()"
   ]
  },
  {
   "cell_type": "markdown",
   "id": "f7f8ed3d",
   "metadata": {},
   "source": [
    "## First Graphs of the Text"
   ]
  },
  {
   "cell_type": "code",
   "execution_count": 6,
   "id": "3f735f35",
   "metadata": {},
   "outputs": [],
   "source": [
    "def cleanTextDeep(txt):\n",
    "    nbLinks = 0\n",
    "    \n",
    "    if (pd.isna(txt) == False): #if there is a text\n",
    "        txt = str(txt) #convert to string to avoid problems\n",
    "        if (re.search('[a-zA-Z]', txt) != None): #if there is at least a letter in the text\n",
    "            #----- Count and removes url links\n",
    "            nbLinks = len(re.findall(r'(https?://[^\\s]+)', txt)) #count the number of url links in the text\n",
    "            txt = re.sub(r'(https?://[^\\s]+)',' ', txt)#removes all url links\n",
    "            #----- Converting to lower case\n",
    "            txt = txt.lower()\n",
    "            #----- Removes punctuation and digits \n",
    "            txt = re.sub(r'[^\\w\\s]', ' ', txt) #removes anything that isn’t a word, a number or a whitespace\n",
    "            #documentation: https://datagy.io/python-remove-punctuation-from-string/\n",
    "            txt = re.sub('\\w*\\d\\w*', '', txt) #remove any word with a digit in it\n",
    "            #----- Removes unwanted text\n",
    "            txt = re.sub('\\n', ' ', txt) #removes \\n characters\n",
    "            txt = unidecode.unidecode(txt) #transforms character with accent into character without accent\n",
    "            txt = re.sub(' +', ' ', txt) #removes extra blank text\n",
    "    return txt,nbLinks\n",
    "\n",
    "f_round1 = lambda x: cleanTextDeep(x)[0] #to apply cleanTextDeep on the dataframe\n",
    "f_NbLinks = lambda x: cleanTextDeep(x)[1] "
   ]
  },
  {
   "cell_type": "code",
   "execution_count": 7,
   "id": "1909e837",
   "metadata": {
    "scrolled": false
   },
   "outputs": [],
   "source": [
    "#Cleaning Round 1 using cleanTextDeep\n",
    "#-----------------------------------------------------------------------\n",
    "idxNoNa = np.where(dashbord[\"comments\"].isna()==False) #indexes of non NaN values \n",
    "dashbordC = pd.DataFrame(dashbord[[\"Student\",\"Supervisor\",\"type\",\"comments\"]].iloc[idxNoNa].copy()) #create new dataframe with non NaN comments \n",
    "\n",
    "dashbordC[\"comments\"] = dashbordC[\"comments\"].apply(f_round1) #clean the  dashbord\n",
    "dashbordC[\"nbLinks\"] = dashbordC[\"comments\"].apply(f_NbLinks) #add number of url links"
   ]
  },
  {
   "cell_type": "code",
   "execution_count": 8,
   "id": "dacc9aa8",
   "metadata": {},
   "outputs": [
    {
     "data": {
      "text/html": [
       "<div>\n",
       "<style scoped>\n",
       "    .dataframe tbody tr th:only-of-type {\n",
       "        vertical-align: middle;\n",
       "    }\n",
       "\n",
       "    .dataframe tbody tr th {\n",
       "        vertical-align: top;\n",
       "    }\n",
       "\n",
       "    .dataframe thead th {\n",
       "        text-align: right;\n",
       "    }\n",
       "</style>\n",
       "<table border=\"1\" class=\"dataframe\">\n",
       "  <thead>\n",
       "    <tr style=\"text-align: right;\">\n",
       "      <th></th>\n",
       "      <th>Student</th>\n",
       "      <th>Supervisor</th>\n",
       "      <th>type</th>\n",
       "      <th>comments</th>\n",
       "      <th>nbLinks</th>\n",
       "    </tr>\n",
       "  </thead>\n",
       "  <tbody>\n",
       "    <tr>\n",
       "      <th>0</th>\n",
       "      <td>4.0</td>\n",
       "      <td>17.0</td>\n",
       "      <td>approval</td>\n",
       "      <td>watch out for peer reviews journals looking fo...</td>\n",
       "      <td>0</td>\n",
       "    </tr>\n",
       "    <tr>\n",
       "      <th>1</th>\n",
       "      <td>4.0</td>\n",
       "      <td>17.0</td>\n",
       "      <td>meeting</td>\n",
       "      <td>discussed general outline of paper i e researc...</td>\n",
       "      <td>0</td>\n",
       "    </tr>\n",
       "    <tr>\n",
       "      <th>2</th>\n",
       "      <td>4.0</td>\n",
       "      <td>17.0</td>\n",
       "      <td>meeting</td>\n",
       "      <td>ed emailed the progress report below in advanc...</td>\n",
       "      <td>0</td>\n",
       "    </tr>\n",
       "    <tr>\n",
       "      <th>4</th>\n",
       "      <td>14.0</td>\n",
       "      <td>41.0</td>\n",
       "      <td>meeting</td>\n",
       "      <td>data preparation in terms of cleaning has been...</td>\n",
       "      <td>0</td>\n",
       "    </tr>\n",
       "    <tr>\n",
       "      <th>5</th>\n",
       "      <td>14.0</td>\n",
       "      <td>41.0</td>\n",
       "      <td>approval</td>\n",
       "      <td>enhancing credit analysis using geo spatial te...</td>\n",
       "      <td>0</td>\n",
       "    </tr>\n",
       "  </tbody>\n",
       "</table>\n",
       "</div>"
      ],
      "text/plain": [
       "   Student  Supervisor      type  \\\n",
       "0      4.0        17.0  approval   \n",
       "1      4.0        17.0   meeting   \n",
       "2      4.0        17.0   meeting   \n",
       "4     14.0        41.0   meeting   \n",
       "5     14.0        41.0  approval   \n",
       "\n",
       "                                            comments  nbLinks  \n",
       "0  watch out for peer reviews journals looking fo...        0  \n",
       "1  discussed general outline of paper i e researc...        0  \n",
       "2  ed emailed the progress report below in advanc...        0  \n",
       "4  data preparation in terms of cleaning has been...        0  \n",
       "5  enhancing credit analysis using geo spatial te...        0  "
      ]
     },
     "execution_count": 8,
     "metadata": {},
     "output_type": "execute_result"
    }
   ],
   "source": [
    "dashbordC.head()"
   ]
  },
  {
   "cell_type": "code",
   "execution_count": 9,
   "id": "8551e7d9",
   "metadata": {},
   "outputs": [],
   "source": [
    "#stop words removal\n",
    "#-----------------------------------------------------------------------\n",
    "stop=stopwords.words('english') #english stop words\n",
    "f_stopWords = lambda x: \" \".join(x for x in x.split() if x not in stop) #to apply stop words removing on the dataframe\n",
    "dashbordC[\"stopWords\"] = dashbordC[\"comments\"].apply(f_stopWords)"
   ]
  },
  {
   "cell_type": "code",
   "execution_count": 10,
   "id": "d86db1bc",
   "metadata": {},
   "outputs": [],
   "source": [
    "#tokenization (by word) of the comments where stop words have been removed\n",
    "#-----------------------------------------------------------------------\n",
    "dashbordC['tokens'] = dashbordC.apply(lambda row: nltk.word_tokenize(row['stopWords']), axis=1)"
   ]
  },
  {
   "cell_type": "code",
   "execution_count": 11,
   "id": "40bd54a3",
   "metadata": {},
   "outputs": [],
   "source": [
    "#text length for each comments once stop words have been removed\n",
    "#-----------------------------------------------------------------------\n",
    "dashbordC['textLength'] = dashbordC['tokens'].apply(lambda x: len(x))"
   ]
  },
  {
   "cell_type": "code",
   "execution_count": 12,
   "id": "6f8063c1",
   "metadata": {},
   "outputs": [
    {
     "data": {
      "text/html": [
       "<div>\n",
       "<style scoped>\n",
       "    .dataframe tbody tr th:only-of-type {\n",
       "        vertical-align: middle;\n",
       "    }\n",
       "\n",
       "    .dataframe tbody tr th {\n",
       "        vertical-align: top;\n",
       "    }\n",
       "\n",
       "    .dataframe thead th {\n",
       "        text-align: right;\n",
       "    }\n",
       "</style>\n",
       "<table border=\"1\" class=\"dataframe\">\n",
       "  <thead>\n",
       "    <tr style=\"text-align: right;\">\n",
       "      <th></th>\n",
       "      <th>Student</th>\n",
       "      <th>Supervisor</th>\n",
       "      <th>type</th>\n",
       "      <th>comments</th>\n",
       "      <th>nbLinks</th>\n",
       "      <th>stopWords</th>\n",
       "      <th>tokens</th>\n",
       "      <th>textLength</th>\n",
       "    </tr>\n",
       "  </thead>\n",
       "  <tbody>\n",
       "    <tr>\n",
       "      <th>0</th>\n",
       "      <td>4.0</td>\n",
       "      <td>17.0</td>\n",
       "      <td>approval</td>\n",
       "      <td>watch out for peer reviews journals looking fo...</td>\n",
       "      <td>0</td>\n",
       "      <td>watch peer reviews journals looking things lik...</td>\n",
       "      <td>[watch, peer, reviews, journals, looking, thin...</td>\n",
       "      <td>15</td>\n",
       "    </tr>\n",
       "    <tr>\n",
       "      <th>1</th>\n",
       "      <td>4.0</td>\n",
       "      <td>17.0</td>\n",
       "      <td>meeting</td>\n",
       "      <td>discussed general outline of paper i e researc...</td>\n",
       "      <td>0</td>\n",
       "      <td>discussed general outline paper e research que...</td>\n",
       "      <td>[discussed, general, outline, paper, e, resear...</td>\n",
       "      <td>45</td>\n",
       "    </tr>\n",
       "    <tr>\n",
       "      <th>2</th>\n",
       "      <td>4.0</td>\n",
       "      <td>17.0</td>\n",
       "      <td>meeting</td>\n",
       "      <td>ed emailed the progress report below in advanc...</td>\n",
       "      <td>0</td>\n",
       "      <td>ed emailed progress report advance meeting dis...</td>\n",
       "      <td>[ed, emailed, progress, report, advance, meeti...</td>\n",
       "      <td>207</td>\n",
       "    </tr>\n",
       "    <tr>\n",
       "      <th>4</th>\n",
       "      <td>14.0</td>\n",
       "      <td>41.0</td>\n",
       "      <td>meeting</td>\n",
       "      <td>data preparation in terms of cleaning has been...</td>\n",
       "      <td>0</td>\n",
       "      <td>data preparation terms cleaning completed summ...</td>\n",
       "      <td>[data, preparation, terms, cleaning, completed...</td>\n",
       "      <td>8</td>\n",
       "    </tr>\n",
       "    <tr>\n",
       "      <th>5</th>\n",
       "      <td>14.0</td>\n",
       "      <td>41.0</td>\n",
       "      <td>approval</td>\n",
       "      <td>enhancing credit analysis using geo spatial te...</td>\n",
       "      <td>0</td>\n",
       "      <td>enhancing credit analysis using geo spatial te...</td>\n",
       "      <td>[enhancing, credit, analysis, using, geo, spat...</td>\n",
       "      <td>30</td>\n",
       "    </tr>\n",
       "  </tbody>\n",
       "</table>\n",
       "</div>"
      ],
      "text/plain": [
       "   Student  Supervisor      type  \\\n",
       "0      4.0        17.0  approval   \n",
       "1      4.0        17.0   meeting   \n",
       "2      4.0        17.0   meeting   \n",
       "4     14.0        41.0   meeting   \n",
       "5     14.0        41.0  approval   \n",
       "\n",
       "                                            comments  nbLinks  \\\n",
       "0  watch out for peer reviews journals looking fo...        0   \n",
       "1  discussed general outline of paper i e researc...        0   \n",
       "2  ed emailed the progress report below in advanc...        0   \n",
       "4  data preparation in terms of cleaning has been...        0   \n",
       "5  enhancing credit analysis using geo spatial te...        0   \n",
       "\n",
       "                                           stopWords  \\\n",
       "0  watch peer reviews journals looking things lik...   \n",
       "1  discussed general outline paper e research que...   \n",
       "2  ed emailed progress report advance meeting dis...   \n",
       "4  data preparation terms cleaning completed summ...   \n",
       "5  enhancing credit analysis using geo spatial te...   \n",
       "\n",
       "                                              tokens  textLength  \n",
       "0  [watch, peer, reviews, journals, looking, thin...          15  \n",
       "1  [discussed, general, outline, paper, e, resear...          45  \n",
       "2  [ed, emailed, progress, report, advance, meeti...         207  \n",
       "4  [data, preparation, terms, cleaning, completed...           8  \n",
       "5  [enhancing, credit, analysis, using, geo, spat...          30  "
      ]
     },
     "execution_count": 12,
     "metadata": {},
     "output_type": "execute_result"
    }
   ],
   "source": [
    "dashbordC.head()"
   ]
  },
  {
   "cell_type": "code",
   "execution_count": 13,
   "id": "5a8cd016",
   "metadata": {},
   "outputs": [],
   "source": [
    "def computeMeanLength(df,name = \"Supervisor\"):\n",
    "    \"\"\"\n",
    "    ---> input: df (dataframe) = computeProgress(stacked=True) or computeProgress(\"Student\",stacked=True)\n",
    "    ---> ouput: same dataframe df but a column \"meanLength\" reprenting the mean length of comments \n",
    "    for each supervisor/student after stopwords removal, is added.\n",
    "    \"\"\"\n",
    "    supList = np.sort(dashbordC[name].dropna(axis=0).drop_duplicates().values).astype(int) #Supervisor/Student ID's\n",
    "    #add to current dataframe a column with the average length of a comment\n",
    "    df[\"meanLength\"] = np.zeros(len(df),dtype = int) \n",
    "\n",
    "    for s in supList:\n",
    "        df[\"meanLength\"].loc[s] = round(dashbordC[\"textLength\"].iloc[np.where(dashbordC[name] == s)].mean())\n",
    "\n",
    "    return(df)"
   ]
  },
  {
   "cell_type": "code",
   "execution_count": 14,
   "id": "2b051b9f",
   "metadata": {},
   "outputs": [
    {
     "name": "stderr",
     "output_type": "stream",
     "text": [
      "C:\\Users\\coxi\\AppData\\Local\\Temp\\ipykernel_9044\\4242147825.py:12: SettingWithCopyWarning: \n",
      "A value is trying to be set on a copy of a slice from a DataFrame\n",
      "\n",
      "See the caveats in the documentation: https://pandas.pydata.org/pandas-docs/stable/user_guide/indexing.html#returning-a-view-versus-a-copy\n",
      "  df[\"meanLength\"].loc[s] = round(dashbordC[\"textLength\"].iloc[np.where(dashbordC[name] == s)].mean())\n",
      "C:\\Users\\coxi\\AppData\\Local\\Temp\\ipykernel_9044\\4242147825.py:12: SettingWithCopyWarning: \n",
      "A value is trying to be set on a copy of a slice from a DataFrame\n",
      "\n",
      "See the caveats in the documentation: https://pandas.pydata.org/pandas-docs/stable/user_guide/indexing.html#returning-a-view-versus-a-copy\n",
      "  df[\"meanLength\"].loc[s] = round(dashbordC[\"textLength\"].iloc[np.where(dashbordC[name] == s)].mean())\n"
     ]
    }
   ],
   "source": [
    "#call function computeMeanLength\n",
    "#--------------------------------------\n",
    "dfProgSup_s = computeMeanLength(dfProgSup_s,name = \"Supervisor\")\n",
    "dfProgStu_s = computeMeanLength(dfProgStu_s,name = \"Student\")"
   ]
  },
  {
   "cell_type": "code",
   "execution_count": 15,
   "id": "63f90e87",
   "metadata": {},
   "outputs": [
    {
     "data": {
      "image/png": "[encoded data removed]",
      "text/plain": [
       "<Figure size 1080x360 with 1 Axes>"
      ]
     },
     "metadata": {
      "needs_background": "light"
     },
     "output_type": "display_data"
    }
   ],
   "source": [
    "#Plot of the the mean lengths for comments\n",
    "#-------------------------------------------------\n",
    "f, ax = plt.subplots(figsize=(15, 5))\n",
    "sns.set_color_codes('pastel')\n",
    "\n",
    "#----- 1. plot of comments' mean length\n",
    "sns.barplot(ax = ax, x = dfProgSup_s.index, y = dfProgSup_s['meanLength'], data = dfProgSup_s,\n",
    "            label = '', color = 'b', edgecolor = 'w')\n",
    "#----- 2. add mean legth number above the bars\n",
    "for i, v in enumerate(dfProgSup_s['meanLength']):\n",
    "            ax.text(i, v+1.5, \"%d\" %v, ha=\"center\",color = 'slateblue', size = 10)    \n",
    "#--- axes\n",
    "ax.set(ylabel=\"mean length of comments\", xlabel=\"Supervisor ID\")\n",
    "ax.set_title('Mean length of comments for each supervisor (after stop words removal)')\n",
    "\n",
    "sns.despine(left = True, bottom = True) #remove graph frame\n",
    "plt.show()\n",
    "\n",
    "###### replace mean by median ######"
   ]
  },
  {
   "cell_type": "code",
   "execution_count": 16,
   "id": "f7061c38",
   "metadata": {},
   "outputs": [
    {
     "data": {
      "image/png": "[encoded data removed]",
      "text/plain": [
       "<Figure size 1080x360 with 2 Axes>"
      ]
     },
     "metadata": {
      "needs_background": "light"
     },
     "output_type": "display_data"
    }
   ],
   "source": [
    "f, (ax1,ax2)= plt.subplots(1,2,figsize=(15, 5),gridspec_kw={'width_ratios': [1, 2]},constrained_layout=True)\n",
    "\n",
    "#----- 1. Scatterplot Supervisors's Mean Marks and Supervisors's mean comments length\n",
    "sns.scatterplot(ax=ax1, x = \"Mean_mark\", y = \"meanLength\", data = dfProgSup_s,color = 'slateblue',edgecolor = 'w')\n",
    "\n",
    "#----- 2. Scatterplot Studets's Marks and Students's mean comments length\n",
    "sns.scatterplot(ax=ax2, x = \"Marks\", y = \"meanLength\", data = dfProgStu_s,color = 'slateblue',edgecolor = 'w')\n",
    "\n",
    "#----- 3. Define axes\n",
    "#-- ax1\n",
    "ax1.set_title(\"Mean length of a comment as a function of\\n\" + r\"the mean mark for each $\\bf{Supervisor}$\",fontsize=14)\n",
    "ax1.set(xlabel=\"Supervisor's mean mark\", ylabel=\"Mean length of comments\")\n",
    "#-- ax2\n",
    "ax2.set_title(\"Mean length of a comment as a function of\\n\" + r\"the mark for each $\\bf{Student}$\",fontsize=14)\n",
    "ax2.set(xlabel=\"Student's mark\", ylabel=\"Mean length of comments\")\n",
    "#----- 5. Background parameters        \n",
    "sns.despine(left = True, bottom = True)  #remove graph frame\n",
    "ax1.patch.set_facecolor('grey'); ax1.patch.set_alpha(0.05)\n",
    "ax2.patch.set_facecolor('grey'); ax2.patch.set_alpha(0.05)"
   ]
  },
  {
   "cell_type": "markdown",
   "id": "f30c66eb",
   "metadata": {},
   "source": [
    "## Construction of the miniLabel dataset\n",
    "Milabel dataset will be used as a validation set for model selection and parameters optimisation."
   ]
  },
  {
   "cell_type": "code",
   "execution_count": 17,
   "id": "00662a68",
   "metadata": {},
   "outputs": [
    {
     "data": {
      "text/html": [
       "<div>\n",
       "<style scoped>\n",
       "    .dataframe tbody tr th:only-of-type {\n",
       "        vertical-align: middle;\n",
       "    }\n",
       "\n",
       "    .dataframe tbody tr th {\n",
       "        vertical-align: top;\n",
       "    }\n",
       "\n",
       "    .dataframe thead th {\n",
       "        text-align: right;\n",
       "    }\n",
       "</style>\n",
       "<table border=\"1\" class=\"dataframe\">\n",
       "  <thead>\n",
       "    <tr style=\"text-align: right;\">\n",
       "      <th></th>\n",
       "      <th>comments</th>\n",
       "      <th>label</th>\n",
       "    </tr>\n",
       "  </thead>\n",
       "  <tbody>\n",
       "    <tr>\n",
       "      <th>566</th>\n",
       "      <td>This meeting took place on 28th February.\\n\\nP...</td>\n",
       "      <td>2</td>\n",
       "    </tr>\n",
       "    <tr>\n",
       "      <th>9096</th>\n",
       "      <td>Have front end built and models implemented ex...</td>\n",
       "      <td>2</td>\n",
       "    </tr>\n",
       "    <tr>\n",
       "      <th>3168</th>\n",
       "      <td>I am satisfied with the student's progress wit...</td>\n",
       "      <td>2</td>\n",
       "    </tr>\n",
       "    <tr>\n",
       "      <th>11723</th>\n",
       "      <td>Some good progress. \\n\\nBasic detection of dat...</td>\n",
       "      <td>2</td>\n",
       "    </tr>\n",
       "    <tr>\n",
       "      <th>7668</th>\n",
       "      <td>Working on monolithic implementation. Should b...</td>\n",
       "      <td>2</td>\n",
       "    </tr>\n",
       "    <tr>\n",
       "      <th>9921</th>\n",
       "      <td>Students explained about the progress of the p...</td>\n",
       "      <td>2</td>\n",
       "    </tr>\n",
       "    <tr>\n",
       "      <th>2584</th>\n",
       "      <td>Good progress. Plan presented for work up unti...</td>\n",
       "      <td>2</td>\n",
       "    </tr>\n",
       "    <tr>\n",
       "      <th>5889</th>\n",
       "      <td>July 15: 3pm\\n\\nGeneral update meeting. Signif...</td>\n",
       "      <td>2</td>\n",
       "    </tr>\n",
       "    <tr>\n",
       "      <th>9841</th>\n",
       "      <td>Good progress so far.\\nMake sure to keep thing...</td>\n",
       "      <td>2</td>\n",
       "    </tr>\n",
       "    <tr>\n",
       "      <th>6676</th>\n",
       "      <td>Good progress was made this week. The API docu...</td>\n",
       "      <td>2</td>\n",
       "    </tr>\n",
       "    <tr>\n",
       "      <th>1710</th>\n",
       "      <td>Meeting took place on 20th November.\\n\\nStuden...</td>\n",
       "      <td>2</td>\n",
       "    </tr>\n",
       "    <tr>\n",
       "      <th>8893</th>\n",
       "      <td>There has been some progress since the last me...</td>\n",
       "      <td>2</td>\n",
       "    </tr>\n",
       "    <tr>\n",
       "      <th>11078</th>\n",
       "      <td>We discussed the new topic for the final year ...</td>\n",
       "      <td>1</td>\n",
       "    </tr>\n",
       "    <tr>\n",
       "      <th>11786</th>\n",
       "      <td>Ethics document reviewed by Supervisor.</td>\n",
       "      <td>1</td>\n",
       "    </tr>\n",
       "    <tr>\n",
       "      <th>56</th>\n",
       "      <td>Yogesh has carried out several classification ...</td>\n",
       "      <td>1</td>\n",
       "    </tr>\n",
       "    <tr>\n",
       "      <th>10872</th>\n",
       "      <td>First preliminary meeting where we discussed t...</td>\n",
       "      <td>1</td>\n",
       "    </tr>\n",
       "    <tr>\n",
       "      <th>10579</th>\n",
       "      <td>Met to go over final presentation slides yeste...</td>\n",
       "      <td>1</td>\n",
       "    </tr>\n",
       "    <tr>\n",
       "      <th>10560</th>\n",
       "      <td>Capstone Interim Review presentation:\\nObjecti...</td>\n",
       "      <td>1</td>\n",
       "    </tr>\n",
       "    <tr>\n",
       "      <th>10</th>\n",
       "      <td>I believe that there is value in the proposal ...</td>\n",
       "      <td>1</td>\n",
       "    </tr>\n",
       "    <tr>\n",
       "      <th>52</th>\n",
       "      <td>Yogesh has started to work with scikit-learn. ...</td>\n",
       "      <td>1</td>\n",
       "    </tr>\n",
       "    <tr>\n",
       "      <th>1082</th>\n",
       "      <td>Meeting planned for 8/11/19 but student did no...</td>\n",
       "      <td>1</td>\n",
       "    </tr>\n",
       "    <tr>\n",
       "      <th>10898</th>\n",
       "      <td>Met with Rana to discuss her project presentat...</td>\n",
       "      <td>1</td>\n",
       "    </tr>\n",
       "    <tr>\n",
       "      <th>3911</th>\n",
       "      <td>We discussed the two options that students are...</td>\n",
       "      <td>1</td>\n",
       "    </tr>\n",
       "    <tr>\n",
       "      <th>5265</th>\n",
       "      <td>Fintan advanced in the implementation, the pre...</td>\n",
       "      <td>1</td>\n",
       "    </tr>\n",
       "    <tr>\n",
       "      <th>11077</th>\n",
       "      <td>I met with Gheorghe Burac for the third time. ...</td>\n",
       "      <td>0</td>\n",
       "    </tr>\n",
       "    <tr>\n",
       "      <th>10786</th>\n",
       "      <td>Presentation slides sent for feedback only on ...</td>\n",
       "      <td>0</td>\n",
       "    </tr>\n",
       "    <tr>\n",
       "      <th>10782</th>\n",
       "      <td>A very brief two page LR was submitted that fa...</td>\n",
       "      <td>0</td>\n",
       "    </tr>\n",
       "    <tr>\n",
       "      <th>338</th>\n",
       "      <td>Some slow progress has been made, but struggli...</td>\n",
       "      <td>0</td>\n",
       "    </tr>\n",
       "    <tr>\n",
       "      <th>22</th>\n",
       "      <td>Email contacts:\\n6 June\\n- run experiments for...</td>\n",
       "      <td>0</td>\n",
       "    </tr>\n",
       "    <tr>\n",
       "      <th>339</th>\n",
       "      <td>Very little progress has been made since the l...</td>\n",
       "      <td>0</td>\n",
       "    </tr>\n",
       "    <tr>\n",
       "      <th>7071</th>\n",
       "      <td>A little progress has been made on the front a...</td>\n",
       "      <td>0</td>\n",
       "    </tr>\n",
       "    <tr>\n",
       "      <th>1795</th>\n",
       "      <td>** Important Note: Functional Specification no...</td>\n",
       "      <td>0</td>\n",
       "    </tr>\n",
       "    <tr>\n",
       "      <th>481</th>\n",
       "      <td>Hari needs to finish his data analysis quickly...</td>\n",
       "      <td>0</td>\n",
       "    </tr>\n",
       "    <tr>\n",
       "      <th>251</th>\n",
       "      <td>Ankesh  has started his project proposal form....</td>\n",
       "      <td>0</td>\n",
       "    </tr>\n",
       "    <tr>\n",
       "      <th>1423</th>\n",
       "      <td>** FINAL REMINDER **\\n\\nTHIS IS AN IMPORTANT N...</td>\n",
       "      <td>0</td>\n",
       "    </tr>\n",
       "    <tr>\n",
       "      <th>2071</th>\n",
       "      <td>Love the logo.\\nThere is insufficient analysis...</td>\n",
       "      <td>0</td>\n",
       "    </tr>\n",
       "  </tbody>\n",
       "</table>\n",
       "</div>"
      ],
      "text/plain": [
       "                                                comments  label\n",
       "566    This meeting took place on 28th February.\\n\\nP...      2\n",
       "9096   Have front end built and models implemented ex...      2\n",
       "3168   I am satisfied with the student's progress wit...      2\n",
       "11723  Some good progress. \\n\\nBasic detection of dat...      2\n",
       "7668   Working on monolithic implementation. Should b...      2\n",
       "9921   Students explained about the progress of the p...      2\n",
       "2584   Good progress. Plan presented for work up unti...      2\n",
       "5889   July 15: 3pm\\n\\nGeneral update meeting. Signif...      2\n",
       "9841   Good progress so far.\\nMake sure to keep thing...      2\n",
       "6676   Good progress was made this week. The API docu...      2\n",
       "1710   Meeting took place on 20th November.\\n\\nStuden...      2\n",
       "8893   There has been some progress since the last me...      2\n",
       "11078  We discussed the new topic for the final year ...      1\n",
       "11786            Ethics document reviewed by Supervisor.      1\n",
       "56     Yogesh has carried out several classification ...      1\n",
       "10872  First preliminary meeting where we discussed t...      1\n",
       "10579  Met to go over final presentation slides yeste...      1\n",
       "10560  Capstone Interim Review presentation:\\nObjecti...      1\n",
       "10     I believe that there is value in the proposal ...      1\n",
       "52     Yogesh has started to work with scikit-learn. ...      1\n",
       "1082   Meeting planned for 8/11/19 but student did no...      1\n",
       "10898  Met with Rana to discuss her project presentat...      1\n",
       "3911   We discussed the two options that students are...      1\n",
       "5265   Fintan advanced in the implementation, the pre...      1\n",
       "11077  I met with Gheorghe Burac for the third time. ...      0\n",
       "10786  Presentation slides sent for feedback only on ...      0\n",
       "10782  A very brief two page LR was submitted that fa...      0\n",
       "338    Some slow progress has been made, but struggli...      0\n",
       "22     Email contacts:\\n6 June\\n- run experiments for...      0\n",
       "339    Very little progress has been made since the l...      0\n",
       "7071   A little progress has been made on the front a...      0\n",
       "1795   ** Important Note: Functional Specification no...      0\n",
       "481    Hari needs to finish his data analysis quickly...      0\n",
       "251    Ankesh  has started his project proposal form....      0\n",
       "1423   ** FINAL REMINDER **\\n\\nTHIS IS AN IMPORTANT N...      0\n",
       "2071   Love the logo.\\nThere is insufficient analysis...      0"
      ]
     },
     "execution_count": 17,
     "metadata": {},
     "output_type": "execute_result"
    }
   ],
   "source": [
    "#----- Construction of a mini labelled dataset\n",
    "#-------------------------------------------------------------\n",
    "locNeu = [11078,11786,56,10872,10579,10560,10,52,1082,10898,3911,5265] #row names (use .loc[]) of neutral comments\n",
    "locNeg = [11077,10786,10782,338,22,339,7071,1795,481,251,1423,2071] #row names (use .loc[]) of negative comments\n",
    "locPos = [566,9096,3168,11723,7668,9921,2584,5889,9841,6676,1710,8893] #row names (use .loc[]) of positive comments\n",
    "#miniLabel is a dataframe with labelled comments:\n",
    "# 0: negative comment\n",
    "# 1: neutral comment\n",
    "# 2: positive comment\n",
    "miniLabel = pd.DataFrame(dashbord[\"comments\"].loc[locPos + locNeu + locNeg])\n",
    "miniLabel[\"label\"] = np.r_[(2)*np.ones(len(locPos)),np.ones(len(locNeu)),np.zeros(len(locNeg))].astype(int)\n",
    "#clean de miniLabel Dataframe\n",
    "#miniLabel[\"comments\"] = miniLabel[\"comments\"].apply(f_cleanLight)\n",
    "miniLabel"
   ]
  },
  {
   "cell_type": "code",
   "execution_count": 18,
   "id": "65c4f898",
   "metadata": {},
   "outputs": [],
   "source": [
    "#----- pickle the results for later use \n",
    "#miniLabel.to_pickle(\"miniLabel.pkl\")\n",
    "miniLabel.to_excel(\"miniLabel.xlsx\")"
   ]
  },
  {
   "cell_type": "markdown",
   "id": "51c093b7",
   "metadata": {},
   "source": [
    "## How does sentiment Analysis work with textBlob?\n",
    "Linguists have created a dictionary with the words of the english language and the context in which they are used. \n",
    "For each word in its context, linguists have defined a polarity (negative/positive: -1.0 to +1.0, neutral: 0.0) and a subjectivity (objective/subjective, +0.0 to +1.0).\n",
    "\n",
    "*Ex:* the word \"great\":\n",
    "- in the sense \"very good\": polarity=\"1.0\" subjectivity=\"1.0\"\n",
    "- in the sense \"of major significance or importance\":  polarity=\"1.0\" subjectivity=\"1.0\"\n",
    "- in the sense \"relatively large in size or number or extent\": polarity=\"0.4\" subjectivity=\"0.2\" \n",
    "- in the sense \"remarkable or out of the ordinary in degree or magnitude or effect\": polarity=\"0.8\" subjectivity=\"0.8\"\n",
    "\n",
    "When calculating a sentiment for the word \"great\", TextBlob uses the average of all polarity and subjectivity values of the different senses of \"great\" to compute a polarity/subjectivity score.\\\n",
    "When calculating a sentiment for a whole sentence, TextBlob uses the average of all polarity and subjectivity values of each word in the sentence. \\\n",
    "Thus, this method is naive and may be outperformed by BERT. \n",
    "\n",
    "Apparently, there is no need for stopWords removal nor lemmatization with this method.\n",
    "\n",
    "Documentation: https://medium.com/red-buffer/sentiment-analysis-let-textblob-do-all-the-work-9927d803d137"
   ]
  },
  {
   "cell_type": "markdown",
   "id": "4c66aa2a",
   "metadata": {},
   "source": [
    "> Since TextBlob can detect punctuation, we do not remove it from the text."
   ]
  },
  {
   "cell_type": "code",
   "execution_count": 36,
   "id": "4ad3b5fe",
   "metadata": {},
   "outputs": [],
   "source": [
    "def cleanTextLight(txt):\n",
    "    \"\"\"\n",
    "    This function cleans the input text. \n",
    "    \"\"\"\n",
    "    nbLinks = 0\n",
    "    \n",
    "    if (pd.isna(txt) == False): #if there is a text\n",
    "        txt = str(txt) #convert to string to avoid problems\n",
    "        if (re.search('[a-zA-Z]', txt) != None): #if there is at least a letter in the text\n",
    "            #----- Count and removes url links\n",
    "            nbLinks = len(re.findall(r'(https?://[^\\s]+)', txt)) #count the number of url links in the text\n",
    "            txt = re.sub(r'(https?://[^\\s]+)',' ', txt)#removes all url links\n",
    "            #----- Removes digits \n",
    "            txt = re.sub('\\w*\\d\\w*', '', txt) #remove any word with a digit in it\n",
    "            #----- Removes unknown characters (but do not remove punctuation)\n",
    "            txt = re.sub('[^A-Za-z0-9\\.!?\\']+', ' ', txt)\n",
    "            #removes any spectial characters but keeps letters, digits and the following punctuation: [.!?']\n",
    "            #----- Removes unwanted text\n",
    "            txt = re.sub('\\n', ' ', txt) #removes \\n characters\n",
    "            txt = unidecode.unidecode(txt) #transforms character with accent into character without accent\n",
    "            txt = re.sub(' +', ' ', txt) #removes extra blank text\n",
    "    return txt,nbLinks\n",
    "\n",
    "f_cleanLight = lambda x: cleanTextLight(x)[0] #to apply cleanTextLight on the dataframe"
   ]
  },
  {
   "cell_type": "code",
   "execution_count": 37,
   "id": "0dfe0fe1",
   "metadata": {},
   "outputs": [],
   "source": [
    "#Light Cleaning using cleanTextLight for TextBlob\n",
    "#-----------------------------------------------------------------------\n",
    "idxNoNa = np.where(dashbord[\"comments\"].isna()==False) #indexes of non NaN values \n",
    "dashbordTB = pd.DataFrame(dashbord.iloc[idxNoNa].copy()) #create new dataframe with non NaN comments \n",
    "dashbordTB[\"comments\"] = dashbordTB[\"comments\"].apply(f_cleanLight) #clean the  dashbord"
   ]
  },
  {
   "cell_type": "code",
   "execution_count": 43,
   "id": "2a002156",
   "metadata": {},
   "outputs": [],
   "source": [
    "def computeSentimentTB(txt,t1=0.0,t2=0.0):\n",
    "    \"\"\"\n",
    "    This function computes the sentiment of a text using TextBlob.   \n",
    "    ---> input:\n",
    "    - txt (string): the text for which we want to calculate the sentiment\n",
    "    - t1, t2 (floats): thresholds to determine at what value the sentence is considered \n",
    "    to be positive, negative or neutral.\n",
    "    The function splits the text by sentences and computes de polariry p (sentiment) of each sentence with TextBlob. \n",
    "    TextBlob gives a float between -1 and 1. If p <= t1 then the sentence is negative (we assign the value -1),\n",
    "    if t1 < p < t2, the sentence is neutral (we assign the value 0) and if p >= t2 the sentence is postive\n",
    "    (we assign the value 1). \n",
    "    ---> output:\n",
    "    - the overall sentiment of the text taken as the most common sentiment among each sentence : -1,0,1.\n",
    "    Ex: \"This is great. The sun rises. Horrible. This is bad.\" gives vector [1,0,-1,-1] and the overall sentiment is -1.\n",
    "    - the overall sentiment of the text computed by TextBlob for comparison\n",
    "    \"\"\"\n",
    "    tokens = nltk.sent_tokenize(txt) #tokenize the text by sentence\n",
    "    sentiment = [] #list containing the sentiment of each sentence\n",
    "    for t in tokens:\n",
    "        p = TextBlob(t).sentiment.polarity\n",
    "        if p <= t1:\n",
    "            sentiment.append(0) #negative sentiment\n",
    "        elif p >= t2:\n",
    "            sentiment.append(2) #positive sentiment\n",
    "        else: \n",
    "            sentiment.append(1) #neutral sentiment\n",
    "    return (max(set(sentiment), key=sentiment.count))\n",
    "#f_sentiment = lambda x: computeSentimentTB(x)[0]"
   ]
  },
  {
   "cell_type": "code",
   "execution_count": 44,
   "id": "e1d5cae4",
   "metadata": {},
   "outputs": [],
   "source": [
    "def purity(tab):\n",
    "    \"\"\"\n",
    "    This function computes the purity of a contigency table;\n",
    "    \"\"\"\n",
    "    tab = tab.to_numpy()\n",
    "    p = 0\n",
    "    for i in range(min(np.shape(tab))):\n",
    "        p += tab[i,i]\n",
    "    return p/sum(sum(tab))"
   ]
  },
  {
   "cell_type": "code",
   "execution_count": 45,
   "id": "778dad94",
   "metadata": {},
   "outputs": [],
   "source": [
    "#find the best threshold values for the function computeSentimentTB\n",
    "#-------------------------------------------------------\n",
    "def computeBestThre(begin,end,step,df,function = computeSentimentTB,t1=0,t2=0,ToOptim =\"t2\"):\n",
    "    \"\"\"\n",
    "    This function computes the best threshold t2 for function computeSentimentTB(txt,t1,t2) by plotting     \n",
    "    the F1 score and Purity.    \n",
    "    ---> input:\n",
    "    - begin (int): the begin value for the grid value of t2\n",
    "    - end (int): the end value for the grid value of t2\n",
    "    - step (int): the step between each value for the grid value of t2\n",
    "    - df (dataframe): dataframe of the comments and their true label.\n",
    "    - t1 (float): value of threshold 1\n",
    "    - t1 (float): value of threshold 2\n",
    "    - ToOptim (string): threshold to optimize: t1 or t2\n",
    "    ----> output:\n",
    "    - plots to identity the best value for t2\n",
    "    - t_F1: best threshold value according to the F1-score\n",
    "    - F: best F1-score value\n",
    "    - t_P: best threshold value according to the Purity\n",
    "    - P: best Purity value\n",
    "    \"\"\"\n",
    "    ####### 1. computation of the F1-score and the purity\n",
    "    T = np.arange(begin,end,step) #value grid for threshold parameter in function computeSentimentTB\n",
    "    F1scores = [] #list of f1-scores between computeSentimentTB and realLabel.\n",
    "    purities = [] #list of purity between computeSentimentTB and realLabel.\n",
    "    \n",
    "    if ToOptim == \"t2\":\n",
    "        print(\"Optimisation of threshold t2 with threshold t1 fixed at value {}\".format(round(t1,3)))\n",
    "        for i in range(len(T)):\n",
    "            TB_computed = df[\"comments\"].apply(lambda x: function(x,t1,T[i]))\n",
    "            F1scores.append(f1_score(df['label'], TB_computed,average='macro'))\n",
    "            tab = pd.crosstab(index=df['label'], columns=TB_computed)\n",
    "            purities.append(purity(tab))\n",
    "    elif ToOptim == \"t1\":\n",
    "        print(\"Optimisation of threshold t1 with threshold t2 fixed at value {}\".format(round(t2,3)))\n",
    "        for i in range(len(T)):\n",
    "            TB_computed = df[\"comments\"].apply(lambda x: function(x,T[i],t2))\n",
    "            F1scores.append(f1_score(df['label'], TB_computed,average='macro'))\n",
    "            tab = pd.crosstab(index=df['label'], columns=TB_computed)\n",
    "            purities.append(purity(tab))\n",
    "   \n",
    "    t_f1 = T[np.argmax(F1scores)] #best threshold value according to the F1-score\n",
    "    f1 = np.max(F1scores) #best F1-score value\n",
    "    t_P = T[np.argmax(purities)] #best threshold value according to the Purity\n",
    "    P = np.max(purities) #best Purity value\n",
    "    \n",
    "    ####### 2. plot of the graphs \n",
    "    f, (ax,ax2) = plt.subplots(1,2,figsize=(20, 6))\n",
    "    #----- F1-score\n",
    "    sns.lineplot(ax = ax,x = T, y = F1scores,alpha = 0.9, label = 'F1-score', color = 'slateblue')  \n",
    "    #----- Purity\n",
    "    sns.lineplot(ax = ax2,x = T, y = purities,alpha = 0.9, label = 'Purity', color = 'slateblue')  \n",
    "\n",
    "    #----- Define axes\n",
    "    #--ax\n",
    "    ax.set(xlabel=\"threshold \" + ToOptim + \" values\", ylabel=\"f1-score\")\n",
    "    ax.set_title(r\"$\\bf{F1-score}$ between the real labels and the labels computed with\" \n",
    "                 +\"\\n\" + r\"$\\bf{\" + function.__name__ + \"}$ for different values of threshold \" + r\"$\\bf{\"+ToOptim+\"}$\")\n",
    "    ax.tick_params(axis='x', which='major',rotation=90)\n",
    "    ax.xaxis.set_ticks(np.arange(begin,end,step*5))\n",
    "    ax.axvline(x=t_f1,color = 'red',alpha = 0.6,linestyle = ':') \n",
    "    ax.text(0.1, 0.3, \"best f1-score for \" + ToOptim + \" = {}\".format(round(t_f1,3)),\n",
    "            horizontalalignment='left', transform=ax.transAxes,fontsize=13,color = 'red',alpha = 0.6)\n",
    "    #--ax2\n",
    "    ax2.set(xlabel=\"threshold \" + ToOptim + \" values\", ylabel=\"Purity\")\n",
    "    ax2.set_title(r\"$\\bf{Purity}$ between the real labels and the labels computed with\" \n",
    "                 +\"\\n\" + r\"$\\bf{\" + function.__name__ + \"}$ for different values of threshold \" + r\"$\\bf{\"+ToOptim+\"}$\")\n",
    "    ax2.tick_params(axis='x', which='major',rotation=90)\n",
    "    ax2.xaxis.set_ticks(np.arange(begin,end,step*5))\n",
    "    ax2.axvline(x=t_P,color = 'red',alpha = 0.6,linestyle = ':')\n",
    "    ax2.text(0.05, 0.3, \"best purity for \" + ToOptim + \" = {}\".format(round(t_P,3)),\n",
    "             horizontalalignment='left', transform=ax2.transAxes,fontsize=13,color = 'red',alpha = 0.6)\n",
    "    sns.despine(left = True, bottom = True) \n",
    "    plt.show()    \n",
    "    return (t_f1,t_P,f1,P)    \n",
    "    #documentation: https://www.baeldung.com/cs/multi-class-f1-score    \n",
    "    #the higher the f1-score and Purity, the better"
   ]
  },
  {
   "cell_type": "code",
   "execution_count": 46,
   "id": "95abee0b",
   "metadata": {},
   "outputs": [
    {
     "name": "stdout",
     "output_type": "stream",
     "text": [
      "Optimisation of threshold t2 with threshold t1 fixed at value 0\n"
     ]
    },
    {
     "data": {
      "image/png": "[encoded data removed]",
      "text/plain": [
       "<Figure size 1440x432 with 2 Axes>"
      ]
     },
     "metadata": {
      "needs_background": "light"
     },
     "output_type": "display_data"
    },
    {
     "name": "stdout",
     "output_type": "stream",
     "text": [
      "Optimisation of threshold t1 with threshold t2 fixed at value 0.29\n"
     ]
    },
    {
     "data": {
      "image/png": "[encoded data removed]",
      "text/plain": [
       "<Figure size 1440x432 with 2 Axes>"
      ]
     },
     "metadata": {
      "needs_background": "light"
     },
     "output_type": "display_data"
    }
   ],
   "source": [
    "t2_f1,t2_P,f11,P1 = computeBestThre(begin=-0.5,end=0.5,step=0.01,df=miniLabel,function = computeSentimentTB,\n",
    "                             t1=0,t2=0,ToOptim =\"t2\")\n",
    "t1_f1,t1_P,f12,P2 = computeBestThre(begin=-0.5,end=0.5,step=0.01,df=miniLabel,function = computeSentimentTB,\n",
    "                              t1=0,t2=t2_f1,ToOptim =\"t1\")"
   ]
  },
  {
   "cell_type": "code",
   "execution_count": 47,
   "id": "37c127f6",
   "metadata": {},
   "outputs": [
    {
     "name": "stdout",
     "output_type": "stream",
     "text": [
      "Contigency table for dataset miniLabel:\n",
      "\n"
     ]
    },
    {
     "data": {
      "text/html": [
       "<div>\n",
       "<style scoped>\n",
       "    .dataframe tbody tr th:only-of-type {\n",
       "        vertical-align: middle;\n",
       "    }\n",
       "\n",
       "    .dataframe tbody tr th {\n",
       "        vertical-align: top;\n",
       "    }\n",
       "\n",
       "    .dataframe thead th {\n",
       "        text-align: right;\n",
       "    }\n",
       "</style>\n",
       "<table border=\"1\" class=\"dataframe\">\n",
       "  <thead>\n",
       "    <tr style=\"text-align: right;\">\n",
       "      <th>TextBlob</th>\n",
       "      <th>0</th>\n",
       "      <th>1</th>\n",
       "      <th>2</th>\n",
       "    </tr>\n",
       "    <tr>\n",
       "      <th>label</th>\n",
       "      <th></th>\n",
       "      <th></th>\n",
       "      <th></th>\n",
       "    </tr>\n",
       "  </thead>\n",
       "  <tbody>\n",
       "    <tr>\n",
       "      <th>0</th>\n",
       "      <td>4</td>\n",
       "      <td>7</td>\n",
       "      <td>1</td>\n",
       "    </tr>\n",
       "    <tr>\n",
       "      <th>1</th>\n",
       "      <td>1</td>\n",
       "      <td>11</td>\n",
       "      <td>0</td>\n",
       "    </tr>\n",
       "    <tr>\n",
       "      <th>2</th>\n",
       "      <td>0</td>\n",
       "      <td>10</td>\n",
       "      <td>2</td>\n",
       "    </tr>\n",
       "  </tbody>\n",
       "</table>\n",
       "</div>"
      ],
      "text/plain": [
       "TextBlob  0   1  2\n",
       "label             \n",
       "0         4   7  1\n",
       "1         1  11  0\n",
       "2         0  10  2"
      ]
     },
     "execution_count": 47,
     "metadata": {},
     "output_type": "execute_result"
    }
   ],
   "source": [
    "#define computeSentimentTB function using the bests thresholds\n",
    "#-------------------------------------------------------\n",
    "miniLabel[\"TextBlob\"] = miniLabel[\"comments\"].apply(lambda x: computeSentimentTB(x,t1_f1,t2_f1))\n",
    "\n",
    "print(\"Contigency table for dataset miniLabel:\\n\")\n",
    "tabTB = pd.crosstab(index=miniLabel['label'], columns=miniLabel['TextBlob']);tabTB"
   ]
  },
  {
   "cell_type": "markdown",
   "id": "75b8f4a0",
   "metadata": {},
   "source": [
    "## How does sentiment Analysis work with VADER?\n",
    "VADER works on a Lexical approach in the same way as TextBlob and therefore does not require labelled data (unlike machine learning approaches which require labelled data but perform better). VADER sentiment analysis works best on short documents, like tweets and sentences, not on large documents and can detect the sentiment of emoticons like “:-)”, acronyms like “LOL”, and slang like “meh”. \n",
    "\n",
    "In addition to the lexical approach, VADER considers five simple heuristics:\n",
    "- Punctuation. Compare “I like it.” and “I like it!!!”\n",
    "- Capitalization. “AMAZING performance.” is more intense than “amazing performance.” \n",
    "- Degree modifiers. Take for example “effing cute” and “sort of cute.\n",
    "- Shift in polarity due to “but. Ex: I love you, but I don’t want to be with you anymore.” \n",
    "- Examining the tri-gram before a sentiment-laden lexical feature to catch polarity negation. \n",
    "\n",
    "For each text, the VADER sentiment analysis returns a dictionnary of 4 elements:\n",
    "- neg: percentage of negative sentiment in the text\n",
    "- neu: percentage of neutral sentiment in the text\n",
    "- pos: percentage of positive sentiment in the text\n",
    "- compound: The sentiment score of a sentence denoted `sum_s` is the sum of the sentiment score of each sentiment-bearing word (computed with lexicon sentiment and 5 heuristics). We then apply the __Hutto normalisation__ to `sum_s` to map it to a value between -1 to 1: $\\frac{x}{\\sqrt{x^2 + \\alpha}}$, where $\\alpha$ is an hyperparameter. This is the compound value.\n",
    "\n",
    "documentation:\\\n",
    "https://medium.com/@piocalderon/vader-sentiment-analysis-explained-f1c4f9101cd9 \\\n",
    "https://www.geeksforgeeks.org/python-sentiment-analysis-using-vader/ \\\n",
    "https://stackoverflow.com/questions/40325980/how-is-the-vader-compound-polarity-score-calculated-in-python-nltk"
   ]
  },
  {
   "cell_type": "code",
   "execution_count": 48,
   "id": "679d3df3",
   "metadata": {},
   "outputs": [],
   "source": [
    "def computeSentimentVADER(txt,t1=-0.05,t2=0.05):\n",
    "    \"\"\"\n",
    "    This function computes the sentiment of a text using VADER.   \n",
    "    ---> input:\n",
    "    - txt (string): the text for which we want to calculate the sentiment\n",
    "    - t1, t2 (floats): thresholds to determine at what value the sentence is considered \n",
    "    to be positive, negative or neutral.\n",
    "     The function splits the text by sentences and computes the sentiment of each sentence using \n",
    "     parameter compound of VADER. If compound <= t1 then the sentence is negative (we assign the value -1), \n",
    "    if compound >= t2 the sentence is postive (we assign the value 1) otherwise the sentence is neutral (and\n",
    "    we assign the value 0).\n",
    "    ---> output:\n",
    "    - the overall sentiment of the text taken as the most common sentiment among each sentence : -1,0,1.\n",
    "    Ex: \"This is great. The sun rises. Horrible. This is bad.\" gives vector [1,0,-1,-1] and the overall sentiment is -1.\n",
    "    \"\"\"\n",
    "    \n",
    "    sid_obj = SentimentIntensityAnalyzer()#Create a SentimentIntensityAnalyzer object.   \n",
    "    tokens = nltk.sent_tokenize(txt) #tokenize the text by sentence\n",
    "    sentiment = [] #list containing the sentiment of each sentence\n",
    "    \n",
    "    \n",
    "    for t in tokens:\n",
    "        p = sid_obj.polarity_scores(txt)['compound'] #sentiment dictionary given by the SentimentIntensityAnalyzer object \n",
    "                                                     #contains pos, neg, neu, and compound scores. Only using compound. \n",
    "        if (p <= t1):\n",
    "            sentiment.append(0) #negative sentiment\n",
    "        elif (p >= t2):\n",
    "            sentiment.append(2) #positive sentiment  \n",
    "        else: \n",
    "            sentiment.append(1) #neutral sentiment\n",
    "    return (max(set(sentiment), key=sentiment.count))"
   ]
  },
  {
   "cell_type": "code",
   "execution_count": 49,
   "id": "f99bbc58",
   "metadata": {},
   "outputs": [
    {
     "name": "stdout",
     "output_type": "stream",
     "text": [
      "Optimisation of threshold t2 with threshold t1 fixed at value -0.5\n"
     ]
    },
    {
     "data": {
      "image/png": "[encoded data removed]",
      "text/plain": [
       "<Figure size 1440x432 with 2 Axes>"
      ]
     },
     "metadata": {
      "needs_background": "light"
     },
     "output_type": "display_data"
    },
    {
     "name": "stdout",
     "output_type": "stream",
     "text": [
      "Optimisation of threshold t1 with threshold t2 fixed at value 0.3\n"
     ]
    },
    {
     "data": {
      "image/png": "[encoded data removed]",
      "text/plain": [
       "<Figure size 1440x432 with 2 Axes>"
      ]
     },
     "metadata": {
      "needs_background": "light"
     },
     "output_type": "display_data"
    }
   ],
   "source": [
    "t2_f1v,t2_Pv,f11v,P1v = computeBestThre(begin=-1,end=1,step=0.1,df=miniLabel,function = computeSentimentVADER,\n",
    "                             t1=-0.5,t2=0.5,ToOptim =\"t2\")\n",
    "t1_f1v,t1_Pv,f12v,P2v  = computeBestThre(begin=-0.5,end=0.5,step=0.01,df=miniLabel,function = computeSentimentVADER,\n",
    "                              t1=-0.5,t2=t2_f1v,ToOptim =\"t1\")"
   ]
  },
  {
   "cell_type": "code",
   "execution_count": 50,
   "id": "a6162a3e",
   "metadata": {},
   "outputs": [
    {
     "name": "stdout",
     "output_type": "stream",
     "text": [
      "Contigency table for dataset miniLabel:\n",
      "\n"
     ]
    },
    {
     "data": {
      "text/html": [
       "<div>\n",
       "<style scoped>\n",
       "    .dataframe tbody tr th:only-of-type {\n",
       "        vertical-align: middle;\n",
       "    }\n",
       "\n",
       "    .dataframe tbody tr th {\n",
       "        vertical-align: top;\n",
       "    }\n",
       "\n",
       "    .dataframe thead th {\n",
       "        text-align: right;\n",
       "    }\n",
       "</style>\n",
       "<table border=\"1\" class=\"dataframe\">\n",
       "  <thead>\n",
       "    <tr style=\"text-align: right;\">\n",
       "      <th>VADER</th>\n",
       "      <th>0</th>\n",
       "      <th>1</th>\n",
       "      <th>2</th>\n",
       "    </tr>\n",
       "    <tr>\n",
       "      <th>label</th>\n",
       "      <th></th>\n",
       "      <th></th>\n",
       "      <th></th>\n",
       "    </tr>\n",
       "  </thead>\n",
       "  <tbody>\n",
       "    <tr>\n",
       "      <th>0</th>\n",
       "      <td>5</td>\n",
       "      <td>2</td>\n",
       "      <td>5</td>\n",
       "    </tr>\n",
       "    <tr>\n",
       "      <th>1</th>\n",
       "      <td>2</td>\n",
       "      <td>6</td>\n",
       "      <td>4</td>\n",
       "    </tr>\n",
       "    <tr>\n",
       "      <th>2</th>\n",
       "      <td>0</td>\n",
       "      <td>1</td>\n",
       "      <td>11</td>\n",
       "    </tr>\n",
       "  </tbody>\n",
       "</table>\n",
       "</div>"
      ],
      "text/plain": [
       "VADER  0  1   2\n",
       "label          \n",
       "0      5  2   5\n",
       "1      2  6   4\n",
       "2      0  1  11"
      ]
     },
     "execution_count": 50,
     "metadata": {},
     "output_type": "execute_result"
    }
   ],
   "source": [
    "#define computeSentimentVADER function using the bests thresholds\n",
    "#-------------------------------------------------------\n",
    "miniLabel[\"VADER\"] = miniLabel[\"comments\"].apply(lambda x: computeSentimentVADER(x,t1_f1v,t2_f1v))\n",
    "\n",
    "print(\"Contigency table for dataset miniLabel:\\n\")\n",
    "tabVADER = pd.crosstab(index=miniLabel['label'], columns=miniLabel['VADER']);tabVADER"
   ]
  },
  {
   "cell_type": "markdown",
   "id": "924e110a",
   "metadata": {},
   "source": [
    "## Using an already fine-tuned BERT model\n",
    "\n",
    "This a bert-base-multilingual-uncased model finetuned for sentiment analysis on product reviews in six languages: English, Dutch, German, French, Spanish and Italian. It predicts the sentiment of the review as a number of stars (between 1 and 5).\n",
    "\n",
    "This model is intended for direct use as a sentiment analysis model for product reviews in any of the six languages above, or for further finetuning on related sentiment analysis tasks.\n",
    "\n",
    "Documentation: \\\n",
    "https://www.youtube.com/watch?v=szczpgOEdXs \\\n",
    "https://huggingface.co/nlptown/bert-base-multilingual-uncased-sentiment/tree/main"
   ]
  },
  {
   "cell_type": "code",
   "execution_count": 29,
   "id": "229ea3b0",
   "metadata": {},
   "outputs": [],
   "source": [
    "#Instantiate the Model\n",
    "#-------------------------------------------------------------------------\n",
    "#we load a pretrained nlp BERT model\n",
    "tokenizer = AutoTokenizer.from_pretrained('nlptown/bert-base-multilingual-uncased-sentiment')\n",
    "#we load the fine-tuned nlp BERT model\n",
    "modelBERT0 = AutoModelForSequenceClassification.from_pretrained('nlptown/bert-base-multilingual-uncased-sentiment')"
   ]
  },
  {
   "cell_type": "code",
   "execution_count": 30,
   "id": "44fd111a",
   "metadata": {
    "scrolled": true
   },
   "outputs": [
    {
     "ename": "KeyError",
     "evalue": "1637",
     "output_type": "error",
     "traceback": [
      "\u001b[1;31m---------------------------------------------------------------------------\u001b[0m",
      "\u001b[1;31mKeyError\u001b[0m                                  Traceback (most recent call last)",
      "\u001b[1;32m~\\anaconda3\\lib\\site-packages\\pandas\\core\\indexes\\base.py\u001b[0m in \u001b[0;36mget_loc\u001b[1;34m(self, key, method, tolerance)\u001b[0m\n\u001b[0;32m   3620\u001b[0m             \u001b[1;32mtry\u001b[0m\u001b[1;33m:\u001b[0m\u001b[1;33m\u001b[0m\u001b[1;33m\u001b[0m\u001b[0m\n\u001b[1;32m-> 3621\u001b[1;33m                 \u001b[1;32mreturn\u001b[0m \u001b[0mself\u001b[0m\u001b[1;33m.\u001b[0m\u001b[0m_engine\u001b[0m\u001b[1;33m.\u001b[0m\u001b[0mget_loc\u001b[0m\u001b[1;33m(\u001b[0m\u001b[0mcasted_key\u001b[0m\u001b[1;33m)\u001b[0m\u001b[1;33m\u001b[0m\u001b[1;33m\u001b[0m\u001b[0m\n\u001b[0m\u001b[0;32m   3622\u001b[0m             \u001b[1;32mexcept\u001b[0m \u001b[0mKeyError\u001b[0m \u001b[1;32mas\u001b[0m \u001b[0merr\u001b[0m\u001b[1;33m:\u001b[0m\u001b[1;33m\u001b[0m\u001b[1;33m\u001b[0m\u001b[0m\n",
      "\u001b[1;32m~\\anaconda3\\lib\\site-packages\\pandas\\_libs\\index.pyx\u001b[0m in \u001b[0;36mpandas._libs.index.IndexEngine.get_loc\u001b[1;34m()\u001b[0m\n",
      "\u001b[1;32m~\\anaconda3\\lib\\site-packages\\pandas\\_libs\\index.pyx\u001b[0m in \u001b[0;36mpandas._libs.index.IndexEngine.get_loc\u001b[1;34m()\u001b[0m\n",
      "\u001b[1;32mpandas\\_libs\\hashtable_class_helper.pxi\u001b[0m in \u001b[0;36mpandas._libs.hashtable.Int64HashTable.get_item\u001b[1;34m()\u001b[0m\n",
      "\u001b[1;32mpandas\\_libs\\hashtable_class_helper.pxi\u001b[0m in \u001b[0;36mpandas._libs.hashtable.Int64HashTable.get_item\u001b[1;34m()\u001b[0m\n",
      "\u001b[1;31mKeyError\u001b[0m: 1637",
      "\nThe above exception was the direct cause of the following exception:\n",
      "\u001b[1;31mKeyError\u001b[0m                                  Traceback (most recent call last)",
      "\u001b[1;32m~\\AppData\\Local\\Temp\\ipykernel_9044\\805566656.py\u001b[0m in \u001b[0;36m<module>\u001b[1;34m\u001b[0m\n\u001b[0;32m      2\u001b[0m \u001b[1;31m#---------------------------------------------------------\u001b[0m\u001b[1;33m\u001b[0m\u001b[1;33m\u001b[0m\u001b[0m\n\u001b[0;32m      3\u001b[0m \u001b[1;31m#convert the string into a sequence of numbers:\u001b[0m\u001b[1;33m\u001b[0m\u001b[1;33m\u001b[0m\u001b[0m\n\u001b[1;32m----> 4\u001b[1;33m \u001b[0mtxt\u001b[0m \u001b[1;33m=\u001b[0m \u001b[0mminiLabel\u001b[0m\u001b[1;33m[\u001b[0m\u001b[1;34m\"comments\"\u001b[0m\u001b[1;33m]\u001b[0m\u001b[1;33m.\u001b[0m\u001b[0mloc\u001b[0m\u001b[1;33m[\u001b[0m\u001b[1;36m1637\u001b[0m\u001b[1;33m]\u001b[0m\u001b[1;33m\u001b[0m\u001b[1;33m\u001b[0m\u001b[0m\n\u001b[0m\u001b[0;32m      5\u001b[0m \u001b[0mtokens\u001b[0m \u001b[1;33m=\u001b[0m \u001b[0mtokenizer\u001b[0m\u001b[1;33m.\u001b[0m\u001b[0mencode\u001b[0m\u001b[1;33m(\u001b[0m\u001b[0mtxt\u001b[0m\u001b[1;33m,\u001b[0m \u001b[0mreturn_tensors\u001b[0m\u001b[1;33m=\u001b[0m\u001b[1;34m'pt'\u001b[0m\u001b[1;33m)\u001b[0m \u001b[1;31m#encode\u001b[0m\u001b[1;33m\u001b[0m\u001b[1;33m\u001b[0m\u001b[0m\n\u001b[0;32m      6\u001b[0m \u001b[0mprint\u001b[0m\u001b[1;33m(\u001b[0m\u001b[0mtokens\u001b[0m\u001b[1;33m,\u001b[0m\u001b[1;34m\"\\n\"\u001b[0m\u001b[1;33m)\u001b[0m\u001b[1;33m\u001b[0m\u001b[1;33m\u001b[0m\u001b[0m\n",
      "\u001b[1;32m~\\anaconda3\\lib\\site-packages\\pandas\\core\\indexing.py\u001b[0m in \u001b[0;36m__getitem__\u001b[1;34m(self, key)\u001b[0m\n\u001b[0;32m    965\u001b[0m \u001b[1;33m\u001b[0m\u001b[0m\n\u001b[0;32m    966\u001b[0m             \u001b[0mmaybe_callable\u001b[0m \u001b[1;33m=\u001b[0m \u001b[0mcom\u001b[0m\u001b[1;33m.\u001b[0m\u001b[0mapply_if_callable\u001b[0m\u001b[1;33m(\u001b[0m\u001b[0mkey\u001b[0m\u001b[1;33m,\u001b[0m \u001b[0mself\u001b[0m\u001b[1;33m.\u001b[0m\u001b[0mobj\u001b[0m\u001b[1;33m)\u001b[0m\u001b[1;33m\u001b[0m\u001b[1;33m\u001b[0m\u001b[0m\n\u001b[1;32m--> 967\u001b[1;33m             \u001b[1;32mreturn\u001b[0m \u001b[0mself\u001b[0m\u001b[1;33m.\u001b[0m\u001b[0m_getitem_axis\u001b[0m\u001b[1;33m(\u001b[0m\u001b[0mmaybe_callable\u001b[0m\u001b[1;33m,\u001b[0m \u001b[0maxis\u001b[0m\u001b[1;33m=\u001b[0m\u001b[0maxis\u001b[0m\u001b[1;33m)\u001b[0m\u001b[1;33m\u001b[0m\u001b[1;33m\u001b[0m\u001b[0m\n\u001b[0m\u001b[0;32m    968\u001b[0m \u001b[1;33m\u001b[0m\u001b[0m\n\u001b[0;32m    969\u001b[0m     \u001b[1;32mdef\u001b[0m \u001b[0m_is_scalar_access\u001b[0m\u001b[1;33m(\u001b[0m\u001b[0mself\u001b[0m\u001b[1;33m,\u001b[0m \u001b[0mkey\u001b[0m\u001b[1;33m:\u001b[0m \u001b[0mtuple\u001b[0m\u001b[1;33m)\u001b[0m\u001b[1;33m:\u001b[0m\u001b[1;33m\u001b[0m\u001b[1;33m\u001b[0m\u001b[0m\n",
      "\u001b[1;32m~\\anaconda3\\lib\\site-packages\\pandas\\core\\indexing.py\u001b[0m in \u001b[0;36m_getitem_axis\u001b[1;34m(self, key, axis)\u001b[0m\n\u001b[0;32m   1200\u001b[0m         \u001b[1;31m# fall thru to straight lookup\u001b[0m\u001b[1;33m\u001b[0m\u001b[1;33m\u001b[0m\u001b[0m\n\u001b[0;32m   1201\u001b[0m         \u001b[0mself\u001b[0m\u001b[1;33m.\u001b[0m\u001b[0m_validate_key\u001b[0m\u001b[1;33m(\u001b[0m\u001b[0mkey\u001b[0m\u001b[1;33m,\u001b[0m \u001b[0maxis\u001b[0m\u001b[1;33m)\u001b[0m\u001b[1;33m\u001b[0m\u001b[1;33m\u001b[0m\u001b[0m\n\u001b[1;32m-> 1202\u001b[1;33m         \u001b[1;32mreturn\u001b[0m \u001b[0mself\u001b[0m\u001b[1;33m.\u001b[0m\u001b[0m_get_label\u001b[0m\u001b[1;33m(\u001b[0m\u001b[0mkey\u001b[0m\u001b[1;33m,\u001b[0m \u001b[0maxis\u001b[0m\u001b[1;33m=\u001b[0m\u001b[0maxis\u001b[0m\u001b[1;33m)\u001b[0m\u001b[1;33m\u001b[0m\u001b[1;33m\u001b[0m\u001b[0m\n\u001b[0m\u001b[0;32m   1203\u001b[0m \u001b[1;33m\u001b[0m\u001b[0m\n\u001b[0;32m   1204\u001b[0m     \u001b[1;32mdef\u001b[0m \u001b[0m_get_slice_axis\u001b[0m\u001b[1;33m(\u001b[0m\u001b[0mself\u001b[0m\u001b[1;33m,\u001b[0m \u001b[0mslice_obj\u001b[0m\u001b[1;33m:\u001b[0m \u001b[0mslice\u001b[0m\u001b[1;33m,\u001b[0m \u001b[0maxis\u001b[0m\u001b[1;33m:\u001b[0m \u001b[0mint\u001b[0m\u001b[1;33m)\u001b[0m\u001b[1;33m:\u001b[0m\u001b[1;33m\u001b[0m\u001b[1;33m\u001b[0m\u001b[0m\n",
      "\u001b[1;32m~\\anaconda3\\lib\\site-packages\\pandas\\core\\indexing.py\u001b[0m in \u001b[0;36m_get_label\u001b[1;34m(self, label, axis)\u001b[0m\n\u001b[0;32m   1151\u001b[0m     \u001b[1;32mdef\u001b[0m \u001b[0m_get_label\u001b[0m\u001b[1;33m(\u001b[0m\u001b[0mself\u001b[0m\u001b[1;33m,\u001b[0m \u001b[0mlabel\u001b[0m\u001b[1;33m,\u001b[0m \u001b[0maxis\u001b[0m\u001b[1;33m:\u001b[0m \u001b[0mint\u001b[0m\u001b[1;33m)\u001b[0m\u001b[1;33m:\u001b[0m\u001b[1;33m\u001b[0m\u001b[1;33m\u001b[0m\u001b[0m\n\u001b[0;32m   1152\u001b[0m         \u001b[1;31m# GH#5667 this will fail if the label is not present in the axis.\u001b[0m\u001b[1;33m\u001b[0m\u001b[1;33m\u001b[0m\u001b[0m\n\u001b[1;32m-> 1153\u001b[1;33m         \u001b[1;32mreturn\u001b[0m \u001b[0mself\u001b[0m\u001b[1;33m.\u001b[0m\u001b[0mobj\u001b[0m\u001b[1;33m.\u001b[0m\u001b[0mxs\u001b[0m\u001b[1;33m(\u001b[0m\u001b[0mlabel\u001b[0m\u001b[1;33m,\u001b[0m \u001b[0maxis\u001b[0m\u001b[1;33m=\u001b[0m\u001b[0maxis\u001b[0m\u001b[1;33m)\u001b[0m\u001b[1;33m\u001b[0m\u001b[1;33m\u001b[0m\u001b[0m\n\u001b[0m\u001b[0;32m   1154\u001b[0m \u001b[1;33m\u001b[0m\u001b[0m\n\u001b[0;32m   1155\u001b[0m     \u001b[1;32mdef\u001b[0m \u001b[0m_handle_lowerdim_multi_index_axis0\u001b[0m\u001b[1;33m(\u001b[0m\u001b[0mself\u001b[0m\u001b[1;33m,\u001b[0m \u001b[0mtup\u001b[0m\u001b[1;33m:\u001b[0m \u001b[0mtuple\u001b[0m\u001b[1;33m)\u001b[0m\u001b[1;33m:\u001b[0m\u001b[1;33m\u001b[0m\u001b[1;33m\u001b[0m\u001b[0m\n",
      "\u001b[1;32m~\\anaconda3\\lib\\site-packages\\pandas\\core\\generic.py\u001b[0m in \u001b[0;36mxs\u001b[1;34m(self, key, axis, level, drop_level)\u001b[0m\n\u001b[0;32m   3862\u001b[0m                     \u001b[0mnew_index\u001b[0m \u001b[1;33m=\u001b[0m \u001b[0mindex\u001b[0m\u001b[1;33m[\u001b[0m\u001b[0mloc\u001b[0m\u001b[1;33m]\u001b[0m\u001b[1;33m\u001b[0m\u001b[1;33m\u001b[0m\u001b[0m\n\u001b[0;32m   3863\u001b[0m         \u001b[1;32melse\u001b[0m\u001b[1;33m:\u001b[0m\u001b[1;33m\u001b[0m\u001b[1;33m\u001b[0m\u001b[0m\n\u001b[1;32m-> 3864\u001b[1;33m             \u001b[0mloc\u001b[0m \u001b[1;33m=\u001b[0m \u001b[0mindex\u001b[0m\u001b[1;33m.\u001b[0m\u001b[0mget_loc\u001b[0m\u001b[1;33m(\u001b[0m\u001b[0mkey\u001b[0m\u001b[1;33m)\u001b[0m\u001b[1;33m\u001b[0m\u001b[1;33m\u001b[0m\u001b[0m\n\u001b[0m\u001b[0;32m   3865\u001b[0m \u001b[1;33m\u001b[0m\u001b[0m\n\u001b[0;32m   3866\u001b[0m             \u001b[1;32mif\u001b[0m \u001b[0misinstance\u001b[0m\u001b[1;33m(\u001b[0m\u001b[0mloc\u001b[0m\u001b[1;33m,\u001b[0m \u001b[0mnp\u001b[0m\u001b[1;33m.\u001b[0m\u001b[0mndarray\u001b[0m\u001b[1;33m)\u001b[0m\u001b[1;33m:\u001b[0m\u001b[1;33m\u001b[0m\u001b[1;33m\u001b[0m\u001b[0m\n",
      "\u001b[1;32m~\\anaconda3\\lib\\site-packages\\pandas\\core\\indexes\\base.py\u001b[0m in \u001b[0;36mget_loc\u001b[1;34m(self, key, method, tolerance)\u001b[0m\n\u001b[0;32m   3621\u001b[0m                 \u001b[1;32mreturn\u001b[0m \u001b[0mself\u001b[0m\u001b[1;33m.\u001b[0m\u001b[0m_engine\u001b[0m\u001b[1;33m.\u001b[0m\u001b[0mget_loc\u001b[0m\u001b[1;33m(\u001b[0m\u001b[0mcasted_key\u001b[0m\u001b[1;33m)\u001b[0m\u001b[1;33m\u001b[0m\u001b[1;33m\u001b[0m\u001b[0m\n\u001b[0;32m   3622\u001b[0m             \u001b[1;32mexcept\u001b[0m \u001b[0mKeyError\u001b[0m \u001b[1;32mas\u001b[0m \u001b[0merr\u001b[0m\u001b[1;33m:\u001b[0m\u001b[1;33m\u001b[0m\u001b[1;33m\u001b[0m\u001b[0m\n\u001b[1;32m-> 3623\u001b[1;33m                 \u001b[1;32mraise\u001b[0m \u001b[0mKeyError\u001b[0m\u001b[1;33m(\u001b[0m\u001b[0mkey\u001b[0m\u001b[1;33m)\u001b[0m \u001b[1;32mfrom\u001b[0m \u001b[0merr\u001b[0m\u001b[1;33m\u001b[0m\u001b[1;33m\u001b[0m\u001b[0m\n\u001b[0m\u001b[0;32m   3624\u001b[0m             \u001b[1;32mexcept\u001b[0m \u001b[0mTypeError\u001b[0m\u001b[1;33m:\u001b[0m\u001b[1;33m\u001b[0m\u001b[1;33m\u001b[0m\u001b[0m\n\u001b[0;32m   3625\u001b[0m                 \u001b[1;31m# If we have a listlike key, _check_indexing_error will raise\u001b[0m\u001b[1;33m\u001b[0m\u001b[1;33m\u001b[0m\u001b[0m\n",
      "\u001b[1;31mKeyError\u001b[0m: 1637"
     ]
    }
   ],
   "source": [
    "#Just to understand how this method works \n",
    "#---------------------------------------------------------\n",
    "#convert the string into a sequence of numbers: \n",
    "txt = miniLabel[\"comments\"].loc[1637]\n",
    "tokens = tokenizer.encode(txt, return_tensors='pt') #encode\n",
    "print(tokens,\"\\n\") \n",
    "print(tokenizer.decode(tokens[0]),\"\\n\") #decode\n",
    "result = modelBERT0(tokens) #pass the tokens to the model\n",
    "print(result,\"\\n\") #the output from the model in a one-hot encoded list of scores. We look at 'logits' \n",
    "print(result.logits,\"\\n\")\n",
    "#the position with the highest score represents the sentiments rating e.g. [.9, .2, .1, -2, -.5] is a rating of 0.\n",
    "#the vector represents the pobability of a particular class (0,1,2,3 or 4) being the sentiment. \n",
    "int(torch.argmax(result.logits))+1 # find the highest score and add +1 to have the mark between 1 and 5 (and no 0 and 4)"
   ]
  },
  {
   "cell_type": "code",
   "execution_count": null,
   "id": "1b71716a",
   "metadata": {},
   "outputs": [],
   "source": [
    "def computeSentimentBERT0(txt,t1=1,t2=3):\n",
    "    \"\"\"\n",
    "    *** This function computes the sentiment of a text using an already fine-tunned BERT algorithm denoted here BERT0. \n",
    "    The 'logits' output from BERT0 is a vector containing a the 'probabilities' of a particular rating (0,1,2,3 or 4) \n",
    "    being the sentiment e.g. [.9, .2, .1, -2, -.5] \n",
    "    (Note that this is not real proabilities since they don't range between 0 and 1). \n",
    "    The sentiment of the text is the rating with the highest probability, in this example the rating of 0. \n",
    "    As we want to have only 3 ratings (positive, negative and neutral) we apply the following rule:\n",
    "    - if rating <= t1 the sentiment is negative (value -1)\n",
    "    - if rating >= t2 the sentiment is positive (value 1)\n",
    "    - otherwise, the sentiment is neutral (value 0).\n",
    "    *** BERT will consume 512 tokens max truncating anything beyond this length. \n",
    "    Therefore, if a text exceeds 512 tokens, it is split into 3 parts: \n",
    "    the first 512 tokens, the last 512 tokens and the middle tokens. \n",
    "    We then take the most common rating between the 3 ratings as the overall text rating.\n",
    "    ---> input:\n",
    "    - txt (string): the text for which we want to calculate the sentiment\n",
    "    - t1, t2 (int): thresholds allowing to go from a 5-point rating to a 3-point rating.\n",
    "    ---> ouput:\n",
    "    - sentiment (int): the overall sentiment of the text (values: -1,0,1 for negative,neutral,positive).\n",
    "    \"\"\"\n",
    "    \n",
    "    MAX = 512 #BERT will consume 512 tokens max truncating anything beyond this length\n",
    "    tokens = tokenizer.encode(txt, return_tensors='pt') #encode string into a sequence of numbers\n",
    "\n",
    "    if len(tokens[0]) > MAX: #if there are more tokens than bert can handle\n",
    "        I1 = torch.tensor(np.arange(0,MAX)) #indexes of the first MAX tokens    \n",
    "        I2 = torch.tensor(np.arange(MAX,len(tokens[0])-MAX)) #indexes of middle tokens between the first and last MAX tokens  \n",
    "        I3 = torch.tensor(np.arange(len(tokens[0])-MAX,len(tokens[0]))) #indexes of the last MAX tokens\n",
    "        result1 = modelBERT0(torch.index_select(tokens, 1, I1))#pass first MAX tokens to the model\n",
    "        result2 = modelBERT0(torch.index_select(tokens, 1, I2))#pass middle tokens to the model\n",
    "        result3 = modelBERT0(torch.index_select(tokens, 1, I3))#pass last MAX tokens to the model\n",
    "        rating1 = int(torch.argmax(result1.logits))#rating of the first MAX tokens\n",
    "        rating2 = int(torch.argmax(result2.logits))#rating of the first middle tokens\n",
    "        ratinge3 = int(torch.argmax(result3.logits))#rating of the last MAX tokens\n",
    "        S = [rating1,rating2,rating3]\n",
    "        rating = max(set(S), key=S.count) #rating = most common rating\n",
    "    else: \n",
    "        result = modelBERT0(tokens) #pass the tokens to the model\n",
    "        rating = int(torch.argmax(result.logits)) #rating between 0,1,2,3 and 4\n",
    "\n",
    "    if rating <= t1: #if rating = 0 or 1\n",
    "            sentiment = -1 #negative sentiment\n",
    "    elif rating >= t2: #if rating = 3 or 4\n",
    "            sentiment = 1 #positive sentiment\n",
    "    else: #if rating = 2\n",
    "            sentiment = 0 #neutral sentiment\n",
    "    return (sentiment)\n",
    "#result.logits[0].detach().numpy() -> transforms into numpy"
   ]
  },
  {
   "cell_type": "markdown",
   "id": "e0cf7665",
   "metadata": {},
   "source": [
    "BERT (and many other transformer models) will consume 512 tokens max — truncating anything beyond this length."
   ]
  },
  {
   "cell_type": "code",
   "execution_count": null,
   "id": "3a2bdb10",
   "metadata": {},
   "outputs": [],
   "source": [
    "#add a column to miniLabel for BERT0 results\n",
    "#-------------------------------------------------------\n",
    "miniLabel[\"BERT0\"] = miniLabel[\"comments\"].apply(lambda x: computeSentimentBERT0(x))"
   ]
  },
  {
   "cell_type": "code",
   "execution_count": null,
   "id": "febd0c67",
   "metadata": {},
   "outputs": [],
   "source": [
    "print(\"Contigency table for dataset miniLabel:\\n\")\n",
    "tabBERT0 = pd.crosstab(index=miniLabel['label'], columns=miniLabel['BERT0']); tabBERT0"
   ]
  },
  {
   "cell_type": "markdown",
   "id": "d8b2a135",
   "metadata": {},
   "source": [
    "## Comparison between different methods"
   ]
  },
  {
   "cell_type": "code",
   "execution_count": null,
   "id": "f2dc7bb2",
   "metadata": {
    "scrolled": true
   },
   "outputs": [],
   "source": [
    "#compare F1-score and Purity of the different methods\n",
    "#-----------------------------------------------------------\n",
    "print(\"TextBlob: best F1-score = {}, best Purity = {}\".format(f12,P2))\n",
    "print(\"VADER: best F1-score = {}, best Purity = {}\".format(f12v,P2v))\n",
    "f1BERT0 = f1_score(miniLabel['label'], miniLabel['BERT0'],average='macro')\n",
    "PBERT0 = purity (tabBERT0)\n",
    "print(\"BERT0: F1-score = {}, Purity = {}\".format(f1BERT0,PBERT0))"
   ]
  },
  {
   "cell_type": "code",
   "execution_count": null,
   "id": "27fb2b9d",
   "metadata": {},
   "outputs": [],
   "source": [
    "miniLabel[\"comments\"].loc[11786]"
   ]
  },
  {
   "cell_type": "code",
   "execution_count": null,
   "id": "c314d03f",
   "metadata": {},
   "outputs": [],
   "source": [
    "#different simple sentiment analysis algo: \n",
    "#https://neptune.ai/blog/sentiment-analysis-python-textblob-vs-vader-vs-flair"
   ]
  },
  {
   "cell_type": "markdown",
   "id": "52b3df7f",
   "metadata": {},
   "source": [
    "__Test BERT algorithm__"
   ]
  },
  {
   "cell_type": "markdown",
   "id": "faac5301",
   "metadata": {},
   "source": [
    "The BERT algorithm has two phases: \n",
    "1. Pre-training: 2 __unsupervised__ tasks are trainined simultaneously: \n",
    "- Masked Language Model\n",
    "- Next Sentence Prediction \\\n",
    "We can do this step ourselves but it is more advantageous to download an already pre-trained BERT model as this model has been trained on very large text corpus.\n",
    "\n",
    "2. Fine-Tune: This is a __supervised__ task which allows BERT to be adapted to our case (here sentiment analysis). It is therefore necessary to have labelled data.\\\n",
    "By adding a simple one-hidden-layer neural network classifier on top of BERT and fine-tuning BERT, we can achieve near state-of-the-art performance. We can rely on the following tutorials: \\\n",
    "https://skimai.com/fine-tuning-bert-for-sentiment-analysis/ \\\n",
    "https://www.geeksforgeeks.org/fine-tuning-bert-model-for-sentiment-analysis/ \\\n",
    "<font color = \"red\"> Do I have to label some data? </font>\n",
    "\n",
    "Can the fine-tuning be unsupervised?\n",
    "    \n",
    "https://datascience.stackexchange.com/questions/102398/does-bert-need-supervised-data-only-when-fine-tuning\n",
    "\n",
    "https://nlpiation.medium.com/is-it-possible-to-do-sentiment-analysis-on-unlabeled-data-using-bert-feat-vader-experiment-357bba53768c"
   ]
  },
  {
   "cell_type": "markdown",
   "id": "31698214",
   "metadata": {},
   "source": [
    "fine tune bert on 3 stages:\n",
    "1. take pre-trained bert model\n",
    "2. fine-tune bert avec plusieurs datasets (twitters, amazon reveiws, yelp) mais ne pas trop entrainer le modèle pour ne pas overfitter.\n",
    "3. fine tune encore avec les data de mon dataset que j'aurai lablisées (100 labels) : give more weigth to the erros of these samples.\n",
    "\n",
    "Kaggle: regarder les datasets labas (financial datasets)"
   ]
  },
  {
   "cell_type": "markdown",
   "id": "8984f35a",
   "metadata": {},
   "source": [
    "Lexical diversity: \\\n",
    "$\\textbf{V}$: number of types = number of different words in a text.\\\n",
    "$\\textbf{N}$: number of tokens = number of total words of the same text.\\\n",
    "\n",
    "It should be noted that the prevailing conception of lexical complexity is based on the rarity of words, currently determined by lists of word frequency (for instance, the dataset proposed in François et al., 2014) and LDMs do not include any parameter related to complexity as such.\n",
    "\n",
    "first we need to apply lemmatization before lexical complexity\n",
    "documentation: https://journals.openedition.org/discours/9950\n"
   ]
  },
  {
   "cell_type": "markdown",
   "id": "f1873958",
   "metadata": {},
   "source": [
    "# Extract comments for labelisation"
   ]
  },
  {
   "cell_type": "code",
   "execution_count": null,
   "id": "2c9ca3b7",
   "metadata": {},
   "outputs": [],
   "source": [
    "dashbord.head()"
   ]
  },
  {
   "cell_type": "code",
   "execution_count": null,
   "id": "ac9bc8d7",
   "metadata": {},
   "outputs": [],
   "source": [
    "#export dataset to sent to Annalina and Vivek\n",
    "idxNonNan = np.where(dashbord[\"comments\"].isna()==False)#indices of non NaN comments in the dashbord\n",
    "idxMeeting = np.where(dashbord[\"type\"].iloc[idxNonNan] == 'meeting') #indices of meetings among non NaN comments\n",
    "\n",
    "Annalina = pd.DataFrame(dashbord[\"comments\"].iloc[idxNonNan].iloc[idxMeeting].sample(n=100))\n",
    "#Annalina[\"comments\"] = Annalina[\"comments\"].apply(f_cleanLight)\n",
    "Annalina[\"label\"] = np.zeros(len(Annalina))\n",
    "\n",
    "#Vivek = pd.DataFrame(dashbord[\"comments\"].iloc[idxNonNan].iloc[idxMeeting].sample(n=50))\n",
    "#Vivek[\"comments\"] = Vivek[\"comments\"].apply(f_cleanLight)\n",
    "#Vivek[\"label\"] = np.zeros(len(Vivek))\n",
    "\n",
    "#Annalina.to_excel('Annalina_annotations_100.xlsx')\n",
    "#Vivek.to_excel('Vivek_annotations.xlsx')"
   ]
  },
  {
   "cell_type": "code",
   "execution_count": null,
   "id": "d9a0fc87",
   "metadata": {},
   "outputs": [],
   "source": [
    "print(\"All comments are different between Annalina and Vivek: \",np.all(Annalina.comments.values != Vivek.comments.values))"
   ]
  },
  {
   "cell_type": "markdown",
   "id": "9f8b4bbd",
   "metadata": {},
   "source": [
    "# Compare progress and labelled comments"
   ]
  },
  {
   "cell_type": "code",
   "execution_count": null,
   "id": "aa257e89",
   "metadata": {},
   "outputs": [],
   "source": [
    "def createLabeledDataset(add_miniLabel = True):\n",
    "    \"\"\"\n",
    "    This function creates a Labeled Dataset.\n",
    "    ---> input:\n",
    "    - add_miniLabel (bool): indicates if we want to append the \n",
    "    miniLabel dataset to our label dataset. Put to False if we will use the \n",
    "    outputed dataset of this function to fine-tune BERT. In this case, the miniLabel\n",
    "    dataset will be used to evaluate our model. \n",
    "    ---> output:\n",
    "    - annot (dataFrame): labeled dataset\n",
    "    \"\"\"\n",
    "\n",
    "    # Retrieve annotated comments\n",
    "    #------------------------------------------\n",
    "    os.chdir(PATH + \"\\\\data\\\\annotations\") #go to correct folder\n",
    "    annot = [] #list containing the dataframes of each annotations \n",
    "    annot.append(pd.read_excel(\"Annalina_annotations_50_final.xlsx\"))\n",
    "    annot.append(pd.read_excel(\"Vivek_annotations_50_final.xlsx\"))\n",
    "    annot.append(pd.read_excel(\"Annalina_annotations_104_final.xlsx\"))\n",
    "    os.chdir(PATH) #go back to main folder\n",
    "    if add_miniLabel:\n",
    "        annot.append(pd.read_excel(\"miniLabel.xlsx\"))\n",
    "\n",
    "    # Harmonize datasets\n",
    "    #------------------------------------------\n",
    "    for i in range(len(annot)):\n",
    "        annot[i].index = annot[i][\"Unnamed: 0\"]\n",
    "        annot[i].drop(\"Unnamed: 0\",axis=1,inplace = True)\n",
    "        annot[i].index.name = None\n",
    "        if i != 3:\n",
    "            annot[i] = annot[i][[\"comments\",\"label_final\"]]\n",
    "            annot[i].rename(columns = {\"label_final\":\"label\"},inplace = True) \n",
    "\n",
    "\n",
    "    # Concatenate datasets\n",
    "    #------------------------------------------\n",
    "    annot = pd.concat(annot)\n",
    "    annot.label = annot.label.astype(int)\n",
    "    annot.index = annot.index.astype(int)\n",
    "\n",
    "    # Drop any duplicates\n",
    "    #------------------------------------------\n",
    "    annot = annot[~annot.index.duplicated(keep='first')]\n",
    "\n",
    "    # Add column corresponding to progress\n",
    "    #------------------------------------------\n",
    "    annot[\"progress\"] = dashbord[\"progress\"].loc[annot.index]\n",
    "\n",
    "    # Assign correct type to variables\n",
    "    #------------------------------------------\n",
    "    annot[\"label\"]=pd.Categorical(annot[\"label\"],ordered=False)\n",
    "    annot[\"progress\"]=pd.Categorical(annot[\"progress\"],ordered=False)\n",
    "    \n",
    "    return annot"
   ]
  },
  {
   "cell_type": "code",
   "execution_count": null,
   "id": "546aa5e7",
   "metadata": {},
   "outputs": [],
   "source": [
    "annot = createLabeledDataset()"
   ]
  },
  {
   "cell_type": "code",
   "execution_count": null,
   "id": "57fa83bb",
   "metadata": {},
   "outputs": [],
   "source": [
    "print(\"Overview of labels: \")\n",
    "for i in range(3):\n",
    "    num_i = len(np.where(annot.label == i)[0]) #number of comments labelled with label i\n",
    "    print(\"- number of comments labelled {}: {}\".format(i,num_i))\n",
    "print(\"Total number of labelled comments: \",len(annot))"
   ]
  },
  {
   "cell_type": "code",
   "execution_count": null,
   "id": "e3ac88f6",
   "metadata": {},
   "outputs": [],
   "source": [
    "f,axs = plt.subplots(1,3,figsize=(15, 5))\n",
    "axs = axs.ravel()\n",
    "\n",
    "labs = [] #list containing extract of the dataframe \"annot\"\n",
    "                # labs[0] contains all values where label = 0\n",
    "                # labs[1] contains all values where label = 1\n",
    "                # labs[2] contains all values where label = 2\n",
    "\n",
    "labs.append(annot[\"progress\"].iloc[np.where(annot.label == 0)])\n",
    "labs.append(annot[\"progress\"].iloc[np.where(annot.label == 1)])\n",
    "labs.append(annot[\"progress\"].iloc[np.where(annot.label == 2)])\n",
    "\n",
    "for i in range(3):\n",
    "    #--- plot histogram\n",
    "    weights = np.ones_like(labs[i])/float(len(labs[i])) #so that the histogram bars sum to 1\n",
    "    N, bins, patches = axs[i].hist(x = labs[i],bins = 9,weights=weights,\n",
    "                                  align = 'mid',alpha = .5,edgecolor='white',linewidth=1)   \n",
    "   \n",
    "    #--- add color corresponding to progress\n",
    "    for k in range(0,3):\n",
    "        patches[k].set_facecolor('green')\n",
    "    for k in range(3,5):    \n",
    "        patches[k].set_facecolor('red')\n",
    "    for k in range(5, len(patches)):\n",
    "        patches[k].set_facecolor('slateblue')\n",
    "    #--- add title and labels\n",
    "    axs[i].set_title(\"Progress of comments labelled {}\".format(i))\n",
    "    axs[i].set_xlabel(\"progress\",labelpad = 10)\n",
    "    axs[i].set_ylabel(\"proportion of comments\",labelpad = 10)\n",
    "    #--- remove frames\n",
    "    axs[i].spines['top'].set_visible(False)\n",
    "    axs[i].spines['right'].set_visible(False)\n",
    "    axs[i].spines['bottom'].set_visible(False)\n",
    "    axs[i].spines['left'].set_visible(False)\n",
    "    #--- adjust subplots and background\n",
    "    plt.subplots_adjust(wspace=.4)\n",
    "    axs[i].patch.set_facecolor('grey')#background color\n",
    "    axs[i].patch.set_alpha(0.05)#background color\n",
    "    \n",
    "    #--- add values above each bar \n",
    "    for j,v in enumerate (N[np.where(N!=0)]):\n",
    "        axs[i].text(j, v, \"%.2f\" %v + \"%\", ha=\"center\",color = 'black', size = 10) \n",
    "\n",
    "plt.show()"
   ]
  },
  {
   "cell_type": "code",
   "execution_count": null,
   "id": "ee69c9e4",
   "metadata": {},
   "outputs": [],
   "source": [
    "dashbordLabel = createLabeledDataset(add_miniLabel = False)"
   ]
  },
  {
   "cell_type": "code",
   "execution_count": null,
   "id": "00c569f4",
   "metadata": {},
   "outputs": [],
   "source": [
    "set(dashbordLabel.index) & set(miniLabel.index)"
   ]
  },
  {
   "cell_type": "markdown",
   "id": "4fdda402",
   "metadata": {},
   "source": [
    "Retrieve another 50 comments different from the 200 comments used for fine-tuning and different from those of minilabel to evaluate the model. Indeed, the minilabel dataset allowed for model selection."
   ]
  },
  {
   "cell_type": "code",
   "execution_count": null,
   "id": "bdf3bca7",
   "metadata": {},
   "outputs": [],
   "source": [
    "annot.index"
   ]
  },
  {
   "cell_type": "code",
   "execution_count": null,
   "id": "59706a94",
   "metadata": {},
   "outputs": [],
   "source": [
    "idxNonNan = np.where(dashbord[\"comments\"].isna()==False)#indices of non NaN comments in the dashbord\n",
    "toChoose = dashbord[[\"comments\",\"type\"]].iloc[idxNonNan].drop(annot.index,axis=0) #do not choose same comments as the ones in \"annot\"\n",
    "idxMeeting = np.where(toChoose[\"type\"] == 'meeting') #indices of meetings among \"toChoose\" comments\n",
    "toChoose = toChoose[\"comments\"].iloc[idxMeeting].copy() #retrieve only comments from meetings\n",
    "evalLabel = pd.DataFrame(toChoose.sample(n=50))"
   ]
  },
  {
   "cell_type": "code",
   "execution_count": null,
   "id": "3aaab38b",
   "metadata": {},
   "outputs": [],
   "source": [
    "evalLabel.to_excel('evalLabel.xlsx')"
   ]
  },
  {
   "cell_type": "code",
   "execution_count": null,
   "id": "5482176c",
   "metadata": {},
   "outputs": [],
   "source": [
    "#dashbordLabel.to_excel(\"dashbordLabel.xlsx\")"
   ]
  },
  {
   "cell_type": "code",
   "execution_count": null,
   "id": "5510794e",
   "metadata": {},
   "outputs": [],
   "source": [
    "# 56: neutral **NO**\n",
    "# 8745: negative\n",
    "# 10872: neutral **NO**\n",
    "# 6837 : neutral\n",
    "# 762 : neutral **NO**\n",
    "# 9829: negative\n",
    "# 178: neutral"
   ]
  },
  {
   "cell_type": "markdown",
   "id": "64440909",
   "metadata": {},
   "source": [
    "# Use the best parameters in TextBlob and Vader for test set\n",
    "\n",
    "We first optimized the parameters of TextBlob and Vader methods with our validation set: miniLabel dataset. \n",
    "Now, we will test these 2 methods on the test set.  "
   ]
  },
  {
   "cell_type": "code",
   "execution_count": 31,
   "id": "a93e100d",
   "metadata": {},
   "outputs": [
    {
     "data": {
      "text/html": [
       "<div>\n",
       "<style scoped>\n",
       "    .dataframe tbody tr th:only-of-type {\n",
       "        vertical-align: middle;\n",
       "    }\n",
       "\n",
       "    .dataframe tbody tr th {\n",
       "        vertical-align: top;\n",
       "    }\n",
       "\n",
       "    .dataframe thead th {\n",
       "        text-align: right;\n",
       "    }\n",
       "</style>\n",
       "<table border=\"1\" class=\"dataframe\">\n",
       "  <thead>\n",
       "    <tr style=\"text-align: right;\">\n",
       "      <th></th>\n",
       "      <th>comments</th>\n",
       "      <th>label</th>\n",
       "    </tr>\n",
       "  </thead>\n",
       "  <tbody>\n",
       "    <tr>\n",
       "      <th>6537</th>\n",
       "      <td>Met on 30-04-2021</td>\n",
       "      <td>1</td>\n",
       "    </tr>\n",
       "    <tr>\n",
       "      <th>9214</th>\n",
       "      <td>Meeting took place on 19th February.\\n\\nthis w...</td>\n",
       "      <td>0</td>\n",
       "    </tr>\n",
       "    <tr>\n",
       "      <th>4311</th>\n",
       "      <td>A lot of research into tech has been done. How...</td>\n",
       "      <td>2</td>\n",
       "    </tr>\n",
       "    <tr>\n",
       "      <th>1729</th>\n",
       "      <td>Meeting took place 4th April 2019\\nMVP (Minimu...</td>\n",
       "      <td>1</td>\n",
       "    </tr>\n",
       "    <tr>\n",
       "      <th>7655</th>\n",
       "      <td>Raspberry setup and can be connected to router...</td>\n",
       "      <td>1</td>\n",
       "    </tr>\n",
       "  </tbody>\n",
       "</table>\n",
       "</div>"
      ],
      "text/plain": [
       "                                               comments  label\n",
       "6537                                  Met on 30-04-2021      1\n",
       "9214  Meeting took place on 19th February.\\n\\nthis w...      0\n",
       "4311  A lot of research into tech has been done. How...      2\n",
       "1729  Meeting took place 4th April 2019\\nMVP (Minimu...      1\n",
       "7655  Raspberry setup and can be connected to router...      1"
      ]
     },
     "execution_count": 31,
     "metadata": {},
     "output_type": "execute_result"
    }
   ],
   "source": [
    "# Retrieve the test set \n",
    "testLabel = pd.read_excel(\"testLabel.xlsx\")\n",
    "testLabel.index = testLabel[\"Unnamed: 0\"]\n",
    "testLabel.drop(\"Unnamed: 0\",axis=1,inplace=True)\n",
    "testLabel.index.name = None\n",
    "testLabel.head()"
   ]
  },
  {
   "cell_type": "code",
   "execution_count": 32,
   "id": "06c76a3f",
   "metadata": {},
   "outputs": [],
   "source": [
    "# Clean the comments\n",
    "testLabel[\"comments\"] = testLabel[\"comments\"].apply(f_round1) #clean the  dashbord"
   ]
  },
  {
   "cell_type": "markdown",
   "id": "e776bd58",
   "metadata": {},
   "source": [
    "### For Textblob"
   ]
  },
  {
   "cell_type": "code",
   "execution_count": 51,
   "id": "1e5f710c",
   "metadata": {},
   "outputs": [
    {
     "name": "stdout",
     "output_type": "stream",
     "text": [
      "F1-score for testLabel:\n",
      "0.41130604288499023\n",
      "Accuracy for testLabel:\n",
      "0.68\n",
      "Contigency table for dataset testLabel:\n",
      "\n"
     ]
    },
    {
     "data": {
      "text/html": [
       "<div>\n",
       "<style scoped>\n",
       "    .dataframe tbody tr th:only-of-type {\n",
       "        vertical-align: middle;\n",
       "    }\n",
       "\n",
       "    .dataframe tbody tr th {\n",
       "        vertical-align: top;\n",
       "    }\n",
       "\n",
       "    .dataframe thead th {\n",
       "        text-align: right;\n",
       "    }\n",
       "</style>\n",
       "<table border=\"1\" class=\"dataframe\">\n",
       "  <thead>\n",
       "    <tr style=\"text-align: right;\">\n",
       "      <th>TextBlob</th>\n",
       "      <th>0</th>\n",
       "      <th>1</th>\n",
       "      <th>2</th>\n",
       "    </tr>\n",
       "    <tr>\n",
       "      <th>label</th>\n",
       "      <th></th>\n",
       "      <th></th>\n",
       "      <th></th>\n",
       "    </tr>\n",
       "  </thead>\n",
       "  <tbody>\n",
       "    <tr>\n",
       "      <th>0</th>\n",
       "      <td>0</td>\n",
       "      <td>3</td>\n",
       "      <td>0</td>\n",
       "    </tr>\n",
       "    <tr>\n",
       "      <th>1</th>\n",
       "      <td>3</td>\n",
       "      <td>30</td>\n",
       "      <td>5</td>\n",
       "    </tr>\n",
       "    <tr>\n",
       "      <th>2</th>\n",
       "      <td>0</td>\n",
       "      <td>5</td>\n",
       "      <td>4</td>\n",
       "    </tr>\n",
       "  </tbody>\n",
       "</table>\n",
       "</div>"
      ],
      "text/plain": [
       "TextBlob  0   1  2\n",
       "label             \n",
       "0         0   3  0\n",
       "1         3  30  5\n",
       "2         0   5  4"
      ]
     },
     "execution_count": 51,
     "metadata": {},
     "output_type": "execute_result"
    }
   ],
   "source": [
    "#compute the main sentiment with TextBlob on the test set \n",
    "# using computeSentimentTB function and the bests thresholds found on the miniLabel dataset\n",
    "#-------------------------------------------------------\n",
    "testLabel[\"TextBlob\"] = testLabel[\"comments\"].apply(lambda x: computeSentimentTB(x,t1_f1,t2_f1))\n",
    "\n",
    "print(\"F1-score for testLabel:\")\n",
    "print(f1_score(testLabel['label'], testLabel[\"TextBlob\"],average='macro'))\n",
    "\n",
    "print(\"Accuracy for testLabel:\")\n",
    "print(accuracy_score(testLabel['label'], testLabel[\"TextBlob\"]))\n",
    "\n",
    "print(\"Contigency table for dataset testLabel:\\n\")\n",
    "tabTB = pd.crosstab(index=testLabel['label'], columns=testLabel['TextBlob']);tabTB"
   ]
  },
  {
   "cell_type": "markdown",
   "id": "7fd84b55",
   "metadata": {},
   "source": [
    "### For Vader"
   ]
  },
  {
   "cell_type": "code",
   "execution_count": 52,
   "id": "2a51060a",
   "metadata": {},
   "outputs": [
    {
     "name": "stdout",
     "output_type": "stream",
     "text": [
      "Contigency table for dataset miniLabel:\n",
      "\n",
      "F1-score for testLabel:\n",
      "0.3438634713144517\n",
      "Accuracy for testLabel:\n",
      "0.58\n",
      "Contigency table for dataset testLabel:\n",
      "\n"
     ]
    },
    {
     "data": {
      "text/html": [
       "<div>\n",
       "<style scoped>\n",
       "    .dataframe tbody tr th:only-of-type {\n",
       "        vertical-align: middle;\n",
       "    }\n",
       "\n",
       "    .dataframe tbody tr th {\n",
       "        vertical-align: top;\n",
       "    }\n",
       "\n",
       "    .dataframe thead th {\n",
       "        text-align: right;\n",
       "    }\n",
       "</style>\n",
       "<table border=\"1\" class=\"dataframe\">\n",
       "  <thead>\n",
       "    <tr style=\"text-align: right;\">\n",
       "      <th>VADER</th>\n",
       "      <th>0</th>\n",
       "      <th>1</th>\n",
       "      <th>2</th>\n",
       "    </tr>\n",
       "    <tr>\n",
       "      <th>label</th>\n",
       "      <th></th>\n",
       "      <th></th>\n",
       "      <th></th>\n",
       "    </tr>\n",
       "  </thead>\n",
       "  <tbody>\n",
       "    <tr>\n",
       "      <th>0</th>\n",
       "      <td>0</td>\n",
       "      <td>0</td>\n",
       "      <td>3</td>\n",
       "    </tr>\n",
       "    <tr>\n",
       "      <th>1</th>\n",
       "      <td>2</td>\n",
       "      <td>25</td>\n",
       "      <td>11</td>\n",
       "    </tr>\n",
       "    <tr>\n",
       "      <th>2</th>\n",
       "      <td>0</td>\n",
       "      <td>5</td>\n",
       "      <td>4</td>\n",
       "    </tr>\n",
       "  </tbody>\n",
       "</table>\n",
       "</div>"
      ],
      "text/plain": [
       "VADER  0   1   2\n",
       "label           \n",
       "0      0   0   3\n",
       "1      2  25  11\n",
       "2      0   5   4"
      ]
     },
     "execution_count": 52,
     "metadata": {},
     "output_type": "execute_result"
    }
   ],
   "source": [
    "#compute the main sentiment with VADER on the test set \n",
    "# using computeSentimentVADER function and the bests thresholds found on the miniLabel dataset\n",
    "#-------------------------------------------------------\n",
    "testLabel[\"VADER\"] = testLabel[\"comments\"].apply(lambda x: computeSentimentVADER(x,t1_f1v,t2_f1v))\n",
    "\n",
    "print(\"Contigency table for dataset miniLabel:\\n\")\n",
    "tabVADER = pd.crosstab(index=testLabel['label'], columns=testLabel['VADER']);tabVADER\n",
    "\n",
    "print(\"F1-score for testLabel:\")\n",
    "print(f1_score(testLabel['label'], testLabel[\"VADER\"],average='macro'))\n",
    "\n",
    "print(\"Accuracy for testLabel:\")\n",
    "print(accuracy_score(testLabel['label'], testLabel[\"VADER\"]))\n",
    "\n",
    "print(\"Contigency table for dataset testLabel:\\n\")\n",
    "tabTB = pd.crosstab(index=testLabel['label'], columns=testLabel['VADER']);tabTB"
   ]
  },
  {
   "cell_type": "markdown",
   "id": "6eb22364",
   "metadata": {},
   "source": [
    "# Drafts and unfinished codes"
   ]
  },
  {
   "cell_type": "code",
   "execution_count": null,
   "id": "a5abddfe",
   "metadata": {},
   "outputs": [],
   "source": [
    "#lexical richness ? \n",
    "#https://pypi.org/project/lexicalrichness/\n",
    "# Lexical readability ?\n",
    "#https://pypi.org/project/textstat/\n",
    "# word cloud of most used words for each supervisor ?"
   ]
  },
  {
   "cell_type": "code",
   "execution_count": null,
   "id": "534d47d3",
   "metadata": {},
   "outputs": [],
   "source": [
    "#plot average text length for each student and for each supervisor?"
   ]
  },
  {
   "cell_type": "code",
   "execution_count": null,
   "id": "3c9c689b",
   "metadata": {},
   "outputs": [],
   "source": [
    "#Text complexity\n",
    "#https://towardsdatascience.com/linguistic-complexity-measures-for-text-nlp-e4bf664bd660"
   ]
  },
  {
   "cell_type": "markdown",
   "id": "d199ce81",
   "metadata": {},
   "source": [
    "__Lemmatization__ \\\n",
    "Not for BERT\\\n",
    "=> groups together the inflected forms of a word so they can be analysed as a single item."
   ]
  },
  {
   "cell_type": "code",
   "execution_count": null,
   "id": "2b135ad9",
   "metadata": {},
   "outputs": [],
   "source": [
    "w_tokenizer = nltk.tokenize.WhitespaceTokenizer()\n",
    "lemmatizer = nltk.stem.WordNetLemmatizer()\n",
    "\n",
    "def lemmatize_text(text):\n",
    "    return [lemmatizer.lemmatize(w) for w in w_tokenizer.tokenize(text)]\n",
    "\n",
    "df = pd.DataFrame(['this was cheesy', 'she mva likes these books', 'wow this is great'], columns=['text'])\n",
    "df['text_lemmatized'] = df.text.apply(lemmatize_text)\n",
    "\n",
    "#documetation: \n",
    "#https://www.youtube.com/watch?v=FLZvOKSCkxY"
   ]
  },
  {
   "cell_type": "code",
   "execution_count": null,
   "id": "34373211",
   "metadata": {},
   "outputs": [],
   "source": []
  },
  {
   "cell_type": "code",
   "execution_count": null,
   "id": "273438f8",
   "metadata": {},
   "outputs": [],
   "source": []
  },
  {
   "cell_type": "code",
   "execution_count": null,
   "id": "637cc9d1",
   "metadata": {},
   "outputs": [],
   "source": [
    "#vocabulaire d'un prof\n",
    "#longeur dees meetings notes\n",
    "#most common words for each supervisor\n",
    "\n",
    "#remove most common words for each supervisor ?\n",
    "\n",
    "#Check to see if the length of the word is greater than 2 (as it was researched that there is no adjective in 2-letters)"
   ]
  },
  {
   "cell_type": "code",
   "execution_count": null,
   "id": "96d90c12",
   "metadata": {},
   "outputs": [],
   "source": [
    "#----- visualise most common and rare words in the dataframe\n",
    "nbWords = 30 #number of most common words to visualize\n",
    "commonWords = pd.Series(' '.join(dashbordCS[\"comments\"]).split()).value_counts()[:nbWords]\n",
    "rareWords = pd.Series(' '.join(dashbordCS[\"comments\"]).split()).value_counts()[-nbWords:]\n",
    "print(\"-----> most common words in dashbord:\")\n",
    "print(commonWords)\n",
    "#print(\"-----> rare words in dashbord:\")\n",
    "#print(rareWords)"
   ]
  },
  {
   "cell_type": "code",
   "execution_count": null,
   "id": "82c34a6e",
   "metadata": {},
   "outputs": [],
   "source": [
    "#remove rare words\n",
    "#freq = pd.Series(' '.join(dashbordCS[\"comments\"]).split()).value_counts()[-30:]\n",
    "#freq"
   ]
  },
  {
   "cell_type": "code",
   "execution_count": null,
   "id": "7bdd9737",
   "metadata": {},
   "outputs": [],
   "source": [
    "# il faudra enlever tout ce qui est date. Ex: monday 6th november 2017 (on le trouve au : dashbord[\"comments\"].iloc[167])\n",
    "# ou : corriger les fautes + enlver les mots qui sont des jours ou mois \n",
    "# prendre en compte https : ex dashbord[\"comments\"].iloc[22]\n",
    "# on peut compter le nombre  de https mais est-ce que je dois chercher d'autres liens ? ex : j'ai vu \"daft.ie\""
   ]
  },
  {
   "cell_type": "markdown",
   "id": "8d434ab8",
   "metadata": {},
   "source": [
    "<font color = \"blue\"> __Some NLP techniques:__ </font> \\\n",
    "__Applications of TF-IDF__\n",
    "Determining how relevant a word is to a document, or TD-IDF, is useful in many ways, for example:\n",
    "- Information retrieval: TF-IDF was invented for document search and can be used to deliver results that are most relevant to what you’re searching for.\n",
    "-  Keyword Extraction: TF-IDF is also useful for extracting keywords from text.\n",
    "\n",
    "__Applications of n-grams__\n",
    "Using these n-grams and the probabilities of the occurrences of certain words in certain sequences could improve the predictions of auto completion systems. Similarly, we use can NLP and n-grams to train voice-based personal assistant bots. For example, using a 3-gram or trigram training model, a bot will be able to understand the difference between sentences such as “what’s the temperature?” and “set the temperature.”\n",
    "\n",
    "__Bag of Words:__\n",
    "documentation: https://alvinntnu.github.io/NTNU_ENC2045_LECTURES/nlp/ml-sklearn-classification.html \\\n",
    "usefull for SVM, logistic regression but the we need labelled data. \n",
    "\n",
    "\n",
    "__Remark:__ Important descriptive statistics: \\\n",
    "Corpus Size (Number of Documents)\\\n",
    "Corpus Size (Number of Words) \\\n",
    "Distribution of the Two Classes \\\n",
    "Check Sentiment Distribution of the Current Dataset"
   ]
  },
  {
   "cell_type": "markdown",
   "id": "f98d83c5",
   "metadata": {},
   "source": [
    "__Remove the stop words__:  The main objective of building a sentiment analysis model is to determine if the given review is positive or negative but removing stopwords removes the negative words which changes the whole meaning of the review i.e negative to postive. \\\n",
    "However, ifwe are working with basic NLP techniques like BOW, W2V or TF-IDF then removing stopwords is a good idea because stopwords act like noise for these methods. \\\n",
    "We will therefore not remove stops words for sentiment analysis but may remove them for another nlp algorithm."
   ]
  },
  {
   "cell_type": "code",
   "execution_count": null,
   "id": "c00089d7",
   "metadata": {},
   "outputs": [],
   "source": [
    "#----- Stop words removing\n",
    "#-----------------------------------------------------------------------\n",
    "stop=stopwords.words('english') #english stop words\n",
    "f_stopWords = lambda x: \" \".join(x for x in x.split() if x not in stop) #to apply stop words removing on the dataframe\n",
    "idxNoNa = np.where(dashbordC[\"comments\"].isna()==False) #indexes of non NaN values \n",
    "dashbordCS = pd.DataFrame(dashbordC.iloc[idxNoNa].copy()) #define new dashbord without NaN values\n",
    "dashbordCS[\"comments\"] = dashbordCS[\"comments\"].apply(f_stopWords) #remove stop words"
   ]
  },
  {
   "cell_type": "markdown",
   "id": "98d416db",
   "metadata": {},
   "source": [
    "__Correction of Typos__: Since the supervisors use technical vocabulary, a spelling correction could compromise the meaning of the text"
   ]
  },
  {
   "cell_type": "code",
   "execution_count": null,
   "id": "4e795ac7",
   "metadata": {},
   "outputs": [],
   "source": [
    "#----- Spelling checker\n",
    "#-----------------------------------------------------------------------\n",
    "spell=Speller(lang=\"en\")\n",
    "WORD = re.compile(r'\\w+')\n",
    "\n",
    "def reTokenize(doc):\n",
    "    tokens = WORD.findall(doc)\n",
    "    return tokens\n",
    "\n",
    "def spell_correct(text):\n",
    "    sptext = []\n",
    "    for doc in text:\n",
    "        sptext.append(' '.join([spell(w).lower() for w in reTokenize(doc)]))      \n",
    "    return sptext    \n",
    "\n",
    "\n",
    "text = [\"Hi, welcmoe to speling.\",\"This is jsut an exapmle, but cosnider a veri big coprus.\"] \n",
    "print(spell_correct(text)) \n",
    "\n",
    "#utilisation: \n",
    "#spell_correct([dashbordCS[\"comments\"].iloc[s ]])\n",
    "\n",
    "#documentation:\n",
    "#https://stackoverflow.com/questions/62809934/how-to-efficiently-use-spell-correction-for-a-large-text-corpus-in-python"
   ]
  },
  {
   "cell_type": "markdown",
   "id": "5c101dae",
   "metadata": {},
   "source": [
    "__Tokenization:__ not needed for textblob or BERT"
   ]
  },
  {
   "cell_type": "markdown",
   "id": "e265e6c9",
   "metadata": {},
   "source": [
    "__Normalization__\n",
    "transforms word abbreviations into real words"
   ]
  },
  {
   "cell_type": "markdown",
   "id": "a415c889",
   "metadata": {},
   "source": []
  },
  {
   "cell_type": "code",
   "execution_count": null,
   "id": "8862978a",
   "metadata": {},
   "outputs": [],
   "source": [
    "####"
   ]
  },
  {
   "cell_type": "code",
   "execution_count": null,
   "id": "529fc93c",
   "metadata": {},
   "outputs": [],
   "source": [
    "def computeSentimentBERT0(txt,t1=1,t2=3):\n",
    "    tokens = tokenizer.encode(txt, return_tensors='pt') #encode string into a sequence of numbers\n",
    "    result = modelBERT0(tokens) #pass the tokens to the model\n",
    "    score = int(torch.argmax(result.logits)) #score between 0,1,2,3 and 4\n",
    "    \n",
    "    if score <= t1: #if score = 0 or 1\n",
    "        sentiment = -1 #negative sentiment\n",
    "    elif score >= t2: #if score = 3 or 4\n",
    "        sentiment = 1 #positive sentiment\n",
    "    else: #if score = 2\n",
    "        sentiment = 0 #neutral sentiment\n",
    "    return (sentiment)\n",
    "#result.logits[0].detach().numpy() -> transforms into numpy"
   ]
  }
 ],
 "metadata": {
  "kernelspec": {
   "display_name": "Python 3 (ipykernel)",
   "language": "python",
   "name": "python3"
  },
  "language_info": {
   "codemirror_mode": {
    "name": "ipython",
    "version": 3
   },
   "file_extension": ".py",
   "mimetype": "text/x-python",
   "name": "python",
   "nbconvert_exporter": "python",
   "pygments_lexer": "ipython3",
   "version": "3.9.7"
  },
  "toc": {
   "base_numbering": 1,
   "nav_menu": {},
   "number_sections": true,
   "sideBar": true,
   "skip_h1_title": false,
   "title_cell": "Table of Contents",
   "title_sidebar": "Contents",
   "toc_cell": false,
   "toc_position": {
    "height": "calc(100% - 180px)",
    "left": "10px",
    "top": "150px",
    "width": "165px"
   },
   "toc_section_display": true,
   "toc_window_display": true
  }
 },
 "nbformat": 4,
 "nbformat_minor": 5
}
